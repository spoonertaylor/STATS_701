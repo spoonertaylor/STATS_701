{
 "cells": [
  {
   "cell_type": "markdown",
   "metadata": {},
   "source": [
    "## Stats701-001 Homework 1: Data Types, Functions and Conditionals\n",
    "### Taylor Spooner\n",
    "#### spoonert@umich.edu\n",
    "\n",
    "**Collaboration**: I did not collaborate with anyone for this assignment.\n",
    "\n",
    "**Time**: Problem 1 took ~5 minutes; Problem 2 took ~10 minutes; Problem 3 took ~30 minutes."
   ]
  },
  {
   "cell_type": "markdown",
   "metadata": {},
   "source": [
    "### Problem 1: Defining Simple Functions\n",
    "#### 1. Define a function called ```say_hello```, which takes no arguments and prints the string ```Hello, world!``` when called."
   ]
  },
  {
   "cell_type": "code",
   "execution_count": 2,
   "metadata": {
    "collapsed": false
   },
   "outputs": [
    {
     "name": "stdout",
     "output_type": "stream",
     "text": [
      "Hello, world!\n"
     ]
    }
   ],
   "source": [
    "def say_hello():\n",
    "    print(\"Hello, world!\")\n",
    "    \n",
    "say_hello()"
   ]
  },
  {
   "cell_type": "markdown",
   "metadata": {},
   "source": [
    "#### 2. Define a function called ```goat_pad```, which takes a string as its only argument, and prints that string, prepended and appended with the string goat. So, ```goat_pad('bird')``` should produce the output  ```goatbirdgoat```, ```goat_pad('_')``` should produce the output ```goat_goat``` and so on. You may assume that the input is a string, so there is no need to perform any error checking in your function."
   ]
  },
  {
   "cell_type": "code",
   "execution_count": 5,
   "metadata": {
    "collapsed": false
   },
   "outputs": [
    {
     "name": "stdout",
     "output_type": "stream",
     "text": [
      "goatbirdgoat\n",
      "goat_goat\n"
     ]
    }
   ],
   "source": [
    "def goat_pad(s):\n",
    "    print(\"goat\" + s + \"goat\")\n",
    "    \n",
    "goat_pad(\"bird\")\n",
    "goat_pad(\"_\")"
   ]
  },
  {
   "cell_type": "markdown",
   "metadata": {},
   "source": [
    "#### 3. Define a function called ```print_n```, which takes two arguments, a string ```s``` and an integer ```n``` (in that order), and prints the string n times, each on a separate line. You may assume that ```s``` is a string and that the integer ```n``` is non-negative, so there is no need to perform any error checking in your function."
   ]
  },
  {
   "cell_type": "code",
   "execution_count": 9,
   "metadata": {
    "collapsed": false
   },
   "outputs": [
    {
     "name": "stdout",
     "output_type": "stream",
     "text": [
      "goatgoat\n",
      "\n",
      "goatgoatgoat\n"
     ]
    }
   ],
   "source": [
    "def print_n(s, n):\n",
    "    print(s*n)\n",
    "\n",
    "print_n(\"goat\", 2)\n",
    "print_n(\"goat\", 0)\n",
    "print_n(\"goat\", 3)"
   ]
  },
  {
   "cell_type": "markdown",
   "metadata": {},
   "source": [
    "### Problem 2: Euclid's algorithm"
   ]
  },
  {
   "cell_type": "markdown",
   "metadata": {},
   "source": [
    "#### 1. The Wikipedia page above includes several pseudocode implementations of Euclid's algorithm. Choose one of these, and use it to implement a function gcd, which takes two integers as its arguments and returns their GCD. You may assume that both inputs are integers, so there is no need to include any error checking in your function."
   ]
  },
  {
   "cell_type": "code",
   "execution_count": 13,
   "metadata": {
    "collapsed": true
   },
   "outputs": [],
   "source": [
    "# Chose to implement the division-based version.\n",
    "def gcd(m, n):\n",
    "    while n != 0:\n",
    "        m, n = n, m % n\n",
    "    return m"
   ]
  },
  {
   "cell_type": "markdown",
   "metadata": {},
   "source": [
    "#### 2. Use your function to evaluate the GCDs of the following pairs of numbers:"
   ]
  },
  {
   "cell_type": "markdown",
   "metadata": {},
   "source": [
    "**(a) 20, 10**"
   ]
  },
  {
   "cell_type": "code",
   "execution_count": 17,
   "metadata": {
    "collapsed": false
   },
   "outputs": [
    {
     "data": {
      "text/plain": [
       "10"
      ]
     },
     "execution_count": 17,
     "metadata": {},
     "output_type": "execute_result"
    }
   ],
   "source": [
    "gcd(20, 10)"
   ]
  },
  {
   "cell_type": "markdown",
   "metadata": {},
   "source": [
    "**(b) 2017, 2018**"
   ]
  },
  {
   "cell_type": "code",
   "execution_count": 19,
   "metadata": {
    "collapsed": false
   },
   "outputs": [
    {
     "data": {
      "text/plain": [
       "1"
      ]
     },
     "execution_count": 19,
     "metadata": {},
     "output_type": "execute_result"
    }
   ],
   "source": [
    "gcd(2017, 2018)"
   ]
  },
  {
   "cell_type": "markdown",
   "metadata": {},
   "source": [
    "**(c) 1000, 250**"
   ]
  },
  {
   "cell_type": "code",
   "execution_count": 21,
   "metadata": {
    "collapsed": false
   },
   "outputs": [
    {
     "data": {
      "text/plain": [
       "250"
      ]
     },
     "execution_count": 21,
     "metadata": {},
     "output_type": "execute_result"
    }
   ],
   "source": [
    "gcd(1000, 250)"
   ]
  },
  {
   "cell_type": "markdown",
   "metadata": {},
   "source": [
    "**(d) 5040, 60**"
   ]
  },
  {
   "cell_type": "code",
   "execution_count": 22,
   "metadata": {
    "collapsed": false
   },
   "outputs": [
    {
     "data": {
      "text/plain": [
       "60"
      ]
     },
     "execution_count": 22,
     "metadata": {},
     "output_type": "execute_result"
    }
   ],
   "source": [
    "gcd(5040, 60)"
   ]
  },
  {
   "cell_type": "markdown",
   "metadata": {},
   "source": [
    "#### 3. What does your function do if one or both of the arguments are negative? Does this make sense?"
   ]
  },
  {
   "cell_type": "markdown",
   "metadata": {},
   "source": [
    "Below we see two examples of the function running with one or both of the arguments being negative. \n",
    "\n",
    "When one of the arguments is negative, the function behaves the same as if both arguments are positive. This makes sense because a negative number factors the exact same as its positive version, however, for the negative case one of the factors is negative. For example, for the second call to the function, -20 factors into $2(-10)$ or $(-2)(10)$ and 30 factors into $3(10)$. We can see that the divisor that is similar for the two numbers is 10 and is thus the gcd.\n",
    "\n",
    "Using the same reasoning as when one argument is negative, we would expect that when both of the arguments are negative we should get the same result as when both are positive. Using the example with -20 and -30, we saw that -20 can factor in the above two ways and -30 factors into $3(-10)$ or $(-3)(10)$. There are now two common divisors, 10 and -10. However, since $10 > -10$ we would expect that the gcd be 10. Looking at our output this is not the case. Our function is producing the wrong result."
   ]
  },
  {
   "cell_type": "code",
   "execution_count": 31,
   "metadata": {
    "collapsed": false
   },
   "outputs": [
    {
     "name": "stdout",
     "output_type": "stream",
     "text": [
      "4\n",
      "10\n",
      "3\n"
     ]
    }
   ],
   "source": [
    "print(gcd(-4, 12))\n",
    "print(gcd(-20, 30))\n",
    "print(gcd(-12, 9))"
   ]
  },
  {
   "cell_type": "code",
   "execution_count": 33,
   "metadata": {
    "collapsed": false
   },
   "outputs": [
    {
     "name": "stdout",
     "output_type": "stream",
     "text": [
      "-4\n",
      "-10\n",
      "-3\n"
     ]
    }
   ],
   "source": [
    "print(gcd(-4, -12))\n",
    "print(gcd(-20, -30))\n",
    "print(gcd(-12, -9))"
   ]
  },
  {
   "cell_type": "markdown",
   "metadata": {},
   "source": [
    "### Problem 3: Approximating Euler's number $e$"
   ]
  },
  {
   "cell_type": "markdown",
   "metadata": {},
   "source": [
    "#### 1. Define a function called ```euler_limit``` that takes as an argument an integer ```n```, and returns a float that approximates $e$ by taking $x = n$ in: \n",
    "$$\\lim_{x \\to \\infty} \\bigg(1 + \\frac{1}{x}\\bigg)^ x$$\n",
    "\n",
    "#### You may assume that the input to your function will be a positive integer."
   ]
  },
  {
   "cell_type": "code",
   "execution_count": 40,
   "metadata": {
    "collapsed": false
   },
   "outputs": [
    {
     "name": "stdout",
     "output_type": "stream",
     "text": [
      "2.5937424601000023\n",
      "2.7048138294215285\n",
      "2.7169239322355936\n"
     ]
    }
   ],
   "source": [
    "def euler_limit(n):\n",
    "    return (1+float(1)/n)**n\n",
    "\n",
    "print(euler_limit(10))\n",
    "print(euler_limit(100))\n",
    "print(euler_limit(1000))"
   ]
  },
  {
   "cell_type": "markdown",
   "metadata": {},
   "source": [
    "#### 2. Define a function called ```euler_infinite_sum``` that takes a single integer argument ```n```, and returns an approximation to $e$ based on the first ```n``` terms of the sum:\n",
    "\n",
    "$$e = \\sum_{x=0}^\\infty \\frac{1}{k!} = 1 + 1 + \\frac{1}{2} + \\frac{1}{6} + \\frac{1}{24} + \\cdots$$\n",
    "\n",
    "#### Your function should take a non-negative integer as input and return a float. You may assume that the input will be a non-negative integer, so you do not need to include error checking in your function. "
   ]
  },
  {
   "cell_type": "code",
   "execution_count": 79,
   "metadata": {
    "collapsed": false
   },
   "outputs": [
    {
     "name": "stdout",
     "output_type": "stream",
     "text": [
      "2.6666666666666665\n",
      "0\n",
      "1.0\n",
      "2.7182818284590455\n"
     ]
    }
   ],
   "source": [
    "import math\n",
    "def euler_infinite_sum(n):\n",
    "    # s will be used as our running sum through the for loop.\n",
    "    s = 0\n",
    "    for x in range(n):\n",
    "        # Update sum\n",
    "        s = s + float(1)/math.factorial(x)\n",
    "    return s\n",
    "\n",
    "print(euler_infinite_sum(4))\n",
    "print(euler_infinite_sum(0))\n",
    "print(euler_infinite_sum(1))\n",
    "print(euler_infinite_sum(100))"
   ]
  },
  {
   "cell_type": "markdown",
   "metadata": {},
   "source": [
    "#### 3. Define a function called ```euler_approx``` that takes a single argument, a float ```epsilon```, and uses the sum to obtain an approximation of $e$ that is within epsilon of the true value of $e$. "
   ]
  },
  {
   "cell_type": "code",
   "execution_count": 67,
   "metadata": {
    "collapsed": false
   },
   "outputs": [
    {
     "name": "stdout",
     "output_type": "stream",
     "text": [
      "2.0\n",
      "2.5\n",
      "2.708333333333333\n",
      "2.7166666666666663\n"
     ]
    }
   ],
   "source": [
    "def euler_approx(epsilon):\n",
    "    # s will be used as our running sum again\n",
    "    s = 0\n",
    "    i = 0\n",
    "    e = math.exp(1) # True value of e\n",
    "    while s < e - epsilon or s > e + epsilon:\n",
    "        s = s + float(1)/math.factorial(i)\n",
    "        i = i+1\n",
    "    return s\n",
    "\n",
    "print(euler_approx(1))\n",
    "print(euler_approx(.5))\n",
    "print(euler_approx(.05))\n",
    "print(euler_approx(.005))"
   ]
  },
  {
   "cell_type": "markdown",
   "metadata": {},
   "source": [
    "#### 4. Define a function called ```print_euler_sum_table``` that takes a single positive integer ```n``` as an argument and prints the successive values obtained from ```euler_infinite_sum(k)``` as ```k``` ranges from 1 to ```n```, one per line."
   ]
  },
  {
   "cell_type": "code",
   "execution_count": 83,
   "metadata": {
    "collapsed": false
   },
   "outputs": [
    {
     "name": "stdout",
     "output_type": "stream",
     "text": [
      "0\n",
      "1.0\n",
      "2.0\n",
      "2.5\n",
      "2.6666666666666665\n"
     ]
    }
   ],
   "source": [
    "def print_euler_sum_table(n):\n",
    "    for x in range(n+1):\n",
    "        print(euler_infinite_sum(x))\n",
    "    \n",
    "print_euler_sum_table(4)"
   ]
  }
 ],
 "metadata": {
  "kernelspec": {
   "display_name": "Python 3",
   "language": "python",
   "name": "python3"
  },
  "language_info": {
   "codemirror_mode": {
    "name": "ipython",
    "version": 3
   },
   "file_extension": ".py",
   "mimetype": "text/x-python",
   "name": "python",
   "nbconvert_exporter": "python",
   "pygments_lexer": "ipython3",
   "version": "3.6.0"
  }
 },
 "nbformat": 4,
 "nbformat_minor": 2
}
