{
 "cells": [
  {
   "cell_type": "markdown",
   "metadata": {},
   "source": [
    "## Stats701-001 Homework 3: Working With Files\n",
    "### Taylor Spooner\n",
    "#### spoonert@umich.edu\n",
    "\n",
    "**Collaboration**: I did not collaborate with anyone for this assignment.\n",
    "\n",
    "**Time**: "
   ]
  },
  {
   "cell_type": "markdown",
   "metadata": {},
   "source": [
    "### Problem 1: More Fun with Tuples\n",
    "\n",
    "#### 1. You may recall that the functions min and max take any (positive) number of arguments, but that sum does not behave similarly. Write a function called `my_sum` that takes any number of arguments (including no arguments), and returns the sum of its arguments. You need not perform any error checking for this function. Reminder: by convention, an empty sum is taken to be 0."
   ]
  },
  {
   "cell_type": "code",
   "execution_count": 4,
   "metadata": {
    "collapsed": false
   },
   "outputs": [],
   "source": [
    "def my_sum(*args):\n",
    "    # No arguments, return 0\n",
    "    if len(args) == 0:\n",
    "        return 0\n",
    "    # Sum the arguments\n",
    "    else:\n",
    "        return sum(args)"
   ]
  },
  {
   "cell_type": "code",
   "execution_count": 5,
   "metadata": {
    "collapsed": false
   },
   "outputs": [
    {
     "data": {
      "text/plain": [
       "21"
      ]
     },
     "execution_count": 5,
     "metadata": {},
     "output_type": "execute_result"
    }
   ],
   "source": [
    "my_sum(1,2,3,4,5,6)"
   ]
  },
  {
   "cell_type": "code",
   "execution_count": 6,
   "metadata": {
    "collapsed": false
   },
   "outputs": [
    {
     "data": {
      "text/plain": [
       "0"
      ]
     },
     "execution_count": 6,
     "metadata": {},
     "output_type": "execute_result"
    }
   ],
   "source": [
    "my_sum()"
   ]
  },
  {
   "cell_type": "markdown",
   "metadata": {},
   "source": [
    "#### 2. Write a function called `reverse_tuple` that takes a tuple as its only argument and returns a tuple that is the reverse of the input. That is, the output should have as its first entry the last entry of the input, the second entry of the output should be the second-to-last entry of the input, and so on. You need not perform any error checking for this function."
   ]
  },
  {
   "cell_type": "code",
   "execution_count": 9,
   "metadata": {
    "collapsed": true
   },
   "outputs": [],
   "source": [
    "def reverse_tuple(tup):\n",
    "    return tup[::-1]"
   ]
  },
  {
   "cell_type": "code",
   "execution_count": 10,
   "metadata": {
    "collapsed": false
   },
   "outputs": [
    {
     "data": {
      "text/plain": [
       "(2, 1)"
      ]
     },
     "execution_count": 10,
     "metadata": {},
     "output_type": "execute_result"
    }
   ],
   "source": [
    "reverse_tuple((1,2))"
   ]
  },
  {
   "cell_type": "code",
   "execution_count": 11,
   "metadata": {
    "collapsed": false
   },
   "outputs": [
    {
     "data": {
      "text/plain": [
       "(4, 3, 1, 4, 3, 2)"
      ]
     },
     "execution_count": 11,
     "metadata": {},
     "output_type": "execute_result"
    }
   ],
   "source": [
    "reverse_tuple((2,3,4,1,3,4))"
   ]
  },
  {
   "cell_type": "markdown",
   "metadata": {},
   "source": [
    "#### 3. Write a function called ```rotate_tuple``` that takes two arguments: a tuple and an integer, in that order. Letting n be the integer given in the input, your function should return a tuple of the same length as the input tuple, but with its entries \"rotated\" by `n`. \n",
    "- **If `n` is positive, this should mean to \"push forward\" all the entries of the input tuple by `n` entries, with entries that \"go off the end\" of the tuple being wrapped around to the beginning, so that the i-th entry of the input tuple becomes the (i + n)-th entry of the output, wrapping around to the beginning of the tuple if this index goes off the end.** \n",
    "- **It should be clear that if `n` is negative, then this merely corresponds to rotating the entries in the other direction, with entries of the input tuple being \"pushed backward\".** \n",
    "- **Your function should perform error checking to ensure that the inputs are of appropriate types. If the user supplies a non-integer, print a message to alert the user that the input was not as expected, and try to recover by casting it to an integer. Hint: a try/catch statement will likely be useful here.**"
   ]
  },
  {
   "cell_type": "code",
   "execution_count": 67,
   "metadata": {
    "collapsed": true
   },
   "outputs": [],
   "source": [
    "def rotate_tuple(tup, n):\n",
    "    # Check if type is Tuple, if not raise error.\n",
    "    if not isinstance(tup, tuple):\n",
    "        raise TypeError(\"The first argument must be of type tuple.\") \n",
    "    # Check if n is an int.\n",
    "    elif not isinstance(n, int):\n",
    "        print(\"The second argument was not of type integer, trying to cast to int anyways.\")\n",
    "        # If not an int, try and make it an int\n",
    "        try:\n",
    "            n = int(n)\n",
    "            print(\"Casting to integer successful. Using n =\", n)\n",
    "        # If cannot cast to int, raise error.\n",
    "        except ValueError:\n",
    "            print(\"Could not cast argument to type integer.\")\n",
    "            raise\n",
    "    l = len(tup) # Length of tuple\n",
    "    if n < 0:\n",
    "        sign = True\n",
    "    else:\n",
    "        sign = False\n",
    "    # If n is greater than the length of the tuple (in absolute value)\n",
    "    # That is the same as moving it n % l (the remainder of n/l)\n",
    "    if abs(n) > l:\n",
    "        n = abs(n) % l\n",
    "        if sign: #Add the negative sign back.\n",
    "            n = -1*n\n",
    "    rtrn = [None]*l\n",
    "    for i in range(len(tup)):\n",
    "        # For negative n, entries pushed backwards\n",
    "        if sign:\n",
    "            if i + n < 0:\n",
    "                idx = i+n+l\n",
    "                rtrn[idx] = tup[i]\n",
    "            else:\n",
    "                rtrn[i+n] = tup[i]\n",
    "        # For postive n we will push the list forward\n",
    "        else:\n",
    "            # If the element gets pushed out the end, wrap it around\n",
    "            if i + n > (l-1):\n",
    "                idx = i+n-l\n",
    "                rtrn[idx] = tup[i]\n",
    "            # If not, element i goes to (i+n) element. \n",
    "            else:\n",
    "                rtrn[i+n] = tup[i]\n",
    "    \n",
    "    return tuple(rtrn)"
   ]
  },
  {
   "cell_type": "code",
   "execution_count": 74,
   "metadata": {
    "collapsed": false
   },
   "outputs": [
    {
     "data": {
      "text/plain": [
       "(1, 2, 3)"
      ]
     },
     "execution_count": 74,
     "metadata": {},
     "output_type": "execute_result"
    }
   ],
   "source": [
    "rotate_tuple((1,2,3),0)"
   ]
  },
  {
   "cell_type": "code",
   "execution_count": 78,
   "metadata": {
    "collapsed": false
   },
   "outputs": [
    {
     "data": {
      "text/plain": [
       "(2, 3, 1)"
      ]
     },
     "execution_count": 78,
     "metadata": {},
     "output_type": "execute_result"
    }
   ],
   "source": [
    "rotate_tuple((1,2,3), 2)"
   ]
  },
  {
   "cell_type": "code",
   "execution_count": 79,
   "metadata": {
    "collapsed": false
   },
   "outputs": [
    {
     "data": {
      "text/plain": [
       "(3, 1, 2)"
      ]
     },
     "execution_count": 79,
     "metadata": {},
     "output_type": "execute_result"
    }
   ],
   "source": [
    "rotate_tuple((1,2,3), -2)"
   ]
  },
  {
   "cell_type": "code",
   "execution_count": 82,
   "metadata": {
    "collapsed": false
   },
   "outputs": [
    {
     "name": "stdout",
     "output_type": "stream",
     "text": [
      "The second argument was not of type integer, trying to cast to int anyways.\n",
      "Casting to integer successful. Using n = 25\n"
     ]
    },
    {
     "data": {
      "text/plain": [
       "('goat', 'cat', 'dog', 'bird')"
      ]
     },
     "execution_count": 82,
     "metadata": {},
     "output_type": "execute_result"
    }
   ],
   "source": [
    "rotate_tuple((\"cat\", \"dog\", \"bird\", \"goat\"), 25.6)"
   ]
  },
  {
   "cell_type": "code",
   "execution_count": 83,
   "metadata": {
    "collapsed": false
   },
   "outputs": [
    {
     "name": "stdout",
     "output_type": "stream",
     "text": [
      "The second argument was not of type integer, trying to cast to int anyways.\n",
      "Could not cast argument to type integer.\n"
     ]
    },
    {
     "ename": "ValueError",
     "evalue": "invalid literal for int() with base 10: 'cow'",
     "output_type": "error",
     "traceback": [
      "\u001b[0;31m---------------------------------------------------------------------------\u001b[0m",
      "\u001b[0;31mValueError\u001b[0m                                Traceback (most recent call last)",
      "\u001b[0;32m<ipython-input-83-109ff571f896>\u001b[0m in \u001b[0;36m<module>\u001b[0;34m()\u001b[0m\n\u001b[0;32m----> 1\u001b[0;31m \u001b[0mrotate_tuple\u001b[0m\u001b[1;33m(\u001b[0m\u001b[1;33m(\u001b[0m\u001b[1;34m\"cat\"\u001b[0m\u001b[1;33m,\u001b[0m \u001b[1;34m\"dog\"\u001b[0m\u001b[1;33m,\u001b[0m \u001b[1;34m\"bird\"\u001b[0m\u001b[1;33m,\u001b[0m \u001b[1;34m\"goat\"\u001b[0m\u001b[1;33m)\u001b[0m\u001b[1;33m,\u001b[0m \u001b[1;34m\"cow\"\u001b[0m\u001b[1;33m)\u001b[0m\u001b[1;33m\u001b[0m\u001b[0m\n\u001b[0m",
      "\u001b[0;32m<ipython-input-67-90d90fa2e568>\u001b[0m in \u001b[0;36mrotate_tuple\u001b[0;34m(tup, n)\u001b[0m\n\u001b[1;32m      8\u001b[0m         \u001b[1;31m# If not an int, try and make it an int\u001b[0m\u001b[1;33m\u001b[0m\u001b[1;33m\u001b[0m\u001b[0m\n\u001b[1;32m      9\u001b[0m         \u001b[1;32mtry\u001b[0m\u001b[1;33m:\u001b[0m\u001b[1;33m\u001b[0m\u001b[0m\n\u001b[0;32m---> 10\u001b[0;31m             \u001b[0mn\u001b[0m \u001b[1;33m=\u001b[0m \u001b[0mint\u001b[0m\u001b[1;33m(\u001b[0m\u001b[0mn\u001b[0m\u001b[1;33m)\u001b[0m\u001b[1;33m\u001b[0m\u001b[0m\n\u001b[0m\u001b[1;32m     11\u001b[0m             \u001b[0mprint\u001b[0m\u001b[1;33m(\u001b[0m\u001b[1;34m\"Casting to integer successful. Using n =\"\u001b[0m\u001b[1;33m,\u001b[0m \u001b[0mn\u001b[0m\u001b[1;33m)\u001b[0m\u001b[1;33m\u001b[0m\u001b[0m\n\u001b[1;32m     12\u001b[0m         \u001b[1;31m# If cannot cast to int, raise error.\u001b[0m\u001b[1;33m\u001b[0m\u001b[1;33m\u001b[0m\u001b[0m\n",
      "\u001b[0;31mValueError\u001b[0m: invalid literal for int() with base 10: 'cow'"
     ]
    }
   ],
   "source": [
    "rotate_tuple((\"cat\", \"dog\", \"bird\", \"goat\"), \"cow\")"
   ]
  },
  {
   "cell_type": "markdown",
   "metadata": {},
   "source": [
    "### Problem 2: More Fun with Vectors"
   ]
  },
  {
   "cell_type": "markdown",
   "metadata": {},
   "source": [
    "#### 1. Write a function `is_valid_sparse_vector` that takes one argument, and returns `True` if and only if the input is a valid sparse vector, and returns `False` otherwise."
   ]
  },
  {
   "cell_type": "code",
   "execution_count": null,
   "metadata": {
    "collapsed": true
   },
   "outputs": [],
   "source": []
  }
 ],
 "metadata": {
  "kernelspec": {
   "display_name": "Python 3",
   "language": "python",
   "name": "python3"
  },
  "language_info": {
   "codemirror_mode": {
    "name": "ipython",
    "version": 3
   },
   "file_extension": ".py",
   "mimetype": "text/x-python",
   "name": "python",
   "nbconvert_exporter": "python",
   "pygments_lexer": "ipython3",
   "version": "3.6.0"
  }
 },
 "nbformat": 4,
 "nbformat_minor": 2
}
