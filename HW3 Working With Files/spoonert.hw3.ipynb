{
 "cells": [
  {
   "cell_type": "markdown",
   "metadata": {},
   "source": [
    "## Stats701-001 Homework 3: Working With Files\n",
    "### Taylor Spooner\n",
    "#### spoonert@umich.edu\n",
    "\n",
    "**Collaboration**: I did not collaborate with anyone for this assignment.\n",
    "\n",
    "**Time**: "
   ]
  },
  {
   "cell_type": "markdown",
   "metadata": {},
   "source": [
    "### Problem 1: More Fun with Tuples\n",
    "\n",
    "#### 1. You may recall that the functions min and max take any (positive) number of arguments, but that sum does not behave similarly. Write a function called `my_sum` that takes any number of arguments (including no arguments), and returns the sum of its arguments. You need not perform any error checking for this function. Reminder: by convention, an empty sum is taken to be 0."
   ]
  },
  {
   "cell_type": "code",
   "execution_count": 4,
   "metadata": {
    "collapsed": false
   },
   "outputs": [],
   "source": [
    "def my_sum(*args):\n",
    "    # No arguments, return 0\n",
    "    if len(args) == 0:\n",
    "        return 0\n",
    "    # Sum the arguments\n",
    "    else:\n",
    "        return sum(args)"
   ]
  },
  {
   "cell_type": "code",
   "execution_count": 5,
   "metadata": {
    "collapsed": false
   },
   "outputs": [
    {
     "data": {
      "text/plain": [
       "21"
      ]
     },
     "execution_count": 5,
     "metadata": {},
     "output_type": "execute_result"
    }
   ],
   "source": [
    "my_sum(1,2,3,4,5,6)"
   ]
  },
  {
   "cell_type": "code",
   "execution_count": 6,
   "metadata": {
    "collapsed": false
   },
   "outputs": [
    {
     "data": {
      "text/plain": [
       "0"
      ]
     },
     "execution_count": 6,
     "metadata": {},
     "output_type": "execute_result"
    }
   ],
   "source": [
    "my_sum()"
   ]
  },
  {
   "cell_type": "markdown",
   "metadata": {},
   "source": [
    "#### 2. Write a function called `reverse_tuple` that takes a tuple as its only argument and returns a tuple that is the reverse of the input. That is, the output should have as its first entry the last entry of the input, the second entry of the output should be the second-to-last entry of the input, and so on. You need not perform any error checking for this function."
   ]
  },
  {
   "cell_type": "code",
   "execution_count": 9,
   "metadata": {
    "collapsed": true
   },
   "outputs": [],
   "source": [
    "def reverse_tuple(tup):\n",
    "    return tup[::-1]"
   ]
  },
  {
   "cell_type": "code",
   "execution_count": 10,
   "metadata": {
    "collapsed": false
   },
   "outputs": [
    {
     "data": {
      "text/plain": [
       "(2, 1)"
      ]
     },
     "execution_count": 10,
     "metadata": {},
     "output_type": "execute_result"
    }
   ],
   "source": [
    "reverse_tuple((1,2))"
   ]
  },
  {
   "cell_type": "code",
   "execution_count": 11,
   "metadata": {
    "collapsed": false
   },
   "outputs": [
    {
     "data": {
      "text/plain": [
       "(4, 3, 1, 4, 3, 2)"
      ]
     },
     "execution_count": 11,
     "metadata": {},
     "output_type": "execute_result"
    }
   ],
   "source": [
    "reverse_tuple((2,3,4,1,3,4))"
   ]
  },
  {
   "cell_type": "markdown",
   "metadata": {},
   "source": [
    "#### 3. Write a function called ```rotate_tuple``` that takes two arguments: a tuple and an integer, in that order. Letting n be the integer given in the input, your function should return a tuple of the same length as the input tuple, but with its entries \"rotated\" by `n`. \n",
    "- **If `n` is positive, this should mean to \"push forward\" all the entries of the input tuple by `n` entries, with entries that \"go off the end\" of the tuple being wrapped around to the beginning, so that the i-th entry of the input tuple becomes the (i + n)-th entry of the output, wrapping around to the beginning of the tuple if this index goes off the end.** \n",
    "- **It should be clear that if `n` is negative, then this merely corresponds to rotating the entries in the other direction, with entries of the input tuple being \"pushed backward\".** \n",
    "- **Your function should perform error checking to ensure that the inputs are of appropriate types. If the user supplies a non-integer, print a message to alert the user that the input was not as expected, and try to recover by casting it to an integer. Hint: a try/catch statement will likely be useful here.**"
   ]
  },
  {
   "cell_type": "code",
   "execution_count": 2,
   "metadata": {
    "collapsed": true
   },
   "outputs": [],
   "source": [
    "def rotate_tuple(tup, n):\n",
    "    # Check if type is Tuple, if not raise error.\n",
    "    if not isinstance(tup, tuple):\n",
    "        raise TypeError(\"The first argument must be of type tuple.\") \n",
    "    # Check if n is an int.\n",
    "    elif not isinstance(n, int):\n",
    "        print(\"The second argument was not of type integer, trying to cast to int anyways.\")\n",
    "        # If not an int, try and make it an int\n",
    "        try:\n",
    "            n = int(n)\n",
    "            print(\"Casting to integer successful. Using n =\", n)\n",
    "        # If cannot cast to int, raise error.\n",
    "        except ValueError:\n",
    "            print(\"Could not cast argument to type integer.\")\n",
    "            raise\n",
    "    l = len(tup) # Length of tuple\n",
    "    if n < 0:\n",
    "        sign = True\n",
    "    else:\n",
    "        sign = False\n",
    "    # If n is greater than the length of the tuple (in absolute value)\n",
    "    # That is the same as moving it n % l (the remainder of n/l)\n",
    "    if abs(n) > l:\n",
    "        n = abs(n) % l\n",
    "        if sign: #Add the negative sign back.\n",
    "            n = -1*n\n",
    "    rtrn = [None]*l # List to populate which we will return\n",
    "    for i in range(len(tup)):\n",
    "        # For negative n, entries pushed backwards\n",
    "        if sign:\n",
    "            if i + n < 0:\n",
    "                idx = i+n+l\n",
    "                rtrn[idx] = tup[i]\n",
    "            else:\n",
    "                rtrn[i+n] = tup[i]\n",
    "        # For postive n we will push the list forward\n",
    "        else:\n",
    "            # If the element gets pushed out the end, wrap it around\n",
    "            if i + n > (l-1):\n",
    "                idx = i+n-l\n",
    "                rtrn[idx] = tup[i]\n",
    "            # If not, element i goes to (i+n) element. \n",
    "            else:\n",
    "                rtrn[i+n] = tup[i]\n",
    "    \n",
    "    return tuple(rtrn)"
   ]
  },
  {
   "cell_type": "code",
   "execution_count": 6,
   "metadata": {
    "collapsed": false
   },
   "outputs": [
    {
     "data": {
      "text/plain": [
       "1"
      ]
     },
     "execution_count": 6,
     "metadata": {},
     "output_type": "execute_result"
    }
   ],
   "source": [
    "rotate_tuple((1,2,3),0)"
   ]
  },
  {
   "cell_type": "code",
   "execution_count": 78,
   "metadata": {
    "collapsed": false
   },
   "outputs": [
    {
     "data": {
      "text/plain": [
       "(2, 3, 1)"
      ]
     },
     "execution_count": 78,
     "metadata": {},
     "output_type": "execute_result"
    }
   ],
   "source": [
    "rotate_tuple((1,2,3), 2)"
   ]
  },
  {
   "cell_type": "code",
   "execution_count": 79,
   "metadata": {
    "collapsed": false
   },
   "outputs": [
    {
     "data": {
      "text/plain": [
       "(3, 1, 2)"
      ]
     },
     "execution_count": 79,
     "metadata": {},
     "output_type": "execute_result"
    }
   ],
   "source": [
    "rotate_tuple((1,2,3), -2)"
   ]
  },
  {
   "cell_type": "code",
   "execution_count": 82,
   "metadata": {
    "collapsed": false
   },
   "outputs": [
    {
     "name": "stdout",
     "output_type": "stream",
     "text": [
      "The second argument was not of type integer, trying to cast to int anyways.\n",
      "Casting to integer successful. Using n = 25\n"
     ]
    },
    {
     "data": {
      "text/plain": [
       "('goat', 'cat', 'dog', 'bird')"
      ]
     },
     "execution_count": 82,
     "metadata": {},
     "output_type": "execute_result"
    }
   ],
   "source": [
    "rotate_tuple((\"cat\", \"dog\", \"bird\", \"goat\"), 25.6)"
   ]
  },
  {
   "cell_type": "code",
   "execution_count": 83,
   "metadata": {
    "collapsed": false
   },
   "outputs": [
    {
     "name": "stdout",
     "output_type": "stream",
     "text": [
      "The second argument was not of type integer, trying to cast to int anyways.\n",
      "Could not cast argument to type integer.\n"
     ]
    },
    {
     "ename": "ValueError",
     "evalue": "invalid literal for int() with base 10: 'cow'",
     "output_type": "error",
     "traceback": [
      "\u001b[0;31m---------------------------------------------------------------------------\u001b[0m",
      "\u001b[0;31mValueError\u001b[0m                                Traceback (most recent call last)",
      "\u001b[0;32m<ipython-input-83-109ff571f896>\u001b[0m in \u001b[0;36m<module>\u001b[0;34m()\u001b[0m\n\u001b[0;32m----> 1\u001b[0;31m \u001b[0mrotate_tuple\u001b[0m\u001b[1;33m(\u001b[0m\u001b[1;33m(\u001b[0m\u001b[1;34m\"cat\"\u001b[0m\u001b[1;33m,\u001b[0m \u001b[1;34m\"dog\"\u001b[0m\u001b[1;33m,\u001b[0m \u001b[1;34m\"bird\"\u001b[0m\u001b[1;33m,\u001b[0m \u001b[1;34m\"goat\"\u001b[0m\u001b[1;33m)\u001b[0m\u001b[1;33m,\u001b[0m \u001b[1;34m\"cow\"\u001b[0m\u001b[1;33m)\u001b[0m\u001b[1;33m\u001b[0m\u001b[0m\n\u001b[0m",
      "\u001b[0;32m<ipython-input-67-90d90fa2e568>\u001b[0m in \u001b[0;36mrotate_tuple\u001b[0;34m(tup, n)\u001b[0m\n\u001b[1;32m      8\u001b[0m         \u001b[1;31m# If not an int, try and make it an int\u001b[0m\u001b[1;33m\u001b[0m\u001b[1;33m\u001b[0m\u001b[0m\n\u001b[1;32m      9\u001b[0m         \u001b[1;32mtry\u001b[0m\u001b[1;33m:\u001b[0m\u001b[1;33m\u001b[0m\u001b[0m\n\u001b[0;32m---> 10\u001b[0;31m             \u001b[0mn\u001b[0m \u001b[1;33m=\u001b[0m \u001b[0mint\u001b[0m\u001b[1;33m(\u001b[0m\u001b[0mn\u001b[0m\u001b[1;33m)\u001b[0m\u001b[1;33m\u001b[0m\u001b[0m\n\u001b[0m\u001b[1;32m     11\u001b[0m             \u001b[0mprint\u001b[0m\u001b[1;33m(\u001b[0m\u001b[1;34m\"Casting to integer successful. Using n =\"\u001b[0m\u001b[1;33m,\u001b[0m \u001b[0mn\u001b[0m\u001b[1;33m)\u001b[0m\u001b[1;33m\u001b[0m\u001b[0m\n\u001b[1;32m     12\u001b[0m         \u001b[1;31m# If cannot cast to int, raise error.\u001b[0m\u001b[1;33m\u001b[0m\u001b[1;33m\u001b[0m\u001b[0m\n",
      "\u001b[0;31mValueError\u001b[0m: invalid literal for int() with base 10: 'cow'"
     ]
    }
   ],
   "source": [
    "rotate_tuple((\"cat\", \"dog\", \"bird\", \"goat\"), \"cow\")"
   ]
  },
  {
   "cell_type": "markdown",
   "metadata": {},
   "source": [
    "### Problem 2: More Fun with Vectors"
   ]
  },
  {
   "cell_type": "markdown",
   "metadata": {},
   "source": [
    "#### 1. Write a function `is_valid_sparse_vector` that takes one argument, and returns `True` if and only if the input is a valid sparse vector, and returns `False` otherwise."
   ]
  },
  {
   "cell_type": "code",
   "execution_count": 12,
   "metadata": {
    "collapsed": false
   },
   "outputs": [],
   "source": [
    "def is_valid_sparse_vector(vec):\n",
    "    # If the input type is not a dictionary, it is not a valid sparse vector\n",
    "    if not isinstance(vec, dict):\n",
    "        return False\n",
    "    # Loop through the (index, value) pairs of the dictionary\n",
    "    for idx, el in vec.items():\n",
    "        # If the index is a non-positive integer, not a valid sparse vector\n",
    "        if idx <= 0 or not isinstance(idx, int):\n",
    "            return False\n",
    "        # If the element is not a float, not a valid sparse vector\n",
    "        elif not isinstance(el, float):\n",
    "            return False\n",
    "    # Making it through the checks means it is a valid sparse vector.\n",
    "    return True"
   ]
  },
  {
   "cell_type": "code",
   "execution_count": 8,
   "metadata": {
    "collapsed": false
   },
   "outputs": [
    {
     "data": {
      "text/plain": [
       "True"
      ]
     },
     "execution_count": 8,
     "metadata": {},
     "output_type": "execute_result"
    }
   ],
   "source": [
    "myd = {1: 1.8, 3: 4.3, 85: 122.0}\n",
    "is_valid_sparse_vector(myd)"
   ]
  },
  {
   "cell_type": "code",
   "execution_count": 9,
   "metadata": {
    "collapsed": false
   },
   "outputs": [
    {
     "data": {
      "text/plain": [
       "False"
      ]
     },
     "execution_count": 9,
     "metadata": {},
     "output_type": "execute_result"
    }
   ],
   "source": [
    "myd2 = {0: 1.8, 2:2.5}\n",
    "is_valid_sparse_vector(myd2)"
   ]
  },
  {
   "cell_type": "code",
   "execution_count": 10,
   "metadata": {
    "collapsed": false
   },
   "outputs": [
    {
     "data": {
      "text/plain": [
       "False"
      ]
     },
     "execution_count": 10,
     "metadata": {},
     "output_type": "execute_result"
    }
   ],
   "source": [
    "myd3 = {1:1, 2:2, 3:\"cat\"}\n",
    "is_valid_sparse_vector(myd3)"
   ]
  },
  {
   "cell_type": "markdown",
   "metadata": {},
   "source": [
    "#### 2. Write a function `sparse_inner_product` that takes two \"sparse vectors\" as its inputs, and returns a float that is the value of the inner product of the vectors that the inputs represent. Your function should raise an appropriate error in the event that either of the inputs is not a valid sparse vector."
   ]
  },
  {
   "cell_type": "code",
   "execution_count": 28,
   "metadata": {
    "collapsed": true
   },
   "outputs": [],
   "source": [
    "def sparse_inner_product(vec1, vec2):\n",
    "    # Check that both arguments are valid sparse vectors\n",
    "    if not is_valid_sparse_vector(vec1):\n",
    "        raise TypeError(\"The first argument is not a valid sparse vector.\")\n",
    "    elif not is_valid_sparse_vector(vec2):\n",
    "        raise TypeError(\"The second argument is not a valid sparse vector.\")\n",
    "    in_sum = 0 # Inner sum to return\n",
    "    idx = list(vec1.keys() & vec2.keys()) # Only need to look at the keys that are in both\n",
    "    # Loop through the first vector\n",
    "    for i in idx:\n",
    "        # Add to the inner sum\n",
    "        in_sum += vec1.get(i)*vec2.get(i)\n",
    "    return in_sum"
   ]
  },
  {
   "cell_type": "code",
   "execution_count": 25,
   "metadata": {
    "collapsed": false
   },
   "outputs": [
    {
     "data": {
      "text/plain": [
       "146.00000000000003"
      ]
     },
     "execution_count": 25,
     "metadata": {},
     "output_type": "execute_result"
    }
   ],
   "source": [
    "myd = {1: 1.8, 3: 4.3, 85: 122.0}\n",
    "myd2 = {1: 1.8, 2:2.5, 3: 33.2}\n",
    "sparse_inner_product(myd, myd2)"
   ]
  },
  {
   "cell_type": "code",
   "execution_count": 26,
   "metadata": {
    "collapsed": false
   },
   "outputs": [
    {
     "data": {
      "text/plain": [
       "0"
      ]
     },
     "execution_count": 26,
     "metadata": {},
     "output_type": "execute_result"
    }
   ],
   "source": [
    "myd = {1:4.6}\n",
    "myd2 = {3:4.0, 5:6.4}\n",
    "sparse_inner_product(myd, myd2)"
   ]
  },
  {
   "cell_type": "code",
   "execution_count": 27,
   "metadata": {
    "collapsed": false
   },
   "outputs": [
    {
     "ename": "TypeError",
     "evalue": "The second argument is not a valid sparse vector.",
     "output_type": "error",
     "traceback": [
      "\u001b[0;31m---------------------------------------------------------------------------\u001b[0m",
      "\u001b[0;31mTypeError\u001b[0m                                 Traceback (most recent call last)",
      "\u001b[0;32m<ipython-input-27-78cca7c70d94>\u001b[0m in \u001b[0;36m<module>\u001b[0;34m()\u001b[0m\n\u001b[1;32m      1\u001b[0m \u001b[0mval_d\u001b[0m \u001b[1;33m=\u001b[0m \u001b[1;33m{\u001b[0m\u001b[1;36m1\u001b[0m\u001b[1;33m:\u001b[0m\u001b[1;36m4.5\u001b[0m\u001b[1;33m,\u001b[0m \u001b[1;36m3\u001b[0m\u001b[1;33m:\u001b[0m\u001b[1;36m6.8\u001b[0m\u001b[1;33m}\u001b[0m\u001b[1;33m\u001b[0m\u001b[0m\n\u001b[1;32m      2\u001b[0m \u001b[0minval_d\u001b[0m \u001b[1;33m=\u001b[0m \u001b[1;33m{\u001b[0m\u001b[1;36m1\u001b[0m\u001b[1;33m:\u001b[0m\u001b[1;34m\"cat\"\u001b[0m\u001b[1;33m}\u001b[0m\u001b[1;33m\u001b[0m\u001b[0m\n\u001b[0;32m----> 3\u001b[0;31m \u001b[0msparse_inner_product\u001b[0m\u001b[1;33m(\u001b[0m\u001b[0mval_d\u001b[0m\u001b[1;33m,\u001b[0m \u001b[0minval_d\u001b[0m\u001b[1;33m)\u001b[0m\u001b[1;33m\u001b[0m\u001b[0m\n\u001b[0m",
      "\u001b[0;32m<ipython-input-23-f8e66a0a24d1>\u001b[0m in \u001b[0;36msparse_inner_product\u001b[0;34m(vec1, vec2)\u001b[0m\n\u001b[1;32m      4\u001b[0m         \u001b[1;32mraise\u001b[0m \u001b[0mTypeError\u001b[0m\u001b[1;33m(\u001b[0m\u001b[1;34m\"The first argument is not a valid sparse vector.\"\u001b[0m\u001b[1;33m)\u001b[0m\u001b[1;33m\u001b[0m\u001b[0m\n\u001b[1;32m      5\u001b[0m     \u001b[1;32melif\u001b[0m \u001b[1;32mnot\u001b[0m \u001b[0mis_valid_sparse_vector\u001b[0m\u001b[1;33m(\u001b[0m\u001b[0mvec2\u001b[0m\u001b[1;33m)\u001b[0m\u001b[1;33m:\u001b[0m\u001b[1;33m\u001b[0m\u001b[0m\n\u001b[0;32m----> 6\u001b[0;31m         \u001b[1;32mraise\u001b[0m \u001b[0mTypeError\u001b[0m\u001b[1;33m(\u001b[0m\u001b[1;34m\"The second argument is not a valid sparse vector.\"\u001b[0m\u001b[1;33m)\u001b[0m\u001b[1;33m\u001b[0m\u001b[0m\n\u001b[0m\u001b[1;32m      7\u001b[0m     \u001b[0min_sum\u001b[0m \u001b[1;33m=\u001b[0m \u001b[1;36m0\u001b[0m \u001b[1;31m# Inner sum to return\u001b[0m\u001b[1;33m\u001b[0m\u001b[0m\n\u001b[1;32m      8\u001b[0m     \u001b[0midx\u001b[0m \u001b[1;33m=\u001b[0m \u001b[0mlist\u001b[0m\u001b[1;33m(\u001b[0m\u001b[0mvec1\u001b[0m\u001b[1;33m.\u001b[0m\u001b[0mkeys\u001b[0m\u001b[1;33m(\u001b[0m\u001b[1;33m)\u001b[0m \u001b[1;33m&\u001b[0m \u001b[0mvec2\u001b[0m\u001b[1;33m.\u001b[0m\u001b[0mkeys\u001b[0m\u001b[1;33m(\u001b[0m\u001b[1;33m)\u001b[0m\u001b[1;33m)\u001b[0m \u001b[1;31m# Only need to look at the keys that are in both\u001b[0m\u001b[1;33m\u001b[0m\u001b[0m\n",
      "\u001b[0;31mTypeError\u001b[0m: The second argument is not a valid sparse vector."
     ]
    }
   ],
   "source": [
    "val_d = {1:4.5, 3:6.8}\n",
    "inval_d = {1:\"cat\"}\n",
    "sparse_inner_product(val_d, inval_d)"
   ]
  },
  {
   "cell_type": "markdown",
   "metadata": {},
   "source": [
    "### Problem 3: Counting Word Bigrams"
   ]
  },
  {
   "cell_type": "markdown",
   "metadata": {},
   "source": [
    "#### 1. Write a function `count_bigrams_in_file` that takes a filename as its only argument. Your function should read from the given file, and return a dictionary whose keys are bigrams (given in the tuple form above), and values are the counts for those bigrams. Again, your function should ignore punctuation, spaces, newlines and capitalization. The strings in your key tuples should be lower-case. Your function should use a try-catch statement to raise an error with an appropriate message to alert the user in the event that the given file cannot be opened, and a different error in the event that the provided argument isn't a string at all."
   ]
  },
  {
   "cell_type": "code",
   "execution_count": 105,
   "metadata": {
    "collapsed": true
   },
   "outputs": [],
   "source": [
    "import re\n",
    "# Function that opens a file, reads the file line by line, and saves all the words to a list.\n",
    "def get_words(file):\n",
    "    # First try and open the file and get all the words in a long list.\n",
    "    try:\n",
    "        words = []\n",
    "        with open(file) as f:\n",
    "            # Try to read the file as a string\n",
    "            try:\n",
    "                # Read file line by line\n",
    "                for line in f:\n",
    "                    # For each line, replace all the punctuations\n",
    "                    line = re.sub(r'[^\\w\\s]', '', line)\n",
    "                    # For each word in the line, split by a space.\n",
    "                    for wd in line.split():\n",
    "                        # Add the lower case version of the word to the list.\n",
    "                        words.append(wd.lower())\n",
    "            except UnicodeDecodeError:\n",
    "                raise\n",
    "    except IOError:\n",
    "        raise\n",
    "    return words"
   ]
  },
  {
   "cell_type": "code",
   "execution_count": 106,
   "metadata": {
    "collapsed": true
   },
   "outputs": [],
   "source": [
    "def count_bigrams_in_file(file):\n",
    "    words = get_words(file)\n",
    "    rtrn_dict = {} # What we will return\n",
    "    # Loop through the string\n",
    "    # We will form each bigram by the current character and the next character\n",
    "    for i in range(len(words)-1):\n",
    "        bi = tuple((words[i], words[i+1]))\n",
    "        rtrn_dict[bi] = rtrn_dict.get(bi, 0) + 1\n",
    "    \n",
    "    return rtrn_dict"
   ]
  },
  {
   "cell_type": "markdown",
   "metadata": {
    "collapsed": false,
    "scrolled": false
   },
   "source": [
    "#### 2. Download the fille mobydick.txt from the course webpage: http://www-personal.mich.edu/~klevin/teaching/Winter2018/STATS701/mobydick.txt. Run your function on this file, and pickle the resulting dictionary in a file called mb.bigrams.pickle."
   ]
  },
  {
   "cell_type": "code",
   "execution_count": 104,
   "metadata": {
    "collapsed": false
   },
   "outputs": [],
   "source": [
    "import pickle\n",
    "res = count_bigrams_in_file(r'mobydick.txt')\n",
    "pickle.dump(res, open(\"mb.bigrams.pickle\", \"wb\"))"
   ]
  },
  {
   "cell_type": "markdown",
   "metadata": {},
   "source": [
    "#### 3. We say that word A is collocated with word B in a text if words A and B occur immediately one after another (in either order). That is, words A and B are collocated if and only if either of the tuples (A, B) or (B, A) are present in the text. Write a function `collocations` that takes a filename as its only argument and returns a dictionary. Your function should read from the given file (raising an appropriate error if the file cannot be opened or if the argument isn't a string at all) and return a dictionary whose keys are all the strings appearing in the file (again ignoring case and stripping away all spaces, newlines and punctuation) and the value of word A is a Python set containing all the words collocated with A."
   ]
  },
  {
   "cell_type": "code",
   "execution_count": 203,
   "metadata": {
    "collapsed": true
   },
   "outputs": [],
   "source": [
    "# ?????? Can a word be a collocation with itself????\n",
    "def collections(file):\n",
    "    words = get_words(file)\n",
    "    rtrn_dict = {}\n",
    "    for i in range(len(words)):\n",
    "        wd = words[i]\n",
    "        # Add a new word to the dictionary\n",
    "        if wd not in rtrn_dict:\n",
    "            rtrn_dict[wd] = set()\n",
    "        # If not the first element in the list, we can check the words before.\n",
    "        if i != 0:\n",
    "            # Add to set, sets \n",
    "            rtrn_dict[wd].add(words[i-1])\n",
    "        # If the index isn't the last element, add word after\n",
    "        if i != (len(words)-1):\n",
    "            rtrn_dict[wd].add(words[i+1])          \n",
    "    \n",
    "    return rtrn_dict"
   ]
  },
  {
   "cell_type": "code",
   "execution_count": 204,
   "metadata": {
    "collapsed": false
   },
   "outputs": [
    {
     "data": {
      "text/plain": [
       "{'a': {'half', 'league'},\n",
       " 'all': {'in', 'onward'},\n",
       " 'death': {'of', 'rode'},\n",
       " 'half': {'a', 'league'},\n",
       " 'hundred': {'six'},\n",
       " 'in': {'all', 'the'},\n",
       " 'league': {'a', 'half', 'onward'},\n",
       " 'of': {'death', 'valley'},\n",
       " 'onward': {'all', 'league'},\n",
       " 'rode': {'death', 'the'},\n",
       " 'six': {'hundred', 'the'},\n",
       " 'the': {'in', 'rode', 'six', 'valley'},\n",
       " 'valley': {'of', 'the'}}"
      ]
     },
     "execution_count": 204,
     "metadata": {},
     "output_type": "execute_result"
    }
   ],
   "source": [
    "collections(\"animals.txt\")"
   ]
  },
  {
   "cell_type": "markdown",
   "metadata": {},
   "source": [
    "#### 4. Run your function on the file mobydick.txt and pickle the resulting dictionary in a file called mb.colloc.pickle. Please include this file in your submission."
   ]
  },
  {
   "cell_type": "code",
   "execution_count": 205,
   "metadata": {
    "collapsed": true
   },
   "outputs": [],
   "source": [
    "res = collections(r'mobydick.txt')\n",
    "pickle.dump(res, open(\"mb.colloc.pickle\", \"wb\"))"
   ]
  }
 ],
 "metadata": {
  "kernelspec": {
   "display_name": "Python 3",
   "language": "python",
   "name": "python3"
  },
  "language_info": {
   "codemirror_mode": {
    "name": "ipython",
    "version": 3
   },
   "file_extension": ".py",
   "mimetype": "text/x-python",
   "name": "python",
   "nbconvert_exporter": "python",
   "pygments_lexer": "ipython3",
   "version": "3.6.0"
  }
 },
 "nbformat": 4,
 "nbformat_minor": 2
}
