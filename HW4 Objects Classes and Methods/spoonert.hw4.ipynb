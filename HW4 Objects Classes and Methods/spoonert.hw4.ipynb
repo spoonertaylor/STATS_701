{
 "cells": [
  {
   "cell_type": "markdown",
   "metadata": {},
   "source": [
    "## Stats701-001 Homework 4: Objects, Classes and Methods\n",
    "### Taylor Spooner\n",
    "#### spoonert@umich.edu\n",
    "\n",
    "**Collaboration**: I did not collaborate with anyone for this assignment.\n",
    "\n",
    "**Time**: "
   ]
  },
  {
   "cell_type": "markdown",
   "metadata": {},
   "source": [
    "### Problem 1: Still More Fun with Vectors\n",
    "#### 1. Define a class ```Vector```. \n",
    "- **Every vector should have a dimension (a non-negative integer) and a list or tuple of its entries.**\n",
    "- **The initializer for your class should take the dimension as its first argument and a list or tuple of numbers (ints or floats), representing the vector’s entries, as its second argument.** \n",
    "- **Choose sensible default behavior for the case where the user applies only a dimension and no entries. **\n",
    "- **The initializer should raise a sensible error in the case where the dimension is invalid (i.e., wrong type or a negative number), and should also raise an error in the event that the dimension and the number of supplied entries disagree.**"
   ]
  },
  {
   "cell_type": "code",
   "execution_count": 3,
   "metadata": {
    "collapsed": false
   },
   "outputs": [],
   "source": [
    "class Vector():\n",
    "    '''Class represents a vector\n",
    "    Attributes: a dimension (a non-negative int) and a list of its entries'''\n",
    "    \n",
    "    def __init__(self, dim, entries = None):\n",
    "        '''Initializer for Vector class. Dimension is required and must be a non-negative int.\n",
    "        The entries are not, default value is a tuple of 0's with length equal to the dimension.'''\n",
    "        if not isinstance(dim,int):\n",
    "            raise TypeError(\"Dimension should be of type int, %s given.\" % type(dim))\n",
    "        elif dim < 0:\n",
    "            raise ValueError(\"Dimension needs to be non-negative.\")\n",
    "        else:\n",
    "             self.dim = dim\n",
    "        \n",
    "        # Check if entries argument was given or not\n",
    "        # If not, default it is None, init the vector to all 0's.\n",
    "        if entries is None:\n",
    "            self.entries = (0,)*dim\n",
    "        # If it is given, check if right type\n",
    "        elif not isinstance(entries, tuple):\n",
    "            raise TypeError(\"Entries argument needs to be of type tuple, %s given.\" % type(entries))\n",
    "        # Check that all the entries are ints or floats\n",
    "        elif not all(isinstance(i, (int,float)) for i in entries):\n",
    "            raise TypeError(\"All elements of the entries argument must be of type int or float.\")\n",
    "        # Check that the length of entries matches the dim\n",
    "        elif len(entries) != dim:\n",
    "            raise ValueError(\"Number of entries needs to match dimension of vector (dim argument).\")\n",
    "        else:\n",
    "            self.entries = entries\n",
    "            \n",
    "    def dot(self, vec):\n",
    "        '''Problem 4:\n",
    "        Arguments:\n",
    "        - self: a Vector object that the method is getting called on.\n",
    "        - vec: a Vector object\n",
    "        Returns: Inner product of two vectors'''\n",
    "        if not isinstance(vec, Vector):\n",
    "            raise TypeError(\"Argument must be of type Vector, %s supplied\" % type(vec))\n",
    "        elif self.dim != vec.dim:\n",
    "            raise ValueError(\"Dimensions of two vectors must be equal in length.\")\n",
    "        # Counter for inner sum.\n",
    "        in_sum = 0\n",
    "        \n",
    "        for i in range(self.dim):\n",
    "            # Compute inner sum\n",
    "            in_sum = in_sum + self.entries[i]*vec.entries[i]\n",
    "        return in_sum\n",
    "    \n",
    "    def __mul__(self, w):\n",
    "        '''Problem 5: Multiplication\n",
    "        Arguments:\n",
    "        - self: a Vector object that the method is getting called on\n",
    "        - w: Either a scalar or Vector object to element-wise multiply by self\n",
    "        Returns: Vector object'''\n",
    "        # Temp list to hold values at the end\n",
    "        temp = [1]*self.dim\n",
    "        if (not isinstance(w, Vector) and not isinstance(w, int) and\n",
    "            not isinstance(w, float) and not isinstance(w, complex)):\n",
    "                raise TypeError(\"Argument w must be of type Vector, float, int or complex.\")\n",
    "        elif isinstance(w, Vector):\n",
    "            if self.dim != w.dim:\n",
    "                raise ValueError(\"The two vectors must have the same dimension.\")\n",
    "            for i in range(self.dim):\n",
    "                # Multiply the entries together\n",
    "                temp[i] = self.entries[i]*w.entries[i]\n",
    "        else:\n",
    "            # Loop through entries\n",
    "            for i, val in enumerate(self.entries):\n",
    "                # Multiply by scalar\n",
    "                temp[i] = val*w\n",
    "        return Vector(self.dim, tuple(temp))\n",
    "    \n",
    "    def __rmul__(self,w):\n",
    "        '''Problem 5: Right Multiplication of a Vector with a scalar/Vector'''\n",
    "        return self.__mul__(w)\n",
    "    \n",
    "    def norm(self, p):\n",
    "        '''Problem 6: \n",
    "        Arguemnts: p a non-negative float or int\n",
    "        Returns the p-norm of the Vector object'''\n",
    "        if not isinstance(p, int) and not isinstance(p, float):\n",
    "            raise TypeError(\"Argument p must be of type float or int.\")\n",
    "        elif p < 0:\n",
    "            raise ValueError(\"Argument p must be greater than or equal to 0.\")\n",
    "        elif p == 0:\n",
    "            # Number of non-zero entries is the total number of elements minus \n",
    "            # number of 0's.\n",
    "            return self.dim - self.entries.count(0)\n",
    "        # If p is infinity\n",
    "        elif p == float('Inf'):\n",
    "            m = -1 # temp max value\n",
    "            for v in self.entries:\n",
    "                v_temp = abs(v) # |v_i|^p\n",
    "                # If this entry is greater than the max, \n",
    "                # update max\n",
    "                if m < v_temp:\n",
    "                    m = v_tem\n",
    "            return m\n",
    "        # p is between 0 and inf\n",
    "        else:\n",
    "            rtrn_sum = 0\n",
    "            for v in self.entries:\n",
    "                rtrn_sum += abs(v)**p\n",
    "            return rtrn_sum**(1/p)"
   ]
  },
  {
   "cell_type": "code",
   "execution_count": 143,
   "metadata": {
    "collapsed": false
   },
   "outputs": [
    {
     "data": {
      "text/plain": [
       "{'dim': 5, 'entries': (0, 0, 0, 0, 0)}"
      ]
     },
     "execution_count": 143,
     "metadata": {},
     "output_type": "execute_result"
    }
   ],
   "source": [
    "v2 = Vector(5)\n",
    "vars(v2)"
   ]
  },
  {
   "cell_type": "code",
   "execution_count": 6,
   "metadata": {
    "collapsed": false
   },
   "outputs": [
    {
     "data": {
      "text/plain": [
       "{'dim': 0, 'entries': ()}"
      ]
     },
     "execution_count": 6,
     "metadata": {},
     "output_type": "execute_result"
    }
   ],
   "source": [
    "v = Vector(0 , ())\n",
    "vars(v)"
   ]
  },
  {
   "cell_type": "code",
   "execution_count": 7,
   "metadata": {
    "collapsed": false
   },
   "outputs": [
    {
     "ename": "TypeError",
     "evalue": "All elements of the entries argument must be of type int or float.",
     "output_type": "error",
     "traceback": [
      "\u001b[0;31m---------------------------------------------------------------------------\u001b[0m",
      "\u001b[0;31mTypeError\u001b[0m                                 Traceback (most recent call last)",
      "\u001b[0;32m<ipython-input-7-c9f4766512e6>\u001b[0m in \u001b[0;36m<module>\u001b[0;34m()\u001b[0m\n\u001b[0;32m----> 1\u001b[0;31m \u001b[0mv3\u001b[0m \u001b[1;33m=\u001b[0m \u001b[0mVector\u001b[0m\u001b[1;33m(\u001b[0m\u001b[1;36m3\u001b[0m\u001b[1;33m,\u001b[0m \u001b[1;33m(\u001b[0m\u001b[1;36m1\u001b[0m\u001b[1;33m,\u001b[0m\u001b[1;36m2\u001b[0m\u001b[1;33m,\u001b[0m\u001b[1;34m\"3\"\u001b[0m\u001b[1;33m)\u001b[0m\u001b[1;33m)\u001b[0m\u001b[1;33m\u001b[0m\u001b[0m\n\u001b[0m",
      "\u001b[0;32m<ipython-input-3-9049a19a79f4>\u001b[0m in \u001b[0;36m__init__\u001b[0;34m(self, dim, entries)\u001b[0m\n\u001b[1;32m     22\u001b[0m         \u001b[1;31m# Check that all the entries are ints or floats\u001b[0m\u001b[1;33m\u001b[0m\u001b[1;33m\u001b[0m\u001b[0m\n\u001b[1;32m     23\u001b[0m         \u001b[1;32melif\u001b[0m \u001b[1;32mnot\u001b[0m \u001b[0mall\u001b[0m\u001b[1;33m(\u001b[0m\u001b[0misinstance\u001b[0m\u001b[1;33m(\u001b[0m\u001b[0mi\u001b[0m\u001b[1;33m,\u001b[0m \u001b[1;33m(\u001b[0m\u001b[0mint\u001b[0m\u001b[1;33m,\u001b[0m\u001b[0mfloat\u001b[0m\u001b[1;33m)\u001b[0m\u001b[1;33m)\u001b[0m \u001b[1;32mfor\u001b[0m \u001b[0mi\u001b[0m \u001b[1;32min\u001b[0m \u001b[0mentries\u001b[0m\u001b[1;33m)\u001b[0m\u001b[1;33m:\u001b[0m\u001b[1;33m\u001b[0m\u001b[0m\n\u001b[0;32m---> 24\u001b[0;31m             \u001b[1;32mraise\u001b[0m \u001b[0mTypeError\u001b[0m\u001b[1;33m(\u001b[0m\u001b[1;34m\"All elements of the entries argument must be of type int or float.\"\u001b[0m\u001b[1;33m)\u001b[0m\u001b[1;33m\u001b[0m\u001b[0m\n\u001b[0m\u001b[1;32m     25\u001b[0m         \u001b[1;31m# Check that the length of entries matches the dim\u001b[0m\u001b[1;33m\u001b[0m\u001b[1;33m\u001b[0m\u001b[0m\n\u001b[1;32m     26\u001b[0m         \u001b[1;32melif\u001b[0m \u001b[0mlen\u001b[0m\u001b[1;33m(\u001b[0m\u001b[0mentries\u001b[0m\u001b[1;33m)\u001b[0m \u001b[1;33m!=\u001b[0m \u001b[0mdim\u001b[0m\u001b[1;33m:\u001b[0m\u001b[1;33m\u001b[0m\u001b[0m\n",
      "\u001b[0;31mTypeError\u001b[0m: All elements of the entries argument must be of type int or float."
     ]
    }
   ],
   "source": [
    "v3 = Vector(3, (1,2,\"3\"))"
   ]
  },
  {
   "cell_type": "code",
   "execution_count": 8,
   "metadata": {
    "collapsed": true
   },
   "outputs": [],
   "source": [
    "v3 = Vector(3, (1,2,3))"
   ]
  },
  {
   "cell_type": "markdown",
   "metadata": {},
   "source": [
    "#### 2. Did you choose to make the vector’s entries a tuple or a list (there is no wrong answer here, although I would say one is better than the other in this context)? Defend your choice.\n",
    "I chose to make the vector's entries a tuple. I did this because while I wanted to have the ability to change elements of the entries attribute (mutability in lists), I did not want a user to be able to use the `append` method. If a user appended a new element to the entries attribute (or removed an entry), the entries and dimension would no longer match up. This made me go with tuple. If later in development I find that I really want to change the entries, I guess I could define a function in the `Vector` class to do so."
   ]
  },
  {
   "cell_type": "markdown",
   "metadata": {},
   "source": [
    "#### 3. Are the dimension and entries class attributes or instance attributes? Why is this the right design choice?\n",
    "The dimension and entries attributes are **instance attributes.** When we create a new instance of a Vector() the attributes are owned by that specific instance and not shared by all instances. This is the right design choice because each Vector that we create we will want to have its own dimension and entries. There are no attributes that should have shared, common values across all instances."
   ]
  },
  {
   "cell_type": "markdown",
   "metadata": {},
   "source": [
    "#### 4. Implement a method `Vector.dot` that takes a single `Vector` as its argument and returns the inner product of the caller with the given `Vector` object. Your method should raise an appropriate error in the event that the argument is not of the correct type or in the event that the dimensions of the two vectors do not agree.\n",
    "\n",
    "Method was implemented in the Vector class in problem 1. Its use is shown below."
   ]
  },
  {
   "cell_type": "code",
   "execution_count": 133,
   "metadata": {
    "collapsed": false
   },
   "outputs": [
    {
     "ename": "TypeError",
     "evalue": "Argument must be of type Vector, <class 'str'> supplied",
     "output_type": "error",
     "traceback": [
      "\u001b[0;31m---------------------------------------------------------------------------\u001b[0m",
      "\u001b[0;31mTypeError\u001b[0m                                 Traceback (most recent call last)",
      "\u001b[0;32m<ipython-input-133-c9328bdb4dc5>\u001b[0m in \u001b[0;36m<module>\u001b[0;34m()\u001b[0m\n\u001b[0;32m----> 1\u001b[0;31m \u001b[0mv\u001b[0m\u001b[1;33m.\u001b[0m\u001b[0mdot\u001b[0m\u001b[1;33m(\u001b[0m\u001b[1;34m\"cat\"\u001b[0m\u001b[1;33m)\u001b[0m\u001b[1;33m\u001b[0m\u001b[0m\n\u001b[0m",
      "\u001b[0;32m<ipython-input-81-dc9eea6d1c3e>\u001b[0m in \u001b[0;36mdot\u001b[0;34m(self, vec)\u001b[0m\n\u001b[1;32m     36\u001b[0m         Returns: Inner product of two vectors'''\n\u001b[1;32m     37\u001b[0m         \u001b[1;32mif\u001b[0m \u001b[1;32mnot\u001b[0m \u001b[0misinstance\u001b[0m\u001b[1;33m(\u001b[0m\u001b[0mvec\u001b[0m\u001b[1;33m,\u001b[0m \u001b[0mVector\u001b[0m\u001b[1;33m)\u001b[0m\u001b[1;33m:\u001b[0m\u001b[1;33m\u001b[0m\u001b[0m\n\u001b[0;32m---> 38\u001b[0;31m             \u001b[1;32mraise\u001b[0m \u001b[0mTypeError\u001b[0m\u001b[1;33m(\u001b[0m\u001b[1;34m\"Argument must be of type Vector, %s supplied\"\u001b[0m \u001b[1;33m%\u001b[0m \u001b[0mtype\u001b[0m\u001b[1;33m(\u001b[0m\u001b[0mvec\u001b[0m\u001b[1;33m)\u001b[0m\u001b[1;33m)\u001b[0m\u001b[1;33m\u001b[0m\u001b[0m\n\u001b[0m\u001b[1;32m     39\u001b[0m         \u001b[1;32melif\u001b[0m \u001b[0mself\u001b[0m\u001b[1;33m.\u001b[0m\u001b[0mdim\u001b[0m \u001b[1;33m!=\u001b[0m \u001b[0mvec\u001b[0m\u001b[1;33m.\u001b[0m\u001b[0mdim\u001b[0m\u001b[1;33m:\u001b[0m\u001b[1;33m\u001b[0m\u001b[0m\n\u001b[1;32m     40\u001b[0m             \u001b[1;32mraise\u001b[0m \u001b[0mValueError\u001b[0m\u001b[1;33m(\u001b[0m\u001b[1;34m\"Dimensions of two vectors must be equal in length.\"\u001b[0m\u001b[1;33m)\u001b[0m\u001b[1;33m\u001b[0m\u001b[0m\n",
      "\u001b[0;31mTypeError\u001b[0m: Argument must be of type Vector, <class 'str'> supplied"
     ]
    }
   ],
   "source": [
    "v.dot(\"cat\")"
   ]
  },
  {
   "cell_type": "code",
   "execution_count": 9,
   "metadata": {
    "collapsed": false
   },
   "outputs": [
    {
     "data": {
      "text/plain": [
       "32"
      ]
     },
     "execution_count": 9,
     "metadata": {},
     "output_type": "execute_result"
    }
   ],
   "source": [
    "v1 = Vector(3, (1,2,3))\n",
    "v2 = Vector(3, (4,5,6))\n",
    "v1.dot(v2)"
   ]
  },
  {
   "cell_type": "markdown",
   "metadata": {},
   "source": [
    "#### 5. We would also like our `Vector` class to support scalar multiplication. Left- or right multiplication by a scalar, e.g., `2*v` or `v*2`, where `v` is a `Vector` object, should result in a new `Vector` object with its entries all scaled by the given scalar. We will also follow R and numpy (which you will learn in a few weeks), and use `*` to denote entrywise vector-vector multiplication, so that for `Vector` objects `v` and `w`, `v*w` results in a new `Vector` object, with the i-th entry of `v*w` equal to the i-th entry of `v` multiplied by the i-th entry of `w`. Implement the appropriate operators to support this multiplication operation. Many languages have a convention for dealing with multiplication of vectors that differ in their dimension, but we will punt on this matter. Your method should raise an appropriate error in the event that `v` and `w` disagree in their dimensions."
   ]
  },
  {
   "cell_type": "markdown",
   "metadata": {},
   "source": [
    "Method was implemented in the Vector class in problem 1. Use is shown below."
   ]
  },
  {
   "cell_type": "code",
   "execution_count": 118,
   "metadata": {
    "collapsed": false
   },
   "outputs": [
    {
     "ename": "TypeError",
     "evalue": "Argument w must be of type Vector, float, int or complex.",
     "output_type": "error",
     "traceback": [
      "\u001b[0;31m---------------------------------------------------------------------------\u001b[0m",
      "\u001b[0;31mTypeError\u001b[0m                                 Traceback (most recent call last)",
      "\u001b[0;32m<ipython-input-118-9f69eca3146e>\u001b[0m in \u001b[0;36m<module>\u001b[0;34m()\u001b[0m\n\u001b[0;32m----> 1\u001b[0;31m \u001b[0mv1\u001b[0m\u001b[1;33m*\u001b[0m\u001b[1;34m\"cat\"\u001b[0m\u001b[1;33m\u001b[0m\u001b[0m\n\u001b[0m",
      "\u001b[0;32m<ipython-input-113-5c9532aa5c28>\u001b[0m in \u001b[0;36m__mul__\u001b[0;34m(self, w)\u001b[0m\n\u001b[1;32m     57\u001b[0m         if (not isinstance(w, Vector) and not isinstance(w, int) and\n\u001b[1;32m     58\u001b[0m             not isinstance(w, float) and not isinstance(w, complex)):\n\u001b[0;32m---> 59\u001b[0;31m                 \u001b[1;32mraise\u001b[0m \u001b[0mTypeError\u001b[0m\u001b[1;33m(\u001b[0m\u001b[1;34m\"Argument w must be of type Vector, float, int or complex.\"\u001b[0m\u001b[1;33m)\u001b[0m\u001b[1;33m\u001b[0m\u001b[0m\n\u001b[0m\u001b[1;32m     60\u001b[0m         \u001b[1;32melif\u001b[0m \u001b[0misinstance\u001b[0m\u001b[1;33m(\u001b[0m\u001b[0mw\u001b[0m\u001b[1;33m,\u001b[0m \u001b[0mVector\u001b[0m\u001b[1;33m)\u001b[0m\u001b[1;33m:\u001b[0m\u001b[1;33m\u001b[0m\u001b[0m\n\u001b[1;32m     61\u001b[0m             \u001b[1;32mif\u001b[0m \u001b[0mself\u001b[0m\u001b[1;33m.\u001b[0m\u001b[0mdim\u001b[0m \u001b[1;33m!=\u001b[0m \u001b[0mw\u001b[0m\u001b[1;33m.\u001b[0m\u001b[0mdim\u001b[0m\u001b[1;33m:\u001b[0m\u001b[1;33m\u001b[0m\u001b[0m\n",
      "\u001b[0;31mTypeError\u001b[0m: Argument w must be of type Vector, float, int or complex."
     ]
    }
   ],
   "source": [
    "v1*\"cat\""
   ]
  },
  {
   "cell_type": "code",
   "execution_count": 127,
   "metadata": {
    "collapsed": false
   },
   "outputs": [
    {
     "name": "stdout",
     "output_type": "stream",
     "text": [
      "{'dim': 3, 'entries': (2, 4, 6)}\n",
      "{'dim': 3, 'entries': (2, 4, 6)}\n"
     ]
    }
   ],
   "source": [
    "v3 = v1*2\n",
    "print(vars(v3))\n",
    "v3_2 = 2*v1\n",
    "print(vars(v3_2))"
   ]
  },
  {
   "cell_type": "code",
   "execution_count": 128,
   "metadata": {
    "collapsed": false
   },
   "outputs": [
    {
     "name": "stdout",
     "output_type": "stream",
     "text": [
      "{'dim': 3, 'entries': (2, 8, 18)}\n",
      "{'dim': 3, 'entries': (2, 8, 18)}\n"
     ]
    }
   ],
   "source": [
    "v4 = v1*v3\n",
    "print(vars(v4))\n",
    "v4_2 = v3*v1\n",
    "print(vars(v4_2))"
   ]
  },
  {
   "cell_type": "code",
   "execution_count": 129,
   "metadata": {
    "collapsed": false
   },
   "outputs": [
    {
     "ename": "ValueError",
     "evalue": "The two vectors must have the same dimension.",
     "output_type": "error",
     "traceback": [
      "\u001b[0;31m---------------------------------------------------------------------------\u001b[0m",
      "\u001b[0;31mValueError\u001b[0m                                Traceback (most recent call last)",
      "\u001b[0;32m<ipython-input-129-621e78ecb296>\u001b[0m in \u001b[0;36m<module>\u001b[0;34m()\u001b[0m\n\u001b[1;32m      1\u001b[0m \u001b[0mv_bad\u001b[0m \u001b[1;33m=\u001b[0m \u001b[0mVector\u001b[0m\u001b[1;33m(\u001b[0m\u001b[1;36m18\u001b[0m\u001b[1;33m)\u001b[0m\u001b[1;33m\u001b[0m\u001b[0m\n\u001b[0;32m----> 2\u001b[0;31m \u001b[0mv5\u001b[0m \u001b[1;33m=\u001b[0m \u001b[0mv1\u001b[0m\u001b[1;33m*\u001b[0m\u001b[0mv_bad\u001b[0m\u001b[1;33m\u001b[0m\u001b[0m\n\u001b[0m",
      "\u001b[0;32m<ipython-input-125-b8370a8e116b>\u001b[0m in \u001b[0;36m__mul__\u001b[0;34m(self, w)\u001b[0m\n\u001b[1;32m     60\u001b[0m         \u001b[1;32melif\u001b[0m \u001b[0misinstance\u001b[0m\u001b[1;33m(\u001b[0m\u001b[0mw\u001b[0m\u001b[1;33m,\u001b[0m \u001b[0mVector\u001b[0m\u001b[1;33m)\u001b[0m\u001b[1;33m:\u001b[0m\u001b[1;33m\u001b[0m\u001b[0m\n\u001b[1;32m     61\u001b[0m             \u001b[1;32mif\u001b[0m \u001b[0mself\u001b[0m\u001b[1;33m.\u001b[0m\u001b[0mdim\u001b[0m \u001b[1;33m!=\u001b[0m \u001b[0mw\u001b[0m\u001b[1;33m.\u001b[0m\u001b[0mdim\u001b[0m\u001b[1;33m:\u001b[0m\u001b[1;33m\u001b[0m\u001b[0m\n\u001b[0;32m---> 62\u001b[0;31m                 \u001b[1;32mraise\u001b[0m \u001b[0mValueError\u001b[0m\u001b[1;33m(\u001b[0m\u001b[1;34m\"The two vectors must have the same dimension.\"\u001b[0m\u001b[1;33m)\u001b[0m\u001b[1;33m\u001b[0m\u001b[0m\n\u001b[0m\u001b[1;32m     63\u001b[0m             \u001b[1;32mfor\u001b[0m \u001b[0mi\u001b[0m \u001b[1;32min\u001b[0m \u001b[0mrange\u001b[0m\u001b[1;33m(\u001b[0m\u001b[0mself\u001b[0m\u001b[1;33m.\u001b[0m\u001b[0mdim\u001b[0m\u001b[1;33m)\u001b[0m\u001b[1;33m:\u001b[0m\u001b[1;33m\u001b[0m\u001b[0m\n\u001b[1;32m     64\u001b[0m                 \u001b[1;31m# Multiply the entries together\u001b[0m\u001b[1;33m\u001b[0m\u001b[1;33m\u001b[0m\u001b[0m\n",
      "\u001b[0;31mValueError\u001b[0m: The two vectors must have the same dimension."
     ]
    }
   ],
   "source": [
    "v_bad = Vector(18)\n",
    "v5 = v1*v_bad"
   ]
  },
  {
   "cell_type": "markdown",
   "metadata": {},
   "source": [
    "#### 6.  Implement a method `Vector.norm` that takes a single int or float `p` as an argument and returns the `p`-norm of the calling `Vector` object. Your method should work whether p is an integer or float. Your method should raise a sensible error in the event that `p` is negative.\n",
    "\n",
    "For a real number $0 \\leq p \\leq \\infty$, and a vector $v \\in \\mathbb{R}^d$, the p-norm of $v$, written $\\lVert v \\rVert_p$, is given by: \n",
    "\n",
    "$$\\lVert v \\rVert_p = \\begin{cases} \n",
    "      \\sum_{i=1}^d 1_{v_i \\neq 0} & \\text{if}\\; p = 0 \\\\\n",
    "      \\left(\\sum_{i=1}^d \\left|v_i\\right|^p \\right)^{1/p} & \\text{if}\\; 0 < p <\\infty \\\\\n",
    "      \\text{max}_{i=1,\\cdots,d} \\left|v_i\\right| & p = \\infty \n",
    "   \\end{cases}$$\n",
    "   \n",
    "Solution was added to the `Vector` class above."
   ]
  },
  {
   "cell_type": "code",
   "execution_count": 140,
   "metadata": {
    "collapsed": false
   },
   "outputs": [
    {
     "data": {
      "text/plain": [
       "3"
      ]
     },
     "execution_count": 140,
     "metadata": {},
     "output_type": "execute_result"
    }
   ],
   "source": [
    "v1.norm(0)"
   ]
  },
  {
   "cell_type": "code",
   "execution_count": 164,
   "metadata": {
    "collapsed": false
   },
   "outputs": [
    {
     "data": {
      "text/plain": [
       "0.5"
      ]
     },
     "execution_count": 164,
     "metadata": {},
     "output_type": "execute_result"
    }
   ],
   "source": [
    "v_dec = Vector(3, (.5, .25, .33))\n",
    "v_dec.norm(float('Inf'))"
   ]
  },
  {
   "cell_type": "code",
   "execution_count": 167,
   "metadata": {
    "collapsed": false
   },
   "outputs": [
    {
     "data": {
      "text/plain": [
       "3.1463462836457885"
      ]
     },
     "execution_count": 167,
     "metadata": {},
     "output_type": "execute_result"
    }
   ],
   "source": [
    "v1.norm(4)"
   ]
  },
  {
   "cell_type": "markdown",
   "metadata": {
    "collapsed": true
   },
   "source": [
    "### Problem 2: Objects and Classes: Geometry Edition\n",
    "#### 1. Implement a class `Point` that represents a point in 2-dimensional Euclidean space. Your object should include an initialization method that takes two arguments (with sensibly-chosen default values)."
   ]
  },
  {
   "cell_type": "code",
   "execution_count": 24,
   "metadata": {
    "collapsed": true
   },
   "outputs": [],
   "source": [
    "class Point():\n",
    "    '''Represents a 2-d point'''\n",
    "    \n",
    "    def __init__(self, x = 0, y = 0):\n",
    "        '''Initializer for Point class. x and y must be ints or floats.\n",
    "        Default point is (0,0).'''\n",
    "        if not isinstance(x, int) and not isinstance(x, float):\n",
    "            raise TypeError(\"Argument x must be of type int or float.\")\n",
    "        elif not isinstance(y, int) and not isinstance(y, float):\n",
    "            raise TypeError(\"Argument y must be of type int or float.\")\n",
    "        self.x = x\n",
    "        self.y = y\n",
    "    \n",
    "    def __eq__(self, other):\n",
    "        '''Equal operator'''\n",
    "        if not isinstance(other, Point):\n",
    "            raise TypeError(\"Cannot compare a Point with a non-Point object.\")\n",
    "        elif self.x == other.x and self.y == other.y:\n",
    "            return True\n",
    "        else:\n",
    "            return False\n",
    "        \n",
    "    def __neq__(self, other):\n",
    "        '''Overrides not equal to.'''\n",
    "        return not self.__eq__(other)\n",
    "    \n",
    "    def __lt__(self, other):\n",
    "        '''Less than operator'''\n",
    "        if not isinstance(other, Point):\n",
    "            raise TypeError(\"Cannot compare a Point with a non-Point object.\")\n",
    "        if self.x < other.x:\n",
    "            return True\n",
    "        elif self.x == other.x and self.y < other.y:\n",
    "            return True\n",
    "        else:\n",
    "            return False\n",
    "    \n",
    "    def __le__(self, other):\n",
    "        '''Less than or equal to'''\n",
    "        if not isinstance(other, Point):\n",
    "            raise TypeError(\"Cannot compare a Point with a non-Point.\")\n",
    "        if self.x < other.x:\n",
    "            return True\n",
    "        elif self.x == other.x and self.y <= other.y:\n",
    "            return True\n",
    "        else:\n",
    "            return False\n",
    "        \n",
    "    def __gt__(self, other):\n",
    "        '''Greater than operator'''\n",
    "        if not isinstance(other, Point):\n",
    "            raise TypeError(\"Cannot compare a Point with a non-Point object.\")\n",
    "        if self.x > other.x:\n",
    "            return True\n",
    "        elif self.x == other.x and self.y > other.y:\n",
    "            return True\n",
    "        else:\n",
    "            return False\n",
    "\n",
    "    def __ge__(self, other):\n",
    "        '''Greater than or equal to'''\n",
    "        if not isinstance(other, Point):\n",
    "            raise TypeError(\"Cannot compare a Point with a non-Point object.\")\n",
    "        if self.x > other.x:\n",
    "            return True\n",
    "        elif self.x == other.x and self.y >= other.y:\n",
    "            return True\n",
    "        else:\n",
    "            return False\n",
    "        \n",
    "    def __add__(self, other):\n",
    "        if not isinstance(other, Point):\n",
    "            raise TypeError(\"Cannot add a Point object to a non-Point object.\")\n",
    "        x = self.x + other.x\n",
    "        y = self.y + other.y\n",
    "        return Point(x,y)"
   ]
  },
  {
   "cell_type": "code",
   "execution_count": 25,
   "metadata": {
    "collapsed": false
   },
   "outputs": [
    {
     "data": {
      "text/plain": [
       "{'x': 0, 'y': 0}"
      ]
     },
     "execution_count": 25,
     "metadata": {},
     "output_type": "execute_result"
    }
   ],
   "source": [
    "p = Point()\n",
    "vars(p)"
   ]
  },
  {
   "cell_type": "code",
   "execution_count": 26,
   "metadata": {
    "collapsed": false
   },
   "outputs": [
    {
     "data": {
      "text/plain": [
       "{'x': 3, 'y': 6}"
      ]
     },
     "execution_count": 26,
     "metadata": {},
     "output_type": "execute_result"
    }
   ],
   "source": [
    "p2 = Point(3,6)\n",
    "vars(p2)"
   ]
  },
  {
   "cell_type": "markdown",
   "metadata": {},
   "source": [
    "#### 2. Implement the necessary operator(s) to support comparison (equality, less than, less or equal to, greater than, etc) of Point objects. We will say that two Point objects are equivalent if they have the same x- and y-coordinates. Otherwise, comparison should be analogous to tuples in Python, so that comparison is done on x-coordinates first, and then on y-coordinates. So, for example, the point (2, 4) is ordered before (less than) (2, 5)."
   ]
  },
  {
   "cell_type": "code",
   "execution_count": 9,
   "metadata": {
    "collapsed": false
   },
   "outputs": [
    {
     "data": {
      "text/plain": [
       "False"
      ]
     },
     "execution_count": 9,
     "metadata": {},
     "output_type": "execute_result"
    }
   ],
   "source": [
    "p == p2"
   ]
  },
  {
   "cell_type": "code",
   "execution_count": 10,
   "metadata": {
    "collapsed": false
   },
   "outputs": [
    {
     "data": {
      "text/plain": [
       "True"
      ]
     },
     "execution_count": 10,
     "metadata": {},
     "output_type": "execute_result"
    }
   ],
   "source": [
    "Point() == p"
   ]
  },
  {
   "cell_type": "code",
   "execution_count": 14,
   "metadata": {
    "collapsed": false
   },
   "outputs": [
    {
     "data": {
      "text/plain": [
       "True"
      ]
     },
     "execution_count": 14,
     "metadata": {},
     "output_type": "execute_result"
    }
   ],
   "source": [
    "p != p2"
   ]
  },
  {
   "cell_type": "code",
   "execution_count": 18,
   "metadata": {
    "collapsed": false
   },
   "outputs": [
    {
     "data": {
      "text/plain": [
       "True"
      ]
     },
     "execution_count": 18,
     "metadata": {},
     "output_type": "execute_result"
    }
   ],
   "source": [
    "p < p2"
   ]
  },
  {
   "cell_type": "code",
   "execution_count": 22,
   "metadata": {
    "collapsed": false
   },
   "outputs": [
    {
     "data": {
      "text/plain": [
       "True"
      ]
     },
     "execution_count": 22,
     "metadata": {},
     "output_type": "execute_result"
    }
   ],
   "source": [
    "p <= p2"
   ]
  },
  {
   "cell_type": "code",
   "execution_count": 23,
   "metadata": {
    "collapsed": false
   },
   "outputs": [
    {
     "data": {
      "text/plain": [
       "False"
      ]
     },
     "execution_count": 23,
     "metadata": {},
     "output_type": "execute_result"
    }
   ],
   "source": [
    "p > p2"
   ]
  },
  {
   "cell_type": "markdown",
   "metadata": {},
   "source": [
    "#### 3. Implement the operator to allow addition of points. That is, if `p1` and `p2` are `Point` objects, then `p1 + p2` should be supported, and should return the `Point` corresponding to adding `p1` and `p2` entrywise (i.e., vector addition)."
   ]
  },
  {
   "cell_type": "code",
   "execution_count": 28,
   "metadata": {
    "collapsed": false
   },
   "outputs": [
    {
     "data": {
      "text/plain": [
       "{'x': 3, 'y': 6}"
      ]
     },
     "execution_count": 28,
     "metadata": {},
     "output_type": "execute_result"
    }
   ],
   "source": [
    "vars(p + p2)"
   ]
  },
  {
   "cell_type": "markdown",
   "metadata": {},
   "source": [
    "####  4. Implement a class `Line` that represents a line in the 2-dimensional Euclidean plane. Implement an initialization method that takes a slope and a y-intercept as its two arguments. There are, of course, any number of ways to represent a line, and you are free to choose among them as you like, though of course the slope-intercept representation is most natural given this initializer."
   ]
  },
  {
   "cell_type": "code",
   "execution_count": 29,
   "metadata": {
    "collapsed": true
   },
   "outputs": [],
   "source": [
    "class Line():\n",
    "    '''Represents a line in the 2-d Euclidean plane.'''\n",
    "    \n",
    "    def __init__(self, m = 1, b = 0):\n",
    "        '''Initializer for the Line object. \n",
    "        m is the slope of the line, must be an int or float, and is defaulted as 1.\n",
    "        b is the y-intercept, must be an int or float, and is defaulted as 0.'''\n",
    "        if not isinstance(m, int) and not isinstance(m, float):\n",
    "            raise TypeError(\"Argument m must be of type int or float.\")\n",
    "        elif not isinstance(b, int) and not isinstance(b, float):\n",
    "            raise TypeError(\"Argument b must be of type int or float.\")\n",
    "        self.m = m\n",
    "        self.b = b\n",
    "    \n",
    "    def project(p):\n",
    "        '''Projection of point onto the line object.'''\n",
    "        if not isinstance(p, Point):\n",
    "            raise TypeError(\"Projection can only be done with type Point.\")\n",
    "        "
   ]
  },
  {
   "cell_type": "markdown",
   "metadata": {
    "collapsed": true
   },
   "source": [
    "#### 5. Implement a method `Line.project` that takes a `Point` object as its only argument and returns a `Point` object representing the projection of the argument `Point` object onto the line represented by the caller. Note: this method should create and return a new `Point` object rather than modifying the argument.\n",
    "\n",
    "Method implemented in the above class. "
   ]
  },
  {
   "cell_type": "code",
   "execution_count": null,
   "metadata": {
    "collapsed": true
   },
   "outputs": [],
   "source": []
  },
  {
   "cell_type": "markdown",
   "metadata": {},
   "source": [
    "### Problem 3: Objects and Inheritance\n",
    "#### 1. For starters, we can’t have a bibliography without authors. Define a class `Author`, with the following attributes:  \n",
    "- **`given_name`, a string representing the given name (i.e., first name in English) of the author.**\n",
    "- **`family_name`, a string representing the family name (i.e., last name in English) of the author.**\n",
    "- **`author_id`, an integer that will uniquely identify this author**\n",
    "\n",
    "**Write an initializer for this class that takes a first and last name as its arguments. These should both default to None. Your class should include a class attribute called `next_id`, which is an integer, and is initially zero. Upon initialization of a new Author object, the new object’s `author_id` attribute should be taken to be the current value of `next_id`, and then the class attribute should be incremented so that the next ID we give out is distinct.**"
   ]
  },
  {
   "cell_type": "code",
   "execution_count": 5,
   "metadata": {
    "collapsed": true
   },
   "outputs": [],
   "source": [
    "class Author():\n",
    "    # The id to be given to the author\n",
    "    next_id = 0\n",
    "    \n",
    "    def __init__(self, given_name = None, family_name = None):\n",
    "        '''Initializer for Author objects.\n",
    "        - given_name, a string representing the given name (i.e., first name in English) of the author.\n",
    "        - family_name, a string representing the family name (i.e., last name in English) of the author.\n",
    "        - author_id, an integer that will uniquely identify this author'''\n",
    "        if given_name is None:\n",
    "            self.given_name = ''\n",
    "        if family_name is None:\n",
    "            self.family_name = ''\n",
    "        # If arguments were given, set them equal\n",
    "        try:\n",
    "            self.given_name = str(given_name)\n",
    "            self.family_name = str(family_name)\n",
    "        except TypeError:\n",
    "            print(\"Arguments must be strings or must be able to be converted to strings.\")\n",
    "            raise\n",
    "        \n",
    "        self.author_id = self.next_id\n",
    "        type(self).next_id += 1\n",
    "        \n",
    "    def __str__(self):\n",
    "        return self.family_name + ', ' + self.given_name[0:1] + '.'\n",
    "        "
   ]
  },
  {
   "cell_type": "code",
   "execution_count": 6,
   "metadata": {
    "collapsed": false
   },
   "outputs": [
    {
     "data": {
      "text/plain": [
       "{'author_id': 0, 'family_name': 'Spooner', 'given_name': 'Taylor'}"
      ]
     },
     "execution_count": 6,
     "metadata": {},
     "output_type": "execute_result"
    }
   ],
   "source": [
    "a = Author(\"Taylor\", \"Spooner\")\n",
    "vars(a)"
   ]
  },
  {
   "cell_type": "code",
   "execution_count": 7,
   "metadata": {
    "collapsed": false
   },
   "outputs": [
    {
     "data": {
      "text/plain": [
       "{'author_id': 1, 'family_name': 'Wang', 'given_name': 'Byoungwook'}"
      ]
     },
     "execution_count": 7,
     "metadata": {},
     "output_type": "execute_result"
    }
   ],
   "source": [
    "a2 = Author(\"Byoungwook\", \"Wang\")\n",
    "vars(a2)"
   ]
  },
  {
   "cell_type": "markdown",
   "metadata": {},
   "source": [
    "#### 2. Implement the `__str__` operator for the `Author` method. The string representation of an author with first name John and last name Smith should be ’Smith, J.’. That is, the string format should be the family name, followed by first initial. You may assume that all authors have only a first and last name, so that for our purposes, Richard W. Hamming is simply named Richard Hamming."
   ]
  },
  {
   "cell_type": "code",
   "execution_count": 49,
   "metadata": {
    "collapsed": false
   },
   "outputs": [
    {
     "name": "stdout",
     "output_type": "stream",
     "text": [
      "Spooner, T.\n"
     ]
    }
   ],
   "source": [
    "print(a)"
   ]
  },
  {
   "cell_type": "code",
   "execution_count": 50,
   "metadata": {
    "collapsed": false
   },
   "outputs": [
    {
     "name": "stdout",
     "output_type": "stream",
     "text": [
      "Wang, B.\n"
     ]
    }
   ],
   "source": [
    "print(a2)"
   ]
  },
  {
   "cell_type": "markdown",
   "metadata": {},
   "source": [
    "#### 3. The basic unit of a bibliography is a document. For our purposes, we will assume that every document has an author, a title and a year of publication. Define a class `Document`, with the following attributes:\n",
    "- **`author`, a list of `Author` objects.**\n",
    "- **`title`, is a string.**\n",
    "- **`year`, an integer representing a year in the Gregorian calendar.**  \n",
    "\n",
    "**Implement an initializer for this object, which takes a list of authors, title and year\n",
    "as its three arguments, in that order. The author list should default to the empty\n",
    "list, and the other two arguments should default to `None`.**"
   ]
  },
  {
   "cell_type": "code",
   "execution_count": 2,
   "metadata": {
    "collapsed": false
   },
   "outputs": [],
   "source": [
    "class Document():\n",
    "    \n",
    "    def __init__(self, author=[], title=None, year=None):\n",
    "        if not isinstance(author, list):\n",
    "            raise TypeError(\"Author argument should be of type list.\")\n",
    "        elif not isinstance(year, int) and year is not None:\n",
    "            raise TypeError(\"Year argument should be of type int.\")\n",
    "        elif not isinstance(title, str) and title is not None:\n",
    "            raise TypeError(\"Title argument should be of type string.\")\n",
    "        # Check that each element in the author object is an Author object.\n",
    "        for a in author:\n",
    "            if not isinstance(a, Author):\n",
    "                raise TypeError(\"All authors in the list must be of type Author.\")\n",
    "        \n",
    "        self.author = author\n",
    "        self.title = title\n",
    "        self.year = year\n",
    "    \n",
    "    def __str__(self):\n",
    "        '''Problem 4: Print statement for Document class.'''\n",
    "        # If any of the attributes is None (or empty list)\n",
    "        # raise error\n",
    "        if self.author == [] or self.title is None or self.year is None:\n",
    "            raise ValueError(\"At least one of the document attributes is None.\")\n",
    "        authors = self.author # Get list of authors\n",
    "        auth_li = [None]*len(authors)\n",
    "        # Add the formatted authors to the list.\n",
    "        for a in range(len(authors)):\n",
    "            auth_li[a] = authors[a].__str__()\n",
    "        # Now join the authors together with the word and.    \n",
    "        auths = \" and \".join(auth_li)\n",
    "        return auths + \" (\" + str(self.year) + \"). \" + self.title + \".\""
   ]
  },
  {
   "cell_type": "code",
   "execution_count": 63,
   "metadata": {
    "collapsed": false
   },
   "outputs": [
    {
     "data": {
      "text/plain": [
       "{'author': [<__main__.Author at 0x1c50f7134a8>,\n",
       "  <__main__.Author at 0x1c50f713550>,\n",
       "  <__main__.Author at 0x1c50f713320>],\n",
       " 'title': 'STATS 701',\n",
       " 'year': 2018}"
      ]
     },
     "execution_count": 63,
     "metadata": {},
     "output_type": "execute_result"
    }
   ],
   "source": [
    "d = Document([Author(\"Taylor\", \"Spooner\"), Author(\"Byoungwook\", \"Jang\"),Author(\"Zack\", \"Keller\")], \"STATS 701\", 2018)\n",
    "vars(d)"
   ]
  },
  {
   "cell_type": "markdown",
   "metadata": {},
   "source": [
    "#### 4.  Implement the `__str__` operator for the `Document` class. The string representation for a document titled Principia by author named Isaac Newton in the year 1687 should be: ’Newton, I. (1687). Principia.’ If there is more than one author in a document, they should be listed in the order that they are listed in the document, separated by the word “and”. So the string representation for a document titled Principia Mathematica by authors Alfred Whitehead and Bertrand Russell in 1910 should be ’Whitehead, A. and Russell, B. (1910). Principia Mathematica.’. Authors should be separated by the word “and” no matter how many authors are in the list `Document.author`. If any of the attributes of a document is not specified (i.e., is `None`), the `__str__` operator should raise a `ValueError`."
   ]
  },
  {
   "cell_type": "code",
   "execution_count": 64,
   "metadata": {
    "collapsed": false
   },
   "outputs": [
    {
     "data": {
      "text/plain": [
       "{'author': [], 'title': None, 'year': None}"
      ]
     },
     "execution_count": 64,
     "metadata": {},
     "output_type": "execute_result"
    }
   ],
   "source": [
    "d2 = Document()\n",
    "vars(d2)"
   ]
  },
  {
   "cell_type": "code",
   "execution_count": 65,
   "metadata": {
    "collapsed": false
   },
   "outputs": [
    {
     "name": "stdout",
     "output_type": "stream",
     "text": [
      "Spooner, T. and Jang, B. and Keller, Z. (2018). STATS 701.\n"
     ]
    }
   ],
   "source": [
    "print(d)"
   ]
  },
  {
   "cell_type": "markdown",
   "metadata": {
    "collapsed": true
   },
   "source": [
    "#### 5. Implement a class `Book` that inherits from `Document`, but has an additional attribute `publisher`, a string naming a publishing house. \n",
    "\n",
    "- **Override the initializer to now take four arguments, the fourth being the string representing the publisher, and the first three being in the same order as for the `Document` initializer.** \n",
    "- **Override the `__str__` method to print the same formatted string, but with the publisher name added to the end. So, in the example above, if Principia Mathematica were published by Cambridge University Press, then the string representation would be 'Whitehead, A. and Russell, B. (1910). Principia Mathematica. Cambridge University Press.'**"
   ]
  },
  {
   "cell_type": "code",
   "execution_count": 29,
   "metadata": {
    "collapsed": false
   },
   "outputs": [],
   "source": [
    "class Book(Document):\n",
    "    '''Book class that inherits from the Document class'''\n",
    "    \n",
    "    def __init__(self, author=[], title=None, year=None, publisher=None):\n",
    "        '''Initializer that overrides the Document's init function'''       \n",
    "        # Use super to use the init function.\n",
    "        super(Book, self).__init__(author, title, year)\n",
    "        # Check that publisher is a string\n",
    "        if not isinstance(publisher, str) and publisher is not None:\n",
    "            raise TypeError(\"Publisher argument must be of type string.\")\n",
    "        # Update the publisher\n",
    "        self.publisher = publisher\n",
    "\n",
    "    def __str__(self):\n",
    "        '''String method that uses the inherited str method from document\n",
    "        but adds the publisher to the end.'''\n",
    "        if self.publisher is None:\n",
    "            raise ValueError(\"Publisher argument is None, cannot print.\")\n",
    "        # Print the same string function as the Document class and add the publisher.\n",
    "        return(super(Book, self).__str__() + \" \" + self.publisher + \".\")\n",
    "    "
   ]
  },
  {
   "cell_type": "code",
   "execution_count": 27,
   "metadata": {
    "collapsed": false
   },
   "outputs": [
    {
     "name": "stdout",
     "output_type": "stream",
     "text": [
      "Spooner, T. and Wang, B. (2018). STATS 701. University of Michigan.\n"
     ]
    }
   ],
   "source": [
    "b = Book([a, a2], \"STATS 701\", 2018, \"University of Michigan\")\n",
    "print(b)"
   ]
  },
  {
   "cell_type": "code",
   "execution_count": 28,
   "metadata": {
    "collapsed": false
   },
   "outputs": [
    {
     "ename": "TypeError",
     "evalue": "Year argument should be of type int.",
     "output_type": "error",
     "traceback": [
      "\u001b[0;31m---------------------------------------------------------------------------\u001b[0m",
      "\u001b[0;31mTypeError\u001b[0m                                 Traceback (most recent call last)",
      "\u001b[0;32m<ipython-input-28-4d5c9ea0432f>\u001b[0m in \u001b[0;36m<module>\u001b[0;34m()\u001b[0m\n\u001b[0;32m----> 1\u001b[0;31m \u001b[0mb\u001b[0m \u001b[1;33m=\u001b[0m \u001b[0mBook\u001b[0m\u001b[1;33m(\u001b[0m\u001b[1;33m[\u001b[0m\u001b[0ma\u001b[0m\u001b[1;33m,\u001b[0m \u001b[0ma2\u001b[0m\u001b[1;33m]\u001b[0m\u001b[1;33m,\u001b[0m \u001b[1;34m\"This example won't work\"\u001b[0m\u001b[1;33m,\u001b[0m \u001b[1;36m2018.22\u001b[0m\u001b[1;33m,\u001b[0m \u001b[1;34m\"University of Michigan\"\u001b[0m\u001b[1;33m)\u001b[0m\u001b[1;33m\u001b[0m\u001b[0m\n\u001b[0m",
      "\u001b[0;32m<ipython-input-26-ae87a54cf0d1>\u001b[0m in \u001b[0;36m__init__\u001b[0;34m(self, author, title, year, publisher)\u001b[0m\n\u001b[1;32m      6\u001b[0m \u001b[1;33m\u001b[0m\u001b[0m\n\u001b[1;32m      7\u001b[0m         \u001b[1;31m# Use super to use the init function.\u001b[0m\u001b[1;33m\u001b[0m\u001b[1;33m\u001b[0m\u001b[0m\n\u001b[0;32m----> 8\u001b[0;31m         \u001b[0msuper\u001b[0m\u001b[1;33m(\u001b[0m\u001b[0mBook\u001b[0m\u001b[1;33m,\u001b[0m \u001b[0mself\u001b[0m\u001b[1;33m)\u001b[0m\u001b[1;33m.\u001b[0m\u001b[0m__init__\u001b[0m\u001b[1;33m(\u001b[0m\u001b[0mauthor\u001b[0m\u001b[1;33m,\u001b[0m \u001b[0mtitle\u001b[0m\u001b[1;33m,\u001b[0m \u001b[0myear\u001b[0m\u001b[1;33m)\u001b[0m\u001b[1;33m\u001b[0m\u001b[0m\n\u001b[0m\u001b[1;32m      9\u001b[0m         \u001b[1;31m# Check that publisher is a string\u001b[0m\u001b[1;33m\u001b[0m\u001b[1;33m\u001b[0m\u001b[0m\n\u001b[1;32m     10\u001b[0m         \u001b[1;32mif\u001b[0m \u001b[1;32mnot\u001b[0m \u001b[0misinstance\u001b[0m\u001b[1;33m(\u001b[0m\u001b[0mpublisher\u001b[0m\u001b[1;33m,\u001b[0m \u001b[0mstr\u001b[0m\u001b[1;33m)\u001b[0m \u001b[1;32mand\u001b[0m \u001b[0mpublisher\u001b[0m \u001b[1;32mis\u001b[0m \u001b[1;32mnot\u001b[0m \u001b[1;32mNone\u001b[0m\u001b[1;33m:\u001b[0m\u001b[1;33m\u001b[0m\u001b[0m\n",
      "\u001b[0;32m<ipython-input-2-9a2f03c0caaa>\u001b[0m in \u001b[0;36m__init__\u001b[0;34m(self, author, title, year)\u001b[0m\n\u001b[1;32m      5\u001b[0m             \u001b[1;32mraise\u001b[0m \u001b[0mTypeError\u001b[0m\u001b[1;33m(\u001b[0m\u001b[1;34m\"Author argument should be of type list.\"\u001b[0m\u001b[1;33m)\u001b[0m\u001b[1;33m\u001b[0m\u001b[0m\n\u001b[1;32m      6\u001b[0m         \u001b[1;32melif\u001b[0m \u001b[1;32mnot\u001b[0m \u001b[0misinstance\u001b[0m\u001b[1;33m(\u001b[0m\u001b[0myear\u001b[0m\u001b[1;33m,\u001b[0m \u001b[0mint\u001b[0m\u001b[1;33m)\u001b[0m \u001b[1;32mand\u001b[0m \u001b[0myear\u001b[0m \u001b[1;32mis\u001b[0m \u001b[1;32mnot\u001b[0m \u001b[1;32mNone\u001b[0m\u001b[1;33m:\u001b[0m\u001b[1;33m\u001b[0m\u001b[0m\n\u001b[0;32m----> 7\u001b[0;31m             \u001b[1;32mraise\u001b[0m \u001b[0mTypeError\u001b[0m\u001b[1;33m(\u001b[0m\u001b[1;34m\"Year argument should be of type int.\"\u001b[0m\u001b[1;33m)\u001b[0m\u001b[1;33m\u001b[0m\u001b[0m\n\u001b[0m\u001b[1;32m      8\u001b[0m         \u001b[1;32melif\u001b[0m \u001b[1;32mnot\u001b[0m \u001b[0misinstance\u001b[0m\u001b[1;33m(\u001b[0m\u001b[0mtitle\u001b[0m\u001b[1;33m,\u001b[0m \u001b[0mstr\u001b[0m\u001b[1;33m)\u001b[0m \u001b[1;32mand\u001b[0m \u001b[0mtitle\u001b[0m \u001b[1;32mis\u001b[0m \u001b[1;32mnot\u001b[0m \u001b[1;32mNone\u001b[0m\u001b[1;33m:\u001b[0m\u001b[1;33m\u001b[0m\u001b[0m\n\u001b[1;32m      9\u001b[0m             \u001b[1;32mraise\u001b[0m \u001b[0mTypeError\u001b[0m\u001b[1;33m(\u001b[0m\u001b[1;34m\"Title argument should be of type string.\"\u001b[0m\u001b[1;33m)\u001b[0m\u001b[1;33m\u001b[0m\u001b[0m\n",
      "\u001b[0;31mTypeError\u001b[0m: Year argument should be of type int."
     ]
    }
   ],
   "source": [
    "b = Book([a, a2], \"This example won't work\", 2018.22, \"University of Michigan\")"
   ]
  },
  {
   "cell_type": "code",
   "execution_count": null,
   "metadata": {
    "collapsed": true
   },
   "outputs": [],
   "source": []
  }
 ],
 "metadata": {
  "kernelspec": {
   "display_name": "Python 3",
   "language": "python",
   "name": "python3"
  },
  "language_info": {
   "codemirror_mode": {
    "name": "ipython",
    "version": 3
   },
   "file_extension": ".py",
   "mimetype": "text/x-python",
   "name": "python",
   "nbconvert_exporter": "python",
   "pygments_lexer": "ipython3",
   "version": "3.6.0"
  }
 },
 "nbformat": 4,
 "nbformat_minor": 2
}
