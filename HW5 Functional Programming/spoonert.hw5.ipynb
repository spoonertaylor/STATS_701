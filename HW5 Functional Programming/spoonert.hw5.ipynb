{
 "cells": [
  {
   "cell_type": "markdown",
   "metadata": {},
   "source": [
    "## Stats701-001 Homework 5: Functional Programming\n",
    "### Taylor Spooner\n",
    "#### spoonert@umich.edu\n",
    "\n",
    "**Collaboration**: I went to Keith's office hours to get help on Problem 4.2. \n",
    "\n",
    "**Time**: "
   ]
  },
  {
   "cell_type": "markdown",
   "metadata": {},
   "source": [
    "### Problem 1: Iterators and Generators\n",
    "#### 1. Define a class `Fibo` of iterators that enumerate the Fibonacci numbers. For the purposes of this problem, the Fibonacci sequence begins $0, 1, 1, 2, 3,\\cdots,$ with the $n$-th Fibonacci number $f_n$ given by the recursive formula $f_n = f_{n−1} + f_{n−2}$. Your solution should not make use of any function aside from addition (i.e., you should not to use the function `fibo()` defined in lecture a few weeks ago). Your class should support, at a minimum, an initialization method, a `__iter__` method (so that we can get an iterator) and a `__next__` method. Note: there is an especially simple solution to this problem that can be expressed in just a few lines using tuple assignment."
   ]
  },
  {
   "cell_type": "code",
   "execution_count": 7,
   "metadata": {
    "collapsed": true
   },
   "outputs": [],
   "source": [
    "class Fibo():\n",
    "    '''Iterator over Fibonacci numbers'''\n",
    "    def __init__(self):\n",
    "        '''Init the Fib sequence with the first two values of the sequence'''\n",
    "        self.n = 0 # The current value of sequence\n",
    "        self.n1 = 1 # The next value of sequence which we will update\n",
    "    \n",
    "    def __iter__(self):\n",
    "        '''Class is an iterator'''\n",
    "        return(self)\n",
    "    def __next__(self):\n",
    "        '''For the next element in the sequence'''\n",
    "        fn = self.n # This is the current value to return\n",
    "        \n",
    "        # Now to update the sequence,\n",
    "        # self.n1 is always going to be the \"next\" value of the sequence\n",
    "        # So set self.n to that so our sequence is up to date.\n",
    "        # Update self.n1 by adding it (f_{n-1}) to the current self.n (f_{n-2})\n",
    "        (self.n, self.n1) = (self.n1, self.n1+self.n)\n",
    "        \n",
    "        return fn\n"
   ]
  },
  {
   "cell_type": "code",
   "execution_count": 8,
   "metadata": {
    "collapsed": false
   },
   "outputs": [
    {
     "data": {
      "text/plain": [
       "0"
      ]
     },
     "execution_count": 8,
     "metadata": {},
     "output_type": "execute_result"
    }
   ],
   "source": [
    "f = Fibo()\n",
    "next(f)"
   ]
  },
  {
   "cell_type": "code",
   "execution_count": 9,
   "metadata": {
    "collapsed": false
   },
   "outputs": [
    {
     "data": {
      "text/plain": [
       "1"
      ]
     },
     "execution_count": 9,
     "metadata": {},
     "output_type": "execute_result"
    }
   ],
   "source": [
    "next(f)"
   ]
  },
  {
   "cell_type": "code",
   "execution_count": 10,
   "metadata": {
    "collapsed": false
   },
   "outputs": [
    {
     "data": {
      "text/plain": [
       "1"
      ]
     },
     "execution_count": 10,
     "metadata": {},
     "output_type": "execute_result"
    }
   ],
   "source": [
    "next(f)"
   ]
  },
  {
   "cell_type": "code",
   "execution_count": 11,
   "metadata": {
    "collapsed": false
   },
   "outputs": [
    {
     "data": {
      "text/plain": [
       "2"
      ]
     },
     "execution_count": 11,
     "metadata": {},
     "output_type": "execute_result"
    }
   ],
   "source": [
    "next(f)"
   ]
  },
  {
   "cell_type": "code",
   "execution_count": 12,
   "metadata": {
    "collapsed": false
   },
   "outputs": [
    {
     "name": "stdout",
     "output_type": "stream",
     "text": [
      "0\n",
      "1\n",
      "1\n",
      "2\n",
      "3\n",
      "5\n",
      "8\n",
      "13\n",
      "21\n",
      "34\n"
     ]
    }
   ],
   "source": [
    "f2 = Fibo()\n",
    "for i in range(10):\n",
    "    print(next(f2))"
   ]
  },
  {
   "cell_type": "markdown",
   "metadata": {},
   "source": [
    "#### 2. Define a generator `integers` that enumerates the nonnegative integers, in increasing order, starting with 0."
   ]
  },
  {
   "cell_type": "code",
   "execution_count": 13,
   "metadata": {
    "collapsed": true
   },
   "outputs": [],
   "source": [
    "def integers():\n",
    "    '''Generator of the nonnegative integers starting with 0'''\n",
    "    n = 0\n",
    "    while True:\n",
    "        yield n\n",
    "        n += 1"
   ]
  },
  {
   "cell_type": "code",
   "execution_count": 14,
   "metadata": {
    "collapsed": false
   },
   "outputs": [
    {
     "data": {
      "text/plain": [
       "[0, 1, 2, 3, 4, 5, 6, 7, 8, 9, 10]"
      ]
     },
     "execution_count": 14,
     "metadata": {},
     "output_type": "execute_result"
    }
   ],
   "source": [
    "i = integers()\n",
    "[next(i) for _ in range(11)]"
   ]
  },
  {
   "cell_type": "markdown",
   "metadata": {},
   "source": [
    "#### 3. Define a generator `primes` that enumerates the prime numbers. Recall that a prime number is any integer $p > 1$ whose only divisors are $p$ and 1. Note: you may use the function `is_prime` that we defined in class (or something similar to it), but such solutions will not receive full credit, as there is a more graceful solution that avoids declaring a separate function or method for directly checking primality. Hint: consider a pattern similar to the one seen in lecture using the any and/or all functions."
   ]
  },
  {
   "cell_type": "code",
   "execution_count": 4,
   "metadata": {
    "collapsed": true
   },
   "outputs": [],
   "source": [
    "import math\n",
    "def primes():\n",
    "    '''Generator for the prime numbers'''\n",
    "    p = 2 # init at the first prime number, 2\n",
    "    while True:\n",
    "        yield p # Return the prime number\n",
    "        # Reset the boolean that our next number if False\n",
    "        is_prime = False\n",
    "        # Find the next prime number\n",
    "        while is_prime is False:\n",
    "            p += 1\n",
    "            is_prime = not any(p % x == 0 for x in range(2,math.ceil(math.sqrt(p))+1))\n",
    "            #if p == 2:\n",
    "            #    is_prime = True\n",
    "            #else:\n",
    "                # For 2 to the sqrt of p, if any number divides p, not prime.\n",
    "                # So not all False's is true"
   ]
  },
  {
   "cell_type": "code",
   "execution_count": 35,
   "metadata": {
    "collapsed": false
   },
   "outputs": [
    {
     "data": {
      "text/plain": [
       "2"
      ]
     },
     "execution_count": 35,
     "metadata": {},
     "output_type": "execute_result"
    }
   ],
   "source": [
    "p = primes()\n",
    "next(p)"
   ]
  },
  {
   "cell_type": "code",
   "execution_count": 36,
   "metadata": {
    "collapsed": false
   },
   "outputs": [
    {
     "data": {
      "text/plain": [
       "3"
      ]
     },
     "execution_count": 36,
     "metadata": {},
     "output_type": "execute_result"
    }
   ],
   "source": [
    "next(p)"
   ]
  },
  {
   "cell_type": "code",
   "execution_count": 39,
   "metadata": {
    "collapsed": false
   },
   "outputs": [
    {
     "data": {
      "text/plain": [
       "[2, 3, 5, 7, 11, 13, 17, 19, 23, 29, 31]"
      ]
     },
     "execution_count": 39,
     "metadata": {},
     "output_type": "execute_result"
    }
   ],
   "source": [
    "p2 = primes()\n",
    "[next(p2) for _ in range(11)]"
   ]
  },
  {
   "cell_type": "markdown",
   "metadata": {},
   "source": [
    "### Problem 2: List Comprehensions and Generator Expressions\n",
    "#### 1. Write a list comprehension that enumerates the odd squares of the integers 1 through 20 inclusive."
   ]
  },
  {
   "cell_type": "code",
   "execution_count": 17,
   "metadata": {
    "collapsed": false
   },
   "outputs": [
    {
     "data": {
      "text/plain": [
       "[1, 9, 25, 49, 81, 121, 169, 225, 289, 361]"
      ]
     },
     "execution_count": 17,
     "metadata": {},
     "output_type": "execute_result"
    }
   ],
   "source": [
    "[x**2 for x in range(1,21,2)]"
   ]
  },
  {
   "cell_type": "markdown",
   "metadata": {},
   "source": [
    "#### 2. Write a generator expression that enumerates the perfect cubes, starting from 1."
   ]
  },
  {
   "cell_type": "code",
   "execution_count": 18,
   "metadata": {
    "collapsed": false
   },
   "outputs": [
    {
     "data": {
      "text/plain": [
       "1"
      ]
     },
     "execution_count": 18,
     "metadata": {},
     "output_type": "execute_result"
    }
   ],
   "source": [
    "# Numbers 1-10 are perfect cubes\n",
    "pc = (x**3 for x in range(1,11))\n",
    "next(pc)"
   ]
  },
  {
   "cell_type": "code",
   "execution_count": 19,
   "metadata": {
    "collapsed": false
   },
   "outputs": [
    {
     "data": {
      "text/plain": [
       "8"
      ]
     },
     "execution_count": 19,
     "metadata": {},
     "output_type": "execute_result"
    }
   ],
   "source": [
    "next(pc) # 2^3"
   ]
  },
  {
   "cell_type": "code",
   "execution_count": 20,
   "metadata": {
    "collapsed": false
   },
   "outputs": [
    {
     "data": {
      "text/plain": [
       "27"
      ]
     },
     "execution_count": 20,
     "metadata": {},
     "output_type": "execute_result"
    }
   ],
   "source": [
    "next(pc) # 3^3"
   ]
  },
  {
   "cell_type": "markdown",
   "metadata": {
    "collapsed": true
   },
   "source": [
    "#### 3. Write a generator expression that enumerates the tetrahedral numbers. The $n$-th tetrahedral number is given by $T_n = \\binom{n+2}{3}$, where $\\binom{x}{y}$ is the binomial coefficient."
   ]
  },
  {
   "cell_type": "code",
   "execution_count": 21,
   "metadata": {
    "collapsed": false
   },
   "outputs": [],
   "source": [
    "import scipy.special\n",
    "# Need to do (x+1) because integers() starts with 0 but I think tetrahedral numbers start at 1.\n",
    "tetra = (int(scipy.special.binom((x+1)+2,3)) for x in integers())"
   ]
  },
  {
   "cell_type": "code",
   "execution_count": 22,
   "metadata": {
    "collapsed": false
   },
   "outputs": [
    {
     "data": {
      "text/plain": [
       "1"
      ]
     },
     "execution_count": 22,
     "metadata": {},
     "output_type": "execute_result"
    }
   ],
   "source": [
    "next(tetra)"
   ]
  },
  {
   "cell_type": "code",
   "execution_count": 23,
   "metadata": {
    "collapsed": false
   },
   "outputs": [
    {
     "data": {
      "text/plain": [
       "4"
      ]
     },
     "execution_count": 23,
     "metadata": {},
     "output_type": "execute_result"
    }
   ],
   "source": [
    "next(tetra)"
   ]
  },
  {
   "cell_type": "code",
   "execution_count": 24,
   "metadata": {
    "collapsed": false
   },
   "outputs": [
    {
     "data": {
      "text/plain": [
       "10"
      ]
     },
     "execution_count": 24,
     "metadata": {},
     "output_type": "execute_result"
    }
   ],
   "source": [
    "next(tetra)"
   ]
  },
  {
   "cell_type": "code",
   "execution_count": 25,
   "metadata": {
    "collapsed": false
   },
   "outputs": [
    {
     "data": {
      "text/plain": [
       "20"
      ]
     },
     "execution_count": 25,
     "metadata": {},
     "output_type": "execute_result"
    }
   ],
   "source": [
    "next(tetra)"
   ]
  },
  {
   "cell_type": "markdown",
   "metadata": {},
   "source": [
    "### Problem 3: Map, Filter and Reduce\n",
    "#### 1. Write a one-line expression that computes the sum of the first 10 odd square numbers (starting with 1)."
   ]
  },
  {
   "cell_type": "code",
   "execution_count": 2,
   "metadata": {
    "collapsed": false
   },
   "outputs": [
    {
     "data": {
      "text/plain": [
       "1330"
      ]
     },
     "execution_count": 2,
     "metadata": {},
     "output_type": "execute_result"
    }
   ],
   "source": [
    "import functools\n",
    "functools.reduce(lambda x,y: x + y**2, range(1,20,2))"
   ]
  },
  {
   "cell_type": "markdown",
   "metadata": {},
   "source": [
    "#### 2. Write a one-line expression that computes the product of the first 17 primes. You may use the `primes` generator that you defined above."
   ]
  },
  {
   "cell_type": "code",
   "execution_count": 5,
   "metadata": {
    "collapsed": false
   },
   "outputs": [
    {
     "data": {
      "text/plain": [
       "1922760350154212639070"
      ]
     },
     "execution_count": 5,
     "metadata": {},
     "output_type": "execute_result"
    }
   ],
   "source": [
    "import operator\n",
    "p = primes()\n",
    "functools.reduce(operator.mul, [next(p) for _ in range(17)])"
   ]
  },
  {
   "cell_type": "markdown",
   "metadata": {},
   "source": [
    "#### 3. Write a one-line expression that computes a list of the first ten harmonic numbers. Recall that the $n$-th harmonic number is given by $H_n = \\sum_{k=1}^n 1/k$."
   ]
  },
  {
   "cell_type": "code",
   "execution_count": 30,
   "metadata": {
    "collapsed": false
   },
   "outputs": [
    {
     "data": {
      "text/plain": [
       "[1,\n",
       " 1.5,\n",
       " 1.8333333333333333,\n",
       " 2.083333333333333,\n",
       " 2.283333333333333,\n",
       " 2.4499999999999997,\n",
       " 2.5928571428571425,\n",
       " 2.7178571428571425,\n",
       " 2.8289682539682537,\n",
       " 2.9289682539682538]"
      ]
     },
     "execution_count": 30,
     "metadata": {},
     "output_type": "execute_result"
    }
   ],
   "source": [
    "import itertools\n",
    "list(itertools.accumulate(range(1,11), lambda x,y: x+1/y))"
   ]
  },
  {
   "cell_type": "markdown",
   "metadata": {},
   "source": [
    "#### 4. Write a one-line expression that computes the geometric mean of the first 10 tetrahedral numbers. You may use the generator that you wrote in the previous problem. Recall that the geometric mean of a collection of n numbers $a_1, a_2, \\cdots, a_n$ is given by $\\left(\\prod_{i=1}^n a_i \\right)^{1/n}$"
   ]
  },
  {
   "cell_type": "code",
   "execution_count": 31,
   "metadata": {
    "collapsed": false
   },
   "outputs": [
    {
     "data": {
      "text/plain": [
       "29.91378180628326"
      ]
     },
     "execution_count": 31,
     "metadata": {},
     "output_type": "execute_result"
    }
   ],
   "source": [
    "t = (int(scipy.special.binom((x+1)+2,3)) for x in integers()) # Init generator\n",
    "(functools.reduce(operator.mul, [next(t) for _ in range(10)]))**(1/10)"
   ]
  },
  {
   "cell_type": "markdown",
   "metadata": {},
   "source": [
    "### Problem 4: Fun with Polynomials\n",
    "#### 1. Write a function `eval_poly` that takes two arguments: a number (int or float) `x`, and a list of numbers (again, ints and/or floats) `coeffs`. The elements of `coeffs` encode the coefficients of a polynomial $p(x) = a_0 + a_1 x + a_2 x^2 + \\cdots + a_n x^n$, with $a_i$ given by `coeffs[i]. eval_poly` should return the value of this polynomial, evaluated at $x$. You should be able to express your solution in a single line (not counting the function definition header) by using functional programming patterns discussed in lecture."
   ]
  },
  {
   "cell_type": "code",
   "execution_count": 3,
   "metadata": {
    "collapsed": true
   },
   "outputs": [],
   "source": [
    "def eval_poly(x, coeffs):\n",
    "    return sum([a*x**i for i,a in enumerate(coeffs)])"
   ]
  },
  {
   "cell_type": "code",
   "execution_count": 4,
   "metadata": {
    "collapsed": false
   },
   "outputs": [
    {
     "data": {
      "text/plain": [
       "142"
      ]
     },
     "execution_count": 4,
     "metadata": {},
     "output_type": "execute_result"
    }
   ],
   "source": [
    "# f(3) = 1 + 2(3) + 3(3)^2 + 4(3)^3 = 142\n",
    "x = 3\n",
    "a = [1, 2, 3, 4]\n",
    "eval_poly(x, a)"
   ]
  },
  {
   "cell_type": "markdown",
   "metadata": {},
   "source": [
    "#### 2. Write a function `make_poly` that takes a list of numbers `coeffs` as its only argument and returns another function `p`. Here again the list `coeffs` represents the coefficients of a polynomial as in the previous question. The function `p` should take a single number (int or float) x as its argument, and return the value of the polynomial represented by `coeffs` evaluated at `x`. Of course, one way to solve this problem is to simply copy-paste your function definition for `eval_poly` inside the function `make_poly`, or to call `eval_poly` using the `functools.partial` function. Neither of these solutions will receive credit, because there is a more graceful solution. You should again be able to express the solution to this problem in a single line (not including the definition header)."
   ]
  },
  {
   "cell_type": "code",
   "execution_count": 65,
   "metadata": {
    "collapsed": false
   },
   "outputs": [],
   "source": [
    "def make_poly(coeffs):\n",
    "    return lambda x: sum([a*x**i for i,a in enumerate(coeffs)])"
   ]
  },
  {
   "cell_type": "code",
   "execution_count": 66,
   "metadata": {
    "collapsed": false
   },
   "outputs": [],
   "source": [
    "p = make_poly([1,2,3,4])"
   ]
  },
  {
   "cell_type": "code",
   "execution_count": 67,
   "metadata": {
    "collapsed": false
   },
   "outputs": [
    {
     "data": {
      "text/plain": [
       "142"
      ]
     },
     "execution_count": 67,
     "metadata": {},
     "output_type": "execute_result"
    }
   ],
   "source": [
    "p(3)"
   ]
  }
 ],
 "metadata": {
  "kernelspec": {
   "display_name": "Python 3",
   "language": "python",
   "name": "python3"
  },
  "language_info": {
   "codemirror_mode": {
    "name": "ipython",
    "version": 3
   },
   "file_extension": ".py",
   "mimetype": "text/x-python",
   "name": "python",
   "nbconvert_exporter": "python",
   "pygments_lexer": "ipython3",
   "version": "3.6.0"
  }
 },
 "nbformat": 4,
 "nbformat_minor": 2
}
