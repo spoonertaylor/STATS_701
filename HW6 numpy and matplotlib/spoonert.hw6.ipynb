{
 "cells": [
  {
   "cell_type": "markdown",
   "metadata": {},
   "source": [
    "## Stats701-001 Homework 6: `numpy` and `matplotlib`\n",
    "### Taylor Spooner\n",
    "#### spoonert@umich.edu\n",
    "\n",
    "**Collaboration**:\n",
    "\n",
    "**Time**: "
   ]
  },
  {
   "cell_type": "markdown",
   "metadata": {},
   "source": [
    "### Problem 1: Warmup: plotting CLTs"
   ]
  },
  {
   "cell_type": "markdown",
   "metadata": {},
   "source": [
    "#### Choose four different probability distributions with mean 0 and variance 1.  \n",
    "\n",
    "The four distributions that I am going to chose are:\n",
    "- $\\sqrt{12}(\\text{Unif}(0,1)-1/2)$  \n",
    "- $\\text{Exponential}(1) - 1$\n",
    "- $(1/2)(\\text{Gamma}(\\alpha=2, \\beta=1) - 2)$\n",
    "- $(\\text{Bern(.5) - .5})/\\sqrt{.5(1-.5)}$"
   ]
  },
  {
   "cell_type": "code",
   "execution_count": 128,
   "metadata": {
    "collapsed": false
   },
   "outputs": [],
   "source": [
    "from scipy.stats import uniform, expon, gamma, bernoulli, norm\n",
    "import numpy as np\n",
    "import matplotlib.pyplot as plt\n",
    "import math"
   ]
  },
  {
   "cell_type": "markdown",
   "metadata": {},
   "source": [
    "1. **Pick a reasonably large value of $n$. Make a plot with four subplots, one for each of the four distributions. For each subplot, use Numpy/Scipy to generate $m=1000$ independent draws of $\\sqrt{n}(S_n - \\mu)$ from that subplot's distribution and show in that subplot a (normalized) histogram of the empirical distribution of $\\sqrt{n}(S_n - \\mu)$.**\n",
    "2. **Title each of your subplots with the name of the distribution you used for that subplot. Make sure that all four of your plots have the same scales on their x- and y-axes.**\n",
    "3. **Add to each subplot a solid line indicating the density of the standard normal, so that we can see how “normal” the empirical distribution looks.**\n",
    "4. ** Do all four of your plots look equally \"normal\"? Note that it may help to try a few different values of $n$ to explore differences between the plots, depending on which four distributions you picked.**"
   ]
  },
  {
   "cell_type": "code",
   "execution_count": 149,
   "metadata": {
    "collapsed": false
   },
   "outputs": [],
   "source": [
    "n = 30\n",
    "m = 1000\n",
    "# Uniform(0,1)\n",
    "un = [math.sqrt(n)*np.mean(math.sqrt(12)*(uniform.rvs(size=n) - 1/2)) for x in range(m)]"
   ]
  },
  {
   "cell_type": "code",
   "execution_count": 150,
   "metadata": {
    "collapsed": true
   },
   "outputs": [],
   "source": [
    "# Exponential(1)\n",
    "ex = [math.sqrt(n)*np.mean(expon.rvs(size=n)-1) for x in range(m)]"
   ]
  },
  {
   "cell_type": "code",
   "execution_count": 151,
   "metadata": {
    "collapsed": false
   },
   "outputs": [],
   "source": [
    "# Gamma(2,1)\n",
    "gam = [math.sqrt(n)*np.mean((1/2)*(gamma.rvs(a=2, size=n)-2)) for x in range(m)]"
   ]
  },
  {
   "cell_type": "code",
   "execution_count": 152,
   "metadata": {
    "collapsed": false
   },
   "outputs": [],
   "source": [
    "# Bernoulli(.5)\n",
    "bern = [math.sqrt(n)*np.mean((bernoulli.rvs(p=.5, size=n)-.5)/math.sqrt(.5**2)) for x in range(m)]"
   ]
  },
  {
   "cell_type": "code",
   "execution_count": 153,
   "metadata": {
    "collapsed": false
   },
   "outputs": [
    {
     "data": {
      "image/png": "[encoded data removed]",
      "text/plain": [
       "<matplotlib.figure.Figure at 0x2af28f5ccc0>"
      ]
     },
     "metadata": {},
     "output_type": "display_data"
    }
   ],
   "source": [
    "x = np.linspace(norm.ppf(0.01), norm.ppf(0.99), 100)\n",
    "rv = norm()\n",
    "fig, ((ax1,ax2), (ax3,ax4)) = plt.subplots(2,2, sharex = 'all', sharey = 'all')\n",
    "ax1.hist(un, normed=True, color='blue')\n",
    "ax1.plot(x, rv.pdf(x), color='black')\n",
    "ax1.set_title(\"$\\sqrt{12}(Unif(0,1)-1/2)$\")\n",
    "ax2.hist(ex, normed=True, color='red')\n",
    "ax2.plot(x, rv.pdf(x), color='black')\n",
    "ax2.set_title(\"$Exp(1) - 1$\")\n",
    "ax3.hist(gam, normed=True, color='orange')\n",
    "ax3.plot(x, rv.pdf(x), color='black')\n",
    "ax3.set_title(\"$(1/2)(Gamma(alpha=2, beta=1) - 2)$\")\n",
    "ax4.hist(bern, normed=True, color='green')\n",
    "ax4.plot(x, rv.pdf(x), color='black')\n",
    "ax4.set_title(\"$(Bern(.5) - .5)/\\sqrt{.5(1-.5)}$\")\n",
    "plt.tight_layout()\n",
    "plt.show()"
   ]
  },
  {
   "cell_type": "code",
   "execution_count": null,
   "metadata": {
    "collapsed": true
   },
   "outputs": [],
   "source": []
  }
 ],
 "metadata": {
  "kernelspec": {
   "display_name": "Python 3",
   "language": "python",
   "name": "python3"
  },
  "language_info": {
   "codemirror_mode": {
    "name": "ipython",
    "version": 3
   },
   "file_extension": ".py",
   "mimetype": "text/x-python",
   "name": "python",
   "nbconvert_exporter": "python",
   "pygments_lexer": "ipython3",
   "version": "3.6.0"
  }
 },
 "nbformat": 4,
 "nbformat_minor": 2
}
