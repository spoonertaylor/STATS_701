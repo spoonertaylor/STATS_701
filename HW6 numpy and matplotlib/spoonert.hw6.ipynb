{
 "cells": [
  {
   "cell_type": "markdown",
   "metadata": {},
   "source": [
    "## Stats701-001 Homework 6: `numpy` and `matplotlib`\n",
    "### Taylor Spooner\n",
    "#### spoonert@umich.edu\n",
    "\n",
    "**Collaboration**:\n",
    "\n",
    "**Time**: "
   ]
  },
  {
   "cell_type": "markdown",
   "metadata": {},
   "source": [
    "### Problem 1: Warmup: plotting CLTs"
   ]
  },
  {
   "cell_type": "markdown",
   "metadata": {},
   "source": [
    "#### Choose four different probability distributions with mean 0 and variance 1.  \n",
    "\n",
    "The four distributions that I am going to chose are:\n",
    "- $\\sqrt{12}(\\text{Unif}(0,1)-1/2)$  \n",
    "- $\\text{Exponential}(1) - 1$\n",
    "- $(1/2)(\\text{Gamma}(\\alpha=2, \\beta=1) - 2)$\n",
    "- $(\\text{Bern(.5) - .5})/\\sqrt{.5(1-.5)}$"
   ]
  },
  {
   "cell_type": "code",
   "execution_count": 29,
   "metadata": {
    "collapsed": false
   },
   "outputs": [],
   "source": [
    "from scipy.stats import uniform, expon, gamma, bernoulli, norm\n",
    "import numpy as np\n",
    "import numpy.linalg as lg\n",
    "import matplotlib.pyplot as plt\n",
    "import math"
   ]
  },
  {
   "cell_type": "markdown",
   "metadata": {},
   "source": [
    "1. **Pick a reasonably large value of $n$. Make a plot with four subplots, one for each of the four distributions. For each subplot, use Numpy/Scipy to generate $m=1000$ independent draws of $\\sqrt{n}(S_n - \\mu)$ from that subplot's distribution and show in that subplot a (normalized) histogram of the empirical distribution of $\\sqrt{n}(S_n - \\mu)$.**\n",
    "2. **Title each of your subplots with the name of the distribution you used for that subplot. Make sure that all four of your plots have the same scales on their x- and y-axes.**\n",
    "3. **Add to each subplot a solid line indicating the density of the standard normal, so that we can see how “normal” the empirical distribution looks.**\n",
    "4. ** Do all four of your plots look equally \"normal\"? Note that it may help to try a few different values of $n$ to explore differences between the plots, depending on which four distributions you picked.**"
   ]
  },
  {
   "cell_type": "code",
   "execution_count": 2,
   "metadata": {
    "collapsed": false
   },
   "outputs": [],
   "source": [
    "n = 50\n",
    "m = 1000\n",
    "# Uniform(0,1)\n",
    "un = [math.sqrt(n)*np.mean(math.sqrt(12)*(uniform.rvs(size=n) - 1/2)) for x in range(m)]"
   ]
  },
  {
   "cell_type": "code",
   "execution_count": 3,
   "metadata": {
    "collapsed": true
   },
   "outputs": [],
   "source": [
    "# Exponential(1)\n",
    "ex = [math.sqrt(n)*np.mean(expon.rvs(size=n)-1) for x in range(m)]"
   ]
  },
  {
   "cell_type": "code",
   "execution_count": 4,
   "metadata": {
    "collapsed": false
   },
   "outputs": [],
   "source": [
    "# Gamma(2,1)\n",
    "gam = [math.sqrt(n)*np.mean((1/2)*(gamma.rvs(a=2, size=n)-2)) for x in range(m)]"
   ]
  },
  {
   "cell_type": "code",
   "execution_count": 5,
   "metadata": {
    "collapsed": false
   },
   "outputs": [],
   "source": [
    "# Bernoulli(.5)\n",
    "bern = [math.sqrt(n)*np.mean((bernoulli.rvs(p=.5, size=n)-.5)/math.sqrt(.5**2)) for x in range(m)]"
   ]
  },
  {
   "cell_type": "code",
   "execution_count": 6,
   "metadata": {
    "collapsed": false
   },
   "outputs": [
    {
     "data": {
      "image/png": "[encoded data removed]",
      "text/plain": [
       "<matplotlib.figure.Figure at 0x1b797e40ac8>"
      ]
     },
     "metadata": {},
     "output_type": "display_data"
    }
   ],
   "source": [
    "x = np.linspace(norm.ppf(0.01), norm.ppf(0.99), 100)\n",
    "rv = norm()\n",
    "fig, ((ax1,ax2), (ax3,ax4)) = plt.subplots(2,2, sharex = 'all', sharey = 'all')\n",
    "ax1.hist(un, normed=True, color='blue')\n",
    "ax1.plot(x, rv.pdf(x), color='black')\n",
    "ax1.set_title(\"$\\sqrt{12}(Unif(0,1)-1/2)$\")\n",
    "ax2.hist(ex, normed=True, color='red')\n",
    "ax2.plot(x, rv.pdf(x), color='black')\n",
    "ax2.set_title(\"$Exp(1) - 1$\")\n",
    "ax3.hist(gam, normed=True, color='orange')\n",
    "ax3.plot(x, rv.pdf(x), color='black')\n",
    "ax3.set_title(\"$(1/2)(Gamma(alpha=2, beta=1) - 2)$\")\n",
    "ax4.hist(bern, normed=True, color='green')\n",
    "ax4.plot(x, rv.pdf(x), color='black')\n",
    "ax4.set_title(\"$(Bern(.5) - .5)/\\sqrt{.5(1-.5)}$\")\n",
    "plt.tight_layout()\n",
    "plt.show()"
   ]
  },
  {
   "cell_type": "markdown",
   "metadata": {},
   "source": [
    "**Question 4:**  \n",
    "The uniform and exponential distributions look extremely close to the standard normal density that we plotted with the normalized histograms. The gamma distribution has must smaller tails than the normal. The values for the gamma distribution are much more consintrated around 0 than the standard normal. Finally, the Bernoulli distribution looks the least normal. When $n$ was between 20-30, the bernoulli distribution varied from the standard normal a lot. We increased $n$ so the distribution looked closer to what we expected."
   ]
  },
  {
   "cell_type": "markdown",
   "metadata": {},
   "source": [
    "### Problem 2: Plotting a Mixture of Normals  "
   ]
  },
  {
   "cell_type": "markdown",
   "metadata": {},
   "source": [
    "1. **Read in the two files `labels.npy` and `points.dlm` into `numpy`.**"
   ]
  },
  {
   "cell_type": "code",
   "execution_count": 3,
   "metadata": {
    "collapsed": true
   },
   "outputs": [],
   "source": [
    "points = np.loadtxt('points.dlm', delimiter='\\t')"
   ]
  },
  {
   "cell_type": "code",
   "execution_count": 4,
   "metadata": {
    "collapsed": false
   },
   "outputs": [
    {
     "data": {
      "text/plain": [
       "numpy.ndarray"
      ]
     },
     "execution_count": 4,
     "metadata": {},
     "output_type": "execute_result"
    }
   ],
   "source": [
    "type(points)"
   ]
  },
  {
   "cell_type": "code",
   "execution_count": 5,
   "metadata": {
    "collapsed": false
   },
   "outputs": [
    {
     "data": {
      "text/plain": [
       "(100, 2)"
      ]
     },
     "execution_count": 5,
     "metadata": {},
     "output_type": "execute_result"
    }
   ],
   "source": [
    "points.shape"
   ]
  },
  {
   "cell_type": "code",
   "execution_count": 6,
   "metadata": {
    "collapsed": false
   },
   "outputs": [
    {
     "data": {
      "text/plain": [
       "array([[ 0.4579593 ,  0.54352873],\n",
       "       [ 0.08891206,  0.76618616],\n",
       "       [ 0.1464601 ,  0.78467006],\n",
       "       [ 0.64990065,  0.19183258],\n",
       "       [ 0.57086316,  0.40393525]])"
      ]
     },
     "execution_count": 6,
     "metadata": {},
     "output_type": "execute_result"
    }
   ],
   "source": [
    "points[0:5,]"
   ]
  },
  {
   "cell_type": "code",
   "execution_count": 7,
   "metadata": {
    "collapsed": true
   },
   "outputs": [],
   "source": [
    "labs = np.load('labels.npy')"
   ]
  },
  {
   "cell_type": "code",
   "execution_count": 8,
   "metadata": {
    "collapsed": false
   },
   "outputs": [
    {
     "data": {
      "text/plain": [
       "numpy.ndarray"
      ]
     },
     "execution_count": 8,
     "metadata": {},
     "output_type": "execute_result"
    }
   ],
   "source": [
    "type(labs)"
   ]
  },
  {
   "cell_type": "code",
   "execution_count": 9,
   "metadata": {
    "collapsed": false
   },
   "outputs": [
    {
     "data": {
      "text/plain": [
       "100"
      ]
     },
     "execution_count": 9,
     "metadata": {},
     "output_type": "execute_result"
    }
   ],
   "source": [
    "len(labs)"
   ]
  },
  {
   "cell_type": "code",
   "execution_count": 10,
   "metadata": {
    "collapsed": false
   },
   "outputs": [
    {
     "data": {
      "text/plain": [
       "array([ 0.,  0.,  0.,  0.,  1.])"
      ]
     },
     "execution_count": 10,
     "metadata": {},
     "output_type": "execute_result"
    }
   ],
   "source": [
    "labs[0:5]"
   ]
  },
  {
   "cell_type": "markdown",
   "metadata": {},
   "source": [
    "#### 2. Generate a scatter plot of the data.\n",
    "  - Each data point should appear as an `x` (often called a cross in data visualization packages) \n",
    "  - colored according to its cluster membership as given by points.npy. \n",
    "    - cluster label 0 should be colored blue\n",
    "    - cluster label 1 should be colored red \n",
    "  - Set the x and y axes to both range from 0 to 1. \n",
    "  - Adjust the size of the point markers to what you believe to be reasonable (i.e., aesthetically pleasing, visible, etc)\n",
    " \n",
    "#### 3. Theoretically, the data should approximate a mixture of normals with means and covariance matrices given by\n",
    "$$\\mu_0 = (0.2, 0.7)^T, \\;\n",
    "\\Sigma_0=\n",
    "  \\begin{bmatrix}\n",
    "    0.015 & -0.011\\\\\n",
    "    -0.011 & 0.018\n",
    "  \\end{bmatrix}$$\n",
    "$$\\mu_1 = (0.65, 0.3)^T, \\;\\Sigma_1 = \\begin{bmatrix} 0.016 & -0.011 \\\\ -0.011 & 0.016 \\end{bmatrix}$$\n",
    "\n",
    "**For each of these two normal distributions, add two contour lines corresponding to 1 and 2 \"standard deviations\" of the distribution. The contour lines for cluster 0 should be colored blue, and the lines for cluster 1 should be colored red. The contour lines will go off the edge of the 1-by-1 square that we have plotted. Do not worry about that.**  \n",
    "\n",
    "#### 4. Do the data appear normal? There should be at least one obvious outlier. Add an annotation to your figure indicating one or more such outlier(s)."
   ]
  },
  {
   "cell_type": "code",
   "execution_count": 37,
   "metadata": {
    "collapsed": false
   },
   "outputs": [],
   "source": [
    "# Set up the contours\n",
    "from scipy.stats import multivariate_normal"
   ]
  },
  {
   "cell_type": "markdown",
   "metadata": {},
   "source": [
    "First thing we will do is set up our two distributions."
   ]
  },
  {
   "cell_type": "code",
   "execution_count": 39,
   "metadata": {
    "collapsed": false
   },
   "outputs": [],
   "source": [
    "# Create the mean and covariance arrays for both distributions\n",
    "mu_0 = np.array([0.2, 0.7])\n",
    "mu_1 = np.array([0.65, 0.3])\n",
    "Sigma_0 = np.array([[0.015, -0.011], [-0.011, 0.018]])\n",
    "Sigma_1 = np.array([[0.016, -0.011], [-0.011, 0.016]])\n",
    "mvn0 = multivariate_normal(mu_0, Sigma_0)\n",
    "mvn1 = multivariate_normal(mu_1, Sigma_1)"
   ]
  },
  {
   "cell_type": "markdown",
   "metadata": {},
   "source": [
    "Now we will calculate the levels. To do so we set the equation: $(x-\\mu)^T\\Sigma^{-1}(x-\\mu) = \\chi^2_2(p)$, where $p$ is going to be the probability of interest. We will then find the level by evaluating the bivariate pdf but replacing the $(x-\\mu)^T\\Sigma^{-1}(x-\\mu)$ with $\\chi^2_2(p)$. We looked up the chi-square values for $p = 0.68, 0.95$ to be 2.28 and 5.99 respectively."
   ]
  },
  {
   "cell_type": "code",
   "execution_count": 46,
   "metadata": {
    "collapsed": false
   },
   "outputs": [],
   "source": [
    "def level(Sigma, chisq):\n",
    "    '''Function to return the bivariate normal pdf but replacing the quadtratic part with chi sq test stat.'''\n",
    "    return lg.det(2*np.pi*Sigma)**(-.5)*np.exp(-.5*chisq)\n",
    "\n",
    "# First distribution\n",
    "l00 = level(Sigma_0, 2.28)\n",
    "l01 = level(Sigma_0, 5.99)\n",
    "# Second distribution\n",
    "l10 = level(Sigma_1, 2.28)\n",
    "l11 = level(Sigma_1, 5.99)"
   ]
  },
  {
   "cell_type": "code",
   "execution_count": 45,
   "metadata": {
    "collapsed": false,
    "scrolled": true
   },
   "outputs": [
    {
     "data": {
      "image/png": "[encoded data removed]",
      "text/plain": [
       "<matplotlib.figure.Figure at 0x20eb8b06a20>"
      ]
     },
     "metadata": {},
     "output_type": "display_data"
    }
   ],
   "source": [
    "cols = list(map(lambda x: 'blue' if x ==0 else 'red', labs))\n",
    "# Use c = labs and cmap to change color based on a value. But how do you control the color value???\n",
    "plt.scatter(points[:,0], points[:,1], marker = 'x', color=cols, s=50)\n",
    "plt.xlim([0,1])\n",
    "plt.ylim([0,1])\n",
    "\n",
    "# Grid of points from 0 to 1\n",
    "x,y = np.mgrid[0:1:0.01, 0:1:0.01]\n",
    "pos0 = np.empty(x.shape + (2,))\n",
    "# Contour plot for cluster 0\n",
    "pos0[:,:,0] = x\n",
    "pos0[:,:,1] = y\n",
    "\n",
    "plt.contour(x, y, mvn0.pdf(pos0), levels = [l01, l00], colors=\"blue\")\n",
    "# Contour plot for cluster 1\n",
    "pos1 = np.empty(x.shape + (2,))\n",
    "pos1[:,:,0] = x\n",
    "pos1[:,:,1] = y\n",
    "\n",
    "plt.contour(x, y, mvn1.pdf(pos1), levels = [l11, l10], colors='red')\n",
    "\n",
    "# Annotate the graph\n",
    "plt.annotate('Outlier for Cluster 1', xy=(1,.26), xytext=(1.2,.6), fontsize=14,\n",
    "            arrowprops=dict(facecolor='black', shrink=0.02))\n",
    "plt.annotate('Outlier for Cluster 0', xy=(.65,.2), xytext=(.8,.8), fontsize=14,\n",
    "            arrowprops=dict(facecolor='black', shrink=0.02))\n",
    "plt.show()"
   ]
  },
  {
   "cell_type": "markdown",
   "metadata": {},
   "source": [
    "#### 4. Do the data appear normal? There should be at least one obvious outlier. Add an annotation to your figure indicating one or more such outlier(s).\n",
    "\n",
    "Yes! The data do appear normal. About 95% of the data falls within the two standard deviations and is more dense in the middle (especially for the red cluster). There are some obvious outliers, which we have annotated. "
   ]
  },
  {
   "cell_type": "markdown",
   "metadata": {
    "collapsed": true
   },
   "source": [
    "### Problem 3: Conway's Game of Life\n",
    "The game is played on an $m$-by-$n$ board, which we will represent as an $m$-by-$n$ matrix. The game proceeds in steps. At any given time, each cell on the board (i.e., entry of our matrix), is either alive (which we will represent as a 1) or dead (which we will represent as a 0). At each step, the board evolves according to a few simple rules:\n",
    "- A live cell with fewer than two live neighbors becomes a dead cell.\n",
    "- A live cell with more than three live neighbors becomes a dead cell.\n",
    "- A live cell with two or three live neighbors remains alive.\n",
    "- A dead cell with *exactly* three live neighbors becomes alive.\n",
    "- All other dead cells remain dead.\n",
    "\n",
    "#### 1. Write a function `is_valid_board` that takes an $m$-by-$n$ `numpy` array as its only argument and returns a Python Boolean that is `True` if and only if the argument is a valid representation of a Game of Life board. A valid board is any two-dimensional numpy `ndarray` with all entries either 0.0 and 1.0."
   ]
  },
  {
   "cell_type": "code",
   "execution_count": 4,
   "metadata": {
    "collapsed": true
   },
   "outputs": [],
   "source": [
    "import numpy as np\n",
    "def is_valid_board(board):\n",
    "    '''Takes a m x n Game of Life board. Checks whether or not the board is valid.'''\n",
    "    # First check if a np.ndarry\n",
    "    if not isinstance(board, np.ndarray):\n",
    "        return False\n",
    "    # Now check that it is 2D\n",
    "    elif len(board.shape) != 2:\n",
    "        return False\n",
    "    # Now check that all the entries are either 0 or 1\n",
    "    # Use logical or to check if each entry is either 0 or 1\n",
    "    # then use all to check they are all true\n",
    "    elif not np.all(np.logical_or(board == 0.0, board == 1.0) == True):\n",
    "        return False\n",
    "    else:\n",
    "        return True"
   ]
  },
  {
   "cell_type": "code",
   "execution_count": 5,
   "metadata": {
    "collapsed": false
   },
   "outputs": [
    {
     "data": {
      "text/plain": [
       "True"
      ]
     },
     "execution_count": 5,
     "metadata": {},
     "output_type": "execute_result"
    }
   ],
   "source": [
    "b = np.array([0,0,1,1,1,0,0,0,1,0,1,0])\n",
    "b.shape = (4,3)\n",
    "is_valid_board(b)"
   ]
  },
  {
   "cell_type": "code",
   "execution_count": 6,
   "metadata": {
    "collapsed": false
   },
   "outputs": [
    {
     "data": {
      "text/plain": [
       "False"
      ]
     },
     "execution_count": 6,
     "metadata": {},
     "output_type": "execute_result"
    }
   ],
   "source": [
    "b.shape = (2,2,3)\n",
    "is_valid_board(b)"
   ]
  },
  {
   "cell_type": "code",
   "execution_count": 7,
   "metadata": {
    "collapsed": false
   },
   "outputs": [
    {
     "data": {
      "text/plain": [
       "False"
      ]
     },
     "execution_count": 7,
     "metadata": {},
     "output_type": "execute_result"
    }
   ],
   "source": [
    "b = np.array([100,0,1,1,1,0,0,0,1,0,1,0])\n",
    "b.shape = (4,3)\n",
    "is_valid_board(b)"
   ]
  },
  {
   "cell_type": "code",
   "execution_count": 8,
   "metadata": {
    "collapsed": false
   },
   "outputs": [
    {
     "data": {
      "text/plain": [
       "False"
      ]
     },
     "execution_count": 8,
     "metadata": {},
     "output_type": "execute_result"
    }
   ],
   "source": [
    "b = np.matrix(b)\n",
    "is_valid_board(b)"
   ]
  },
  {
   "cell_type": "markdown",
   "metadata": {},
   "source": [
    "#### 2. Write a function called `gol_step` that takes an $m$-by-$n$ numpy array as its argument and returns another numpy array of the same size (i.e., also $m$-by-$n$), corresponding to the board at the next step of the game. Your function should perform error checking to ensure that the provided argument is a valid Game of Life board."
   ]
  },
  {
   "cell_type": "code",
   "execution_count": 9,
   "metadata": {
    "collapsed": true
   },
   "outputs": [],
   "source": [
    "def gol_step(board):\n",
    "    # Error check\n",
    "    if not is_valid_board(board):\n",
    "        raise TypeError(\"The argument must be a valid Game of Life board.\")\n",
    "    # Create board to return that is just a copy of the current board\n",
    "    rtrn_board = np.copy(board)\n",
    "    # Now iterate over current board and check all of the neighbors of each element\n",
    "    for r in range(board.shape[0]):\n",
    "        for c in range(board.shape[1]):\n",
    "            # Get all of the neighbors into a list\n",
    "            # Left, upper-left, top will never go off the board so no error checking\n",
    "            neighs = [board[r, c-1], board[r-1,c-1], board[r-1,c]]\n",
    "            # Upper right, right may go off the columns\n",
    "            # Try to add them to list\n",
    "            try:\n",
    "                neighs.extend([board[r-1, c+1], board[r, c+1]])\n",
    "            # If this fails, we went off the board\n",
    "            except IndexError:\n",
    "                # Just mod the column count and we will be okay.\n",
    "                c2 = (c+1) % board.shape[1]\n",
    "                neighs.extend([board[r-1, c2], board[r, c2]])\n",
    "            # Below and lower left may run off the board in terms of rows\n",
    "            try:\n",
    "                neighs.extend([board[r+1, c], board[r+1,c-1]])\n",
    "            except IndexError:\n",
    "                r2 = (r+1) % board.shape[0]\n",
    "                neighs.extend([board[r2, c], board[r2,c-1]])\n",
    "            \n",
    "            # Lower right might go off both ways\n",
    "            if (r+1) == board.shape[0]:\n",
    "                r2 = (r+1) % board.shape[0]\n",
    "            else:\n",
    "                r2 = r+1\n",
    "            if (c+1) == board.shape[1]:\n",
    "                c2 = (c+1) % board.shape[1]\n",
    "            else:\n",
    "                c2 = c+1\n",
    "            neighs.append(board[r2, c2])\n",
    "            # Now for that cell:\n",
    "            # The number of alive cells is the sum of the 1's\n",
    "            num_alive = sum(neighs)\n",
    "            # A live cell with fewer than two live neighbors becomes a dead cell\n",
    "            if board[r,c] == 1 and num_alive < 2:\n",
    "                rtrn_board[r,c] = 0\n",
    "            # A live cell with more than three live neighbors becomes a dead cell.\n",
    "            elif board[r,c] == 1 and num_alive > 3:\n",
    "                rtrn_board[r,c] = 0\n",
    "            # A dead cell with exactly three live neighbors becomes alive.\n",
    "            elif board[r,c] == 0 and num_alive == 3:\n",
    "                rtrn_board[r,c] = 1\n",
    "    \n",
    "    return(rtrn_board)"
   ]
  },
  {
   "cell_type": "code",
   "execution_count": 10,
   "metadata": {
    "collapsed": false
   },
   "outputs": [
    {
     "data": {
      "text/plain": [
       "array([[1, 0, 1],\n",
       "       [1, 0, 1],\n",
       "       [1, 0, 1]])"
      ]
     },
     "execution_count": 10,
     "metadata": {},
     "output_type": "execute_result"
    }
   ],
   "source": [
    "board = np.reshape(np.array([1,0,1,1,0,1,1,0,1]), (3,3))\n",
    "board"
   ]
  },
  {
   "cell_type": "code",
   "execution_count": 11,
   "metadata": {
    "collapsed": false
   },
   "outputs": [
    {
     "data": {
      "text/plain": [
       "array([[0, 0, 0],\n",
       "       [0, 0, 0],\n",
       "       [0, 0, 0]])"
      ]
     },
     "execution_count": 11,
     "metadata": {},
     "output_type": "execute_result"
    }
   ],
   "source": [
    "rtrn_board = gol_step(board)\n",
    "rtrn_board"
   ]
  },
  {
   "cell_type": "markdown",
   "metadata": {},
   "source": [
    "#### 3. Write a function called `draw_gol_board` that takes an $m$-by-$n$ numpy array (i.e., an ndarray) as its only argument and draws the board as an $m$-by-$n$ set of tiles, colored black or white correspond to whether the corresponding cell is alive or dead, respectively. Your plot should not have any grid lines, nor should it have any axis labels or axis ticks. "
   ]
  },
  {
   "cell_type": "code",
   "execution_count": 12,
   "metadata": {
    "collapsed": false
   },
   "outputs": [],
   "source": [
    "def draw_gol_board(board):\n",
    "    # Error check\n",
    "    if not is_valid_board(board):\n",
    "        raise TypeError(\"The argument must be a valid Game of Life board.\")\n",
    "    # if all the elements of the board are all 1, just plot all black\n",
    "    if np.all(board==1):\n",
    "        f, axarr = plt.subplots(board.shape[0], board.shape[1], gridspec_kw = {'wspace':0, 'hspace':0})\n",
    "        for i, ax in enumerate(f.axes):\n",
    "            ax.patch.set_facecolor('black')\n",
    "            ax.get_xaxis().set_visible(False)\n",
    "            ax.get_yaxis().set_visible(False)\n",
    "        plt.show()\n",
    "    # If not of all ones, imshow can create the proper tiles\n",
    "    else:\n",
    "        plt.imshow(board, cmap='Greys')\n",
    "        plt.xticks([])\n",
    "        plt.yticks([])\n",
    "        plt.show()"
   ]
  },
  {
   "cell_type": "code",
   "execution_count": 13,
   "metadata": {
    "collapsed": false
   },
   "outputs": [
    {
     "data": {
      "image/png": "[encoded data removed]",
      "text/plain": [
       "<matplotlib.figure.Figure at 0x1f3be951198>"
      ]
     },
     "metadata": {},
     "output_type": "display_data"
    }
   ],
   "source": [
    "draw_gol_board(board)"
   ]
  },
  {
   "cell_type": "code",
   "execution_count": 14,
   "metadata": {
    "collapsed": false
   },
   "outputs": [
    {
     "data": {
      "image/png": "[encoded data removed]",
      "text/plain": [
       "<matplotlib.figure.Figure at 0x1f3c0802860>"
      ]
     },
     "metadata": {},
     "output_type": "display_data"
    }
   ],
   "source": [
    "draw_gol_board(rtrn_board)"
   ]
  },
  {
   "cell_type": "markdown",
   "metadata": {},
   "source": [
    "#### 4. Create a 100-by-100 numpy array corresponding to a Game of Life board in which all cells are dead, with the exception that the top-left 5-by-5 section of the board is as specified in the homework assignment."
   ]
  },
  {
   "cell_type": "code",
   "execution_count": 38,
   "metadata": {
    "collapsed": false
   },
   "outputs": [],
   "source": [
    "board2 = np.reshape(np.zeros(100*100), (100,100))"
   ]
  },
  {
   "cell_type": "code",
   "execution_count": 39,
   "metadata": {
    "collapsed": false
   },
   "outputs": [],
   "source": [
    "board2[1,2] = 1\n",
    "board2[2,3] = 1\n",
    "board2[3,1:4] = 1"
   ]
  },
  {
   "cell_type": "code",
   "execution_count": 40,
   "metadata": {
    "collapsed": false
   },
   "outputs": [
    {
     "data": {
      "image/png": "[encoded data removed]",
      "text/plain": [
       "<matplotlib.figure.Figure at 0x1f3c0e55518>"
      ]
     },
     "metadata": {},
     "output_type": "display_data"
    }
   ],
   "source": [
    "draw_gol_board(board2)"
   ]
  },
  {
   "cell_type": "markdown",
   "metadata": {},
   "source": [
    "#### 5. Generate a plot with 5 subplots, arranged in a 5-by-1 grid, showing the first five steps of the Game of Life when started with the board you just created, with the steps ordered from top to bottom, The figure in the 5-by-5 sub-board above is called a glider, and it is interesting in that, as you can see from your plot, it seems to move along the board as you run the game."
   ]
  },
  {
   "cell_type": "code",
   "execution_count": 37,
   "metadata": {
    "collapsed": false
   },
   "outputs": [
    {
     "data": {
      "image/png": "[encoded data removed]",
      "text/plain": [
       "<matplotlib.figure.Figure at 0x1f3c1055b00>"
      ]
     },
     "metadata": {},
     "output_type": "display_data"
    },
    {
     "data": {
      "image/png": "[encoded data removed]",
      "text/plain": [
       "<matplotlib.figure.Figure at 0x1f3c114ec50>"
      ]
     },
     "metadata": {},
     "output_type": "display_data"
    },
    {
     "data": {
      "image/png": "[encoded data removed]",
      "text/plain": [
       "<matplotlib.figure.Figure at 0x1f3c0c21b70>"
      ]
     },
     "metadata": {},
     "output_type": "display_data"
    },
    {
     "data": {
      "image/png": "[encoded data removed]",
      "text/plain": [
       "<matplotlib.figure.Figure at 0x1f3c12d03c8>"
      ]
     },
     "metadata": {},
     "output_type": "display_data"
    },
    {
     "data": {
      "image/png": "[encoded data removed]",
      "text/plain": [
       "<matplotlib.figure.Figure at 0x1f3c125df60>"
      ]
     },
     "metadata": {},
     "output_type": "display_data"
    }
   ],
   "source": [
    "for subplt in range(511, 516):\n",
    "    plt.figure(figsize=(36, 32))\n",
    "    plt.subplot(subplt)\n",
    "    draw_gol_board(board2)\n",
    "    board2 = gol_step(board2)"
   ]
  }
 ],
 "metadata": {
  "kernelspec": {
   "display_name": "Python 3",
   "language": "python",
   "name": "python3"
  },
  "language_info": {
   "codemirror_mode": {
    "name": "ipython",
    "version": 3
   },
   "file_extension": ".py",
   "mimetype": "text/x-python",
   "name": "python",
   "nbconvert_exporter": "python",
   "pygments_lexer": "ipython3",
   "version": "3.6.0"
  }
 },
 "nbformat": 4,
 "nbformat_minor": 2
}
