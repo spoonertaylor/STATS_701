{
 "cells": [
  {
   "cell_type": "markdown",
   "metadata": {},
   "source": [
    "## Stats701-001 Homework 8: Stuctured Data\n",
    "### Taylor Spooner\n",
    "#### spoonert@umich.edu\n",
    "\n",
    "**Collaboration**: Elliott helped me catch an error with my 1.6.\n",
    "\n",
    "**Time**: Problem 1: 1 hour, Problem 2: 45 minutes, Problem 3: 45 minutes, Problem 4: 25 minutes "
   ]
  },
  {
   "cell_type": "markdown",
   "metadata": {},
   "source": [
    "### Problem 1: Regular Expressions: Warmup\n",
    "**At the URL <a href=\"http://www.greenteapress.com/thinkpython/code/words.txt\">here</a> is a list of about 100,000 English words.**  \n",
    "  \n",
    "**1. Use urllib to open the URL and read the file, and produce a list of ASCII strings so that each line of the file corresponds to an element of the list. You will likely need to convert the raw bytes read from the webpage to ASCII characters, for which\n",
    "you should see the documentation for the string methods encode and decode. How many words are in the file?**"
   ]
  },
  {
   "cell_type": "code",
   "execution_count": 1,
   "metadata": {
    "collapsed": true
   },
   "outputs": [],
   "source": [
    "import urllib.request\n",
    "from bs4 import BeautifulSoup"
   ]
  },
  {
   "cell_type": "code",
   "execution_count": 2,
   "metadata": {
    "collapsed": true
   },
   "outputs": [],
   "source": [
    "words = urllib.request.urlopen('http://www.greenteapress.com/thinkpython/code/words.txt')\n",
    "words2 = words.read().decode('utf-8').splitlines()"
   ]
  },
  {
   "cell_type": "code",
   "execution_count": 5,
   "metadata": {
    "collapsed": false
   },
   "outputs": [
    {
     "data": {
      "text/plain": [
       "['aa', 'aah', 'aahed', 'aahing', 'aahs']"
      ]
     },
     "execution_count": 5,
     "metadata": {},
     "output_type": "execute_result"
    }
   ],
   "source": [
    "words2[0:5]"
   ]
  },
  {
   "cell_type": "code",
   "execution_count": 6,
   "metadata": {
    "collapsed": false
   },
   "outputs": [
    {
     "data": {
      "text/plain": [
       "113809"
      ]
     },
     "execution_count": 6,
     "metadata": {},
     "output_type": "execute_result"
    }
   ],
   "source": [
    "len(words2)"
   ]
  },
  {
   "cell_type": "code",
   "execution_count": 7,
   "metadata": {
    "collapsed": false
   },
   "outputs": [
    {
     "data": {
      "text/plain": [
       "['aa', 'aah', 'aahed', 'aahing', 'aahs', 'aal', 'aalii', 'aaliis', 'aals']"
      ]
     },
     "execution_count": 7,
     "metadata": {},
     "output_type": "execute_result"
    }
   ],
   "source": [
    "words2[0:9]"
   ]
  },
  {
   "cell_type": "code",
   "execution_count": 8,
   "metadata": {
    "collapsed": false
   },
   "outputs": [
    {
     "data": {
      "text/plain": [
       "['zymoses', 'zymosis', 'zymotic', 'zymurgies']"
      ]
     },
     "execution_count": 8,
     "metadata": {},
     "output_type": "execute_result"
    }
   ],
   "source": [
    "words2[-5:-1]"
   ]
  },
  {
   "cell_type": "markdown",
   "metadata": {},
   "source": [
    "There are 113,809 words in this file."
   ]
  },
  {
   "cell_type": "markdown",
   "metadata": {},
   "source": [
    "**2. It is a good habit to always look at your data to check that it makes sense. Have a look at the words in the list. Does anything jump out at you? Note: I am not requiring you to do anything specific, here. Just look at the data!**"
   ]
  },
  {
   "cell_type": "markdown",
   "metadata": {},
   "source": [
    "Besides not knowing that most of these are real words, I don't think there is anything wrong with the data. For some words there are variations (past tense, plural, etc.) of the same word. "
   ]
  },
  {
   "cell_type": "markdown",
   "metadata": {},
   "source": [
    "**3. How many words from the list start with exactly four consecutive consonants? For the purposes of this specific problem, the vowels are `a, e, i, o, u, y`. Produce a list of all such words.**"
   ]
  },
  {
   "cell_type": "code",
   "execution_count": 3,
   "metadata": {
    "collapsed": false
   },
   "outputs": [],
   "source": [
    "import re\n",
    "# Start the string with exactly 4 consonants. \n",
    "# Then at least 1 vowel and any number of other letters.\n",
    "# OR starts with exactly four consonants and thats the entire word.\n",
    "consts = re.compile(r'(^[^aeiouy]{4}[aeiouy]{1}.*$|^[^aeiouy]{4}$)')"
   ]
  },
  {
   "cell_type": "markdown",
   "metadata": {},
   "source": [
    "First, let's test this regex."
   ]
  },
  {
   "cell_type": "code",
   "execution_count": 8,
   "metadata": {
    "collapsed": false
   },
   "outputs": [
    {
     "data": {
      "text/plain": [
       "True"
      ]
     },
     "execution_count": 8,
     "metadata": {},
     "output_type": "execute_result"
    }
   ],
   "source": [
    "# Test the regex\n",
    "consts.match(\"strr\") is not None"
   ]
  },
  {
   "cell_type": "code",
   "execution_count": 9,
   "metadata": {
    "collapsed": false
   },
   "outputs": [
    {
     "data": {
      "text/plain": [
       "True"
      ]
     },
     "execution_count": 9,
     "metadata": {},
     "output_type": "execute_result"
    }
   ],
   "source": [
    "consts.match(\"strre\") is not None"
   ]
  },
  {
   "cell_type": "code",
   "execution_count": 10,
   "metadata": {
    "collapsed": false
   },
   "outputs": [
    {
     "data": {
      "text/plain": [
       "True"
      ]
     },
     "execution_count": 10,
     "metadata": {},
     "output_type": "execute_result"
    }
   ],
   "source": [
    "consts.match(\"strreak\") is not None"
   ]
  },
  {
   "cell_type": "code",
   "execution_count": 11,
   "metadata": {
    "collapsed": false
   },
   "outputs": [
    {
     "data": {
      "text/plain": [
       "True"
      ]
     },
     "execution_count": 11,
     "metadata": {},
     "output_type": "execute_result"
    }
   ],
   "source": [
    "consts.match(\"bad\") is None"
   ]
  },
  {
   "cell_type": "code",
   "execution_count": 12,
   "metadata": {
    "collapsed": false
   },
   "outputs": [
    {
     "data": {
      "text/plain": [
       "True"
      ]
     },
     "execution_count": 12,
     "metadata": {},
     "output_type": "execute_result"
    }
   ],
   "source": [
    "consts.match(\"ccccca\") is None # this is 5 constants so thats bad"
   ]
  },
  {
   "cell_type": "markdown",
   "metadata": {},
   "source": [
    "Alright, now onto the actual problem."
   ]
  },
  {
   "cell_type": "code",
   "execution_count": 13,
   "metadata": {
    "collapsed": false
   },
   "outputs": [],
   "source": [
    "consts_words = list(filter(consts.match,words2))"
   ]
  },
  {
   "cell_type": "code",
   "execution_count": 14,
   "metadata": {
    "collapsed": false
   },
   "outputs": [
    {
     "data": {
      "text/plain": [
       "60"
      ]
     },
     "execution_count": 14,
     "metadata": {},
     "output_type": "execute_result"
    }
   ],
   "source": [
    "len(consts_words)"
   ]
  },
  {
   "cell_type": "markdown",
   "metadata": {},
   "source": [
    "There are 60 words that start with exactly four consecutive consonants."
   ]
  },
  {
   "cell_type": "markdown",
   "metadata": {},
   "source": [
    "**4. How many words contain at least four instances of the letter a (not necessarily consecutive)?**"
   ]
  },
  {
   "cell_type": "code",
   "execution_count": 4,
   "metadata": {
    "collapsed": false
   },
   "outputs": [],
   "source": [
    "# [^a]* --> 0 or more characters that are not a\n",
    "# a --> match 1 a\n",
    "# [^a]* --> 0 or more characters that are not a\n",
    "# Match that 4 times.\n",
    "a = re.compile(r'^([^a]*a[^a]*){4,}$')"
   ]
  },
  {
   "cell_type": "code",
   "execution_count": 16,
   "metadata": {
    "collapsed": false
   },
   "outputs": [
    {
     "data": {
      "text/plain": [
       "True"
      ]
     },
     "execution_count": 16,
     "metadata": {},
     "output_type": "execute_result"
    }
   ],
   "source": [
    "a.match('aaaa') is not None"
   ]
  },
  {
   "cell_type": "code",
   "execution_count": 17,
   "metadata": {
    "collapsed": false
   },
   "outputs": [
    {
     "data": {
      "text/plain": [
       "True"
      ]
     },
     "execution_count": 17,
     "metadata": {},
     "output_type": "execute_result"
    }
   ],
   "source": [
    "a.match('bananana') is not None"
   ]
  },
  {
   "cell_type": "code",
   "execution_count": 18,
   "metadata": {
    "collapsed": false
   },
   "outputs": [
    {
     "data": {
      "text/plain": [
       "True"
      ]
     },
     "execution_count": 18,
     "metadata": {},
     "output_type": "execute_result"
    }
   ],
   "source": [
    "a.match('aaaaa') is not None # 5 a's"
   ]
  },
  {
   "cell_type": "code",
   "execution_count": 19,
   "metadata": {
    "collapsed": false
   },
   "outputs": [
    {
     "data": {
      "text/plain": [
       "True"
      ]
     },
     "execution_count": 19,
     "metadata": {},
     "output_type": "execute_result"
    }
   ],
   "source": [
    "a.match('taylor') is None"
   ]
  },
  {
   "cell_type": "code",
   "execution_count": 20,
   "metadata": {
    "collapsed": false
   },
   "outputs": [
    {
     "data": {
      "text/plain": [
       "True"
      ]
     },
     "execution_count": 20,
     "metadata": {},
     "output_type": "execute_result"
    }
   ],
   "source": [
    "a.match('amazinga') is None # 3 a's"
   ]
  },
  {
   "cell_type": "code",
   "execution_count": 21,
   "metadata": {
    "collapsed": true
   },
   "outputs": [],
   "source": [
    "a_words = list(filter(a.match, words2))"
   ]
  },
  {
   "cell_type": "code",
   "execution_count": 22,
   "metadata": {
    "collapsed": false
   },
   "outputs": [
    {
     "data": {
      "text/plain": [
       "50"
      ]
     },
     "execution_count": 22,
     "metadata": {},
     "output_type": "execute_result"
    }
   ],
   "source": [
    "len(a_words)"
   ]
  },
  {
   "cell_type": "markdown",
   "metadata": {},
   "source": [
    "There are 50 words with at least 4 instances of the letter a."
   ]
  },
  {
   "cell_type": "markdown",
   "metadata": {},
   "source": [
    "**5. How many words begin and end with a vowel with only consonants in between? For the purposes of this specific problem, `y` is neither consonant nor vowel, so consonants are the 20 letters that are not one of `a, e, i, o, u, y` and vowels are `a, e, i, o, u.` The words need not begin and end with the same vowel, so `angle` is a valid match.**\n",
    "\n",
    "We are also going to accept words that start and end with a vowel and as nothing in between. So the word `aa` would be acceptable."
   ]
  },
  {
   "cell_type": "code",
   "execution_count": 23,
   "metadata": {
    "collapsed": true
   },
   "outputs": [],
   "source": [
    "# Start with one vowel\n",
    "# 0 or more non-vowels nor y\n",
    "# End string with one vowel\n",
    "start_end_vow = re.compile(r'^[aeiou]{1}[^aeiouy]*[aeiou]$')"
   ]
  },
  {
   "cell_type": "code",
   "execution_count": 24,
   "metadata": {
    "collapsed": false
   },
   "outputs": [
    {
     "data": {
      "text/plain": [
       "True"
      ]
     },
     "execution_count": 24,
     "metadata": {},
     "output_type": "execute_result"
    }
   ],
   "source": [
    "start_end_vow.match('amtche') is not None"
   ]
  },
  {
   "cell_type": "code",
   "execution_count": 25,
   "metadata": {
    "collapsed": false
   },
   "outputs": [
    {
     "data": {
      "text/plain": [
       "True"
      ]
     },
     "execution_count": 25,
     "metadata": {},
     "output_type": "execute_result"
    }
   ],
   "source": [
    "start_end_vow.match('amatchno') is None"
   ]
  },
  {
   "cell_type": "code",
   "execution_count": 26,
   "metadata": {
    "collapsed": false
   },
   "outputs": [
    {
     "data": {
      "text/plain": [
       "True"
      ]
     },
     "execution_count": 26,
     "metadata": {},
     "output_type": "execute_result"
    }
   ],
   "source": [
    "# Does this count???\n",
    "start_end_vow.match('eo') is not None"
   ]
  },
  {
   "cell_type": "code",
   "execution_count": 27,
   "metadata": {
    "collapsed": false
   },
   "outputs": [],
   "source": [
    "start_end_words = list(filter(start_end_vow.match, words2))"
   ]
  },
  {
   "cell_type": "code",
   "execution_count": 28,
   "metadata": {
    "collapsed": false
   },
   "outputs": [
    {
     "data": {
      "text/plain": [
       "169"
      ]
     },
     "execution_count": 28,
     "metadata": {},
     "output_type": "execute_result"
    }
   ],
   "source": [
    "len(start_end_words)"
   ]
  },
  {
   "cell_type": "markdown",
   "metadata": {},
   "source": [
    "There are 169 words that start and end with a vowel with only consonants in between."
   ]
  },
  {
   "cell_type": "markdown",
   "metadata": {},
   "source": [
    "**6. How many words start and end with the same two-letter sequence? Hint: be careful of the edge cases in which the word is length 2 or 3.**"
   ]
  },
  {
   "cell_type": "code",
   "execution_count": 5,
   "metadata": {
    "collapsed": false
   },
   "outputs": [],
   "source": [
    "\"\"\"\n",
    "^(.)\\1$ --> 2 letter word, any character, then that character again OR\n",
    "^(.).\\1$ --> 3 letter word OR\n",
    "\n",
    "\\1.*\\1{2}$ --> That character again (sequence of 2), any characters, then end with starting character\n",
    "OR \\1{1}$ --> ends with the same character (2 letter word)\n",
    "OR \\1{2} --> ends with that character 2 times in a row (3 letter word)\n",
    "\"\"\"\n",
    "seq = re.compile(r'^(\\w{2}).*\\1$|^(\\w)\\2$|^(\\w)\\3{2}$')"
   ]
  },
  {
   "cell_type": "code",
   "execution_count": 6,
   "metadata": {
    "collapsed": false
   },
   "outputs": [
    {
     "data": {
      "text/plain": [
       "True"
      ]
     },
     "execution_count": 6,
     "metadata": {},
     "output_type": "execute_result"
    }
   ],
   "source": [
    "seq.match('aaa') is not None"
   ]
  },
  {
   "cell_type": "code",
   "execution_count": 7,
   "metadata": {
    "collapsed": false
   },
   "outputs": [
    {
     "data": {
      "text/plain": [
       "True"
      ]
     },
     "execution_count": 7,
     "metadata": {},
     "output_type": "execute_result"
    }
   ],
   "source": [
    "seq.match('aha') is None"
   ]
  },
  {
   "cell_type": "code",
   "execution_count": 31,
   "metadata": {
    "collapsed": false
   },
   "outputs": [
    {
     "data": {
      "text/plain": [
       "True"
      ]
     },
     "execution_count": 31,
     "metadata": {},
     "output_type": "execute_result"
    }
   ],
   "source": [
    "seq.match('aabbdsdaa') is not None"
   ]
  },
  {
   "cell_type": "code",
   "execution_count": 32,
   "metadata": {
    "collapsed": false
   },
   "outputs": [
    {
     "data": {
      "text/plain": [
       "True"
      ]
     },
     "execution_count": 32,
     "metadata": {},
     "output_type": "execute_result"
    }
   ],
   "source": [
    "seq.match('aa') is not None"
   ]
  },
  {
   "cell_type": "code",
   "execution_count": 33,
   "metadata": {
    "collapsed": false
   },
   "outputs": [
    {
     "data": {
      "text/plain": [
       "True"
      ]
     },
     "execution_count": 33,
     "metadata": {},
     "output_type": "execute_result"
    }
   ],
   "source": [
    "seq.match('aaa') is not None"
   ]
  },
  {
   "cell_type": "code",
   "execution_count": 34,
   "metadata": {
    "collapsed": false
   },
   "outputs": [
    {
     "data": {
      "text/plain": [
       "True"
      ]
     },
     "execution_count": 34,
     "metadata": {},
     "output_type": "execute_result"
    }
   ],
   "source": [
    "seq.match('abcdaa') is None"
   ]
  },
  {
   "cell_type": "code",
   "execution_count": 35,
   "metadata": {
    "collapsed": false
   },
   "outputs": [
    {
     "data": {
      "text/plain": [
       "True"
      ]
     },
     "execution_count": 35,
     "metadata": {},
     "output_type": "execute_result"
    }
   ],
   "source": [
    "seq.match('a') is None"
   ]
  },
  {
   "cell_type": "code",
   "execution_count": 8,
   "metadata": {
    "collapsed": true
   },
   "outputs": [],
   "source": [
    "seq_words = list(filter(seq.match, words2))"
   ]
  },
  {
   "cell_type": "code",
   "execution_count": 9,
   "metadata": {
    "collapsed": false
   },
   "outputs": [
    {
     "data": {
      "text/plain": [
       "282"
      ]
     },
     "execution_count": 9,
     "metadata": {},
     "output_type": "execute_result"
    }
   ],
   "source": [
    "len(seq_words)"
   ]
  },
  {
   "cell_type": "markdown",
   "metadata": {},
   "source": [
    "There are 282 letter that starts and ends with the same two-letter sequence."
   ]
  },
  {
   "cell_type": "markdown",
   "metadata": {},
   "source": [
    "# Problem 2: Exploring Internet Traffic with Regexes"
   ]
  },
  {
   "cell_type": "markdown",
   "metadata": {},
   "source": [
    "**1. Download the file from the URL above (or use urllib or requests to open it directly, being careful to convert the raw bytes back to UTF-8) and read its contents into a string. Each line of this file corresponds to a single packet sent over the internet. How many packets are in this file?**"
   ]
  },
  {
   "cell_type": "code",
   "execution_count": 38,
   "metadata": {
    "collapsed": false
   },
   "outputs": [],
   "source": [
    "data = urllib.request.urlopen(\"http://umich.edu/~klevin/teaching/Winter2018/STATS701/SkypeIRC.txt\")\n",
    "packets = data.read().decode('utf-8').splitlines()\n",
    "packets = [p.strip() for p in packets]"
   ]
  },
  {
   "cell_type": "code",
   "execution_count": 39,
   "metadata": {
    "collapsed": false
   },
   "outputs": [
    {
     "data": {
      "text/plain": [
       "['1   0.000000  192.168.1.2 → 212.204.214.114 IRC 96 Request (ISON)',\n",
       " '2   0.125852 212.204.214.114 → 192.168.1.2  TCP 66 6667 → 2848 [ACK] Seq=1 Ack=31 Win=57890 Len=0 TSval=2196036564 TSecr=14215752',\n",
       " '3   0.137361 212.204.214.114 → 192.168.1.2  IRC 112 Response (303)',\n",
       " '4   0.137413  192.168.1.2 → 212.204.214.114 TCP 66 2848 → 6667 [ACK] Seq=31 Ack=47 Win=8011 Len=0 TSval=14215889 TSecr=2196036565',\n",
       " '5   0.235960  192.168.1.2 → 192.168.1.1  DNS 84 Standard query 0x311f PTR 2.1.168.192.in-addr.arpa']"
      ]
     },
     "execution_count": 39,
     "metadata": {},
     "output_type": "execute_result"
    }
   ],
   "source": [
    "packets[0:5]"
   ]
  },
  {
   "cell_type": "code",
   "execution_count": 40,
   "metadata": {
    "collapsed": false
   },
   "outputs": [
    {
     "data": {
      "text/plain": [
       "2263"
      ]
     },
     "execution_count": 40,
     "metadata": {},
     "output_type": "execute_result"
    }
   ],
   "source": [
    "len(packets)"
   ]
  },
  {
   "cell_type": "markdown",
   "metadata": {},
   "source": [
    "There are 2,263 packets."
   ]
  },
  {
   "cell_type": "markdown",
   "metadata": {},
   "source": [
    "**2. Use regular expressions to extract all the IP addresses from the file and collect them in a Python list. An IP address consists of four numbers, which are displayed as `A.B.C.D` where `A`,`B`,`C` and `D` are each numbers between 0 and 255. How many unique IP addresses appear in the data set?**"
   ]
  },
  {
   "cell_type": "code",
   "execution_count": 82,
   "metadata": {
    "collapsed": false
   },
   "outputs": [],
   "source": [
    "ip = re.compile(r\"((2[01234]\\d|25[0-5]|1\\d{2}|\\d{1,2})\\.(2[01234]\\d|25[0-5]|1\\d{2}|\\d{1,2})\\.(2[01234]\\d|25[0-5]|1\\d{2}|\\d{1,2})\\.(2[01234]\\d|25[0-5]|1\\d{2}|\\d{1,2})) \")"
   ]
  },
  {
   "cell_type": "code",
   "execution_count": 91,
   "metadata": {
    "collapsed": false
   },
   "outputs": [
    {
     "data": {
      "text/plain": [
       "[('202.12.124.2', '202', '12', '124', '2'),\n",
       " ('123.23.22.1', '123', '23', '22', '1')]"
      ]
     },
     "execution_count": 91,
     "metadata": {},
     "output_type": "execute_result"
    }
   ],
   "source": [
    "ip.findall(\"202.12.124.2 stuff 123.23.22.1 \")"
   ]
  },
  {
   "cell_type": "code",
   "execution_count": 43,
   "metadata": {
    "collapsed": false
   },
   "outputs": [
    {
     "data": {
      "text/plain": [
       "['202.12.124.2', '123.23.22.1']"
      ]
     },
     "execution_count": 43,
     "metadata": {},
     "output_type": "execute_result"
    }
   ],
   "source": [
    "['.'.join(x) for x in ip.findall(\"202.12.124.2 more stuff 123.23.22.1\")]"
   ]
  },
  {
   "cell_type": "code",
   "execution_count": 92,
   "metadata": {
    "collapsed": true
   },
   "outputs": [],
   "source": [
    "ips = []\n",
    "# For each packet\n",
    "for p in packets:\n",
    "    # Search for ip addresses in that packet, extract them\n",
    "    # Because they are outputted into tuples, we join them together\n",
    "    # Extend the list to add the new IP addresses found\n",
    "    ips_found = ip.findall(p)\n",
    "    for i in ips_found:\n",
    "        ips.append(i[0])\n",
    "#    ips.extend(['.'.join(x) for x in ip.findall(p)])"
   ]
  },
  {
   "cell_type": "code",
   "execution_count": 94,
   "metadata": {
    "collapsed": false
   },
   "outputs": [
    {
     "data": {
      "text/plain": [
       "184"
      ]
     },
     "execution_count": 94,
     "metadata": {},
     "output_type": "execute_result"
    }
   ],
   "source": [
    "len(set(ips)"
   ]
  },
  {
   "cell_type": "markdown",
   "metadata": {},
   "source": [
    "There are 184 unique IP addresses in the data set."
   ]
  },
  {
   "cell_type": "markdown",
   "metadata": {},
   "source": [
    "**3. Some packets involve Comcast servers. These appear as lines including a URL that looks like `X.comcast.net`, where `X` is some string giving the name of a specific server on Comcast's network. For example, one of the servers has the name `c-69-248-108-13.hsd1.pa`, so that it appears in the file as `c-69-248-108-13.hsd1.pa.comcast.net`. Note that not all such servers in the data set follow the same naming convention, but all of them terminate with comcast.net. Use a regular expression to construct\n",
    "a list of all these server names (Hint: use groups). How many unique servers appear in the list?**"
   ]
  },
  {
   "cell_type": "code",
   "execution_count": 48,
   "metadata": {
    "collapsed": true
   },
   "outputs": [],
   "source": [
    "servers = re.compile(r'([\\w.-]+)\\.comcast.net')\n",
    "comcast = re.compile(r'comcast.net')"
   ]
  },
  {
   "cell_type": "code",
   "execution_count": 49,
   "metadata": {
    "collapsed": false
   },
   "outputs": [
    {
     "data": {
      "text/plain": [
       "'c-69-248-108-13.hsd1.pa.comcast.net'"
      ]
     },
     "execution_count": 49,
     "metadata": {},
     "output_type": "execute_result"
    }
   ],
   "source": [
    "match = servers.search('The server is c-69-248-108-13.hsd1.pa.comcast.net')\n",
    "match.group()"
   ]
  },
  {
   "cell_type": "code",
   "execution_count": 50,
   "metadata": {
    "collapsed": false
   },
   "outputs": [],
   "source": [
    "servs = []\n",
    "for p in packets:\n",
    "    match = servers.search(p)\n",
    "    if match is not None:\n",
    "        servs.append(match.group())\n",
    "servs = np.unique(servs)"
   ]
  },
  {
   "cell_type": "code",
   "execution_count": 51,
   "metadata": {
    "collapsed": false
   },
   "outputs": [
    {
     "data": {
      "text/plain": [
       "25"
      ]
     },
     "execution_count": 51,
     "metadata": {},
     "output_type": "execute_result"
    }
   ],
   "source": [
    "len(servs)"
   ]
  },
  {
   "cell_type": "markdown",
   "metadata": {},
   "source": [
    "There are 25 unique servers."
   ]
  },
  {
   "cell_type": "markdown",
   "metadata": {},
   "source": [
    "**4. The second piece of text (i.e., non-whitespace) on each line is a time stamp, counting the time (in seconds) since the beginning of the traffic recording. Using `matplotlib`, create a plot displaying how many packets appeared in each second of the recording. A histogram or line plot is the most obvious way to do this, but you should feel free to use a more creative way of displaying this information if you wish to do so.**"
   ]
  },
  {
   "cell_type": "code",
   "execution_count": 52,
   "metadata": {
    "collapsed": true
   },
   "outputs": [],
   "source": [
    "'''\n",
    "^\\w* --> Line starts with at least one word character\n",
    "        --> It looks like only digits start the line but we cannot be sure.\n",
    "\\s* --> At least some whitespace\n",
    "\n",
    "([\\d.]*) --> This is what we want. It is the second piece of text. It is at least one digit a period and then more digits\n",
    "            --> Put it in a group so we can extract it\n",
    "\n",
    "\\b --> After the timestamp we want a break. Probably could also use \\s here.\n",
    "'''\n",
    "time = re.compile(r'^\\w*\\s*(\\d*\\.\\d*)\\b')"
   ]
  },
  {
   "cell_type": "code",
   "execution_count": 53,
   "metadata": {
    "collapsed": false
   },
   "outputs": [],
   "source": [
    "match = time.search(\"1 234.123 apple\")"
   ]
  },
  {
   "cell_type": "code",
   "execution_count": 54,
   "metadata": {
    "collapsed": false
   },
   "outputs": [
    {
     "data": {
      "text/plain": [
       "'234.123'"
      ]
     },
     "execution_count": 54,
     "metadata": {},
     "output_type": "execute_result"
    }
   ],
   "source": [
    "match.group(1)"
   ]
  },
  {
   "cell_type": "code",
   "execution_count": 55,
   "metadata": {
    "collapsed": false
   },
   "outputs": [
    {
     "data": {
      "text/plain": [
       "[0.0, 0.125852, 0.137361, 0.137413, 0.23596]"
      ]
     },
     "execution_count": 55,
     "metadata": {},
     "output_type": "execute_result"
    }
   ],
   "source": [
    "timestamps = []\n",
    "for p in packets:\n",
    "    match = time.search(p)\n",
    "    if match is not None:\n",
    "        timestamps.append(float(match.group(1)))\n",
    "\n",
    "timestamps[0:5]"
   ]
  },
  {
   "cell_type": "code",
   "execution_count": 56,
   "metadata": {
    "collapsed": false
   },
   "outputs": [],
   "source": [
    "# Now plot\n",
    "import matplotlib.pyplot as plt\n",
    "%matplotlib inline\n",
    "import math"
   ]
  },
  {
   "cell_type": "code",
   "execution_count": 57,
   "metadata": {
    "collapsed": false
   },
   "outputs": [
    {
     "data": {
      "image/png": "[encoded data removed]",
      "text/plain": [
       "<matplotlib.figure.Figure at 0x21526911da0>"
      ]
     },
     "metadata": {},
     "output_type": "display_data"
    }
   ],
   "source": [
    "# Find the largest time in seconds.\n",
    "# We want to graph time per second so we want a bin for each second.\n",
    "max_time = math.ceil(max(timestamps))\n",
    "plt.figure(figsize=(24, 8))\n",
    "plt.hist(timestamps, max_time, facecolor='firebrick')\n",
    "plt.ylabel('Frequency')\n",
    "plt.xlabel('Seconds')\n",
    "plt.title('Histogram of Packets per Second')\n",
    "plt.show()"
   ]
  },
  {
   "cell_type": "markdown",
   "metadata": {
    "collapsed": true
   },
   "source": [
    "# Problem 3: Retrieving Data from the Web\n",
    "**1. Read in the Wikipedia page for <a href=\"https://en.wikipedia.org/wiki/Portland,_Oregon\">Portland, Oregon</a>. Find the table on the climate, which has the tag `Climate data for [Cityname] (normals YYYY-YYYY, extremes YYYY-YYYY).` What is the structure of this node of the tree (e.g., how many children does the table have, what are their tags, etc.)?**"
   ]
  },
  {
   "cell_type": "code",
   "execution_count": 58,
   "metadata": {
    "collapsed": false
   },
   "outputs": [],
   "source": [
    "city = urllib.request.urlopen(\"https://en.wikipedia.org/wiki/Portland,_Oregon\")\n",
    "city = BeautifulSoup(city, 'html.parser')"
   ]
  },
  {
   "cell_type": "code",
   "execution_count": 59,
   "metadata": {
    "collapsed": false
   },
   "outputs": [],
   "source": [
    "clim_tab = None\n",
    "city_re = re.compile(\"Climate data for Portland, Oregon\") # We know that the table will have this string in it\n",
    "# Iterate over each table.\n",
    "for tab in city.find_all('table'):\n",
    "    # Check the child th\n",
    "    # Some tables might not have this child, so make sure there is one\n",
    "    if(tab.th is not None):\n",
    "        # In this child, check if the string matches \"Climate data for Portland, Oregon\"\n",
    "        if(city_re.match(tab.th.get_text()) is not None):\n",
    "            # If it does, it is the table we want, save it and leave the loop\n",
    "            clim_tab = tab\n",
    "            break"
   ]
  },
  {
   "cell_type": "markdown",
   "metadata": {},
   "source": [
    "A table starts with a table tag (makes sense). Each row of the table starts and ends with a tr tag. Each row can have row/column headings, which is between a th tag. The value of the \"scope\" attribute in the th tag is either \"row\" or \"column\" to signify if the table header is either a row or a column. Under each tr tag is also some number of td tags. Td tags signify the row values, so each value in the row gets its own td tag. "
   ]
  },
  {
   "cell_type": "code",
   "execution_count": 60,
   "metadata": {
    "collapsed": false
   },
   "outputs": [
    {
     "data": {
      "text/plain": [
       "<table class=\"wikitable collapsible\" style=\"width:90%; text-align:center; font-size:90%; line-height: 1.2em; margin:auto;\">\n",
       "<tr>\n",
       "<th colspan=\"14\">Climate data for Portland, Oregon (<a href=\"/wiki/Portland_International_Airport\" title=\"Portland International Airport\">PDX</a>), 1981–2010 normals,<sup class=\"reference\" id=\"cite_ref-83\"><a href=\"#cite_note-83\">[a]</a></sup> extremes 1940–present<sup class=\"reference\" id=\"cite_ref-85\"><a href=\"#cite_note-85\">[b]</a></sup></th>\n",
       "</tr>\n",
       "<tr>\n",
       "<th scope=\"row\">Month</th>\n",
       "<th scope=\"col\">Jan</th>\n",
       "<th scope=\"col\">Feb</th>\n",
       "<th scope=\"col\">Mar</th>\n",
       "<th scope=\"col\">Apr</th>\n",
       "<th scope=\"col\">May</th>\n",
       "<th scope=\"col\">Jun</th>\n",
       "<th scope=\"col\">Jul</th>\n",
       "<th scope=\"col\">Aug</th>\n",
       "<th scope=\"col\">Sep</th>\n",
       "<th scope=\"col\">Oct</th>\n",
       "<th scope=\"col\">Nov</th>\n",
       "<th scope=\"col\">Dec</th>\n",
       "<th scope=\"col\" style=\"border-left-width:medium\">Year</th>\n",
       "</tr>\n",
       "<tr style=\"text-align: center;\">\n",
       "<th scope=\"row\" style=\"height: 16px;\">Record high °F (°C)</th>\n",
       "<td style=\"background: #FF9B37; color:#000000;\">66<br/>\n",
       "(19)</td>\n",
       "<td style=\"background: #FF860D; color:#000000;\">71<br/>\n",
       "(22)</td>\n",
       "<td style=\"background: #FF6300; color:#000000;\">80<br/>\n",
       "(27)</td>\n",
       "<td style=\"background: #FF4100; color:#000000;\">90<br/>\n",
       "(32)</td>\n",
       "<td style=\"background: #FF1800; color:#FFFFFF;\">100<br/>\n",
       "(38)</td>\n",
       "<td style=\"background: #FF1100; color:#FFFFFF;\">102<br/>\n",
       "(39)</td>\n",
       "<td style=\"background: #F80000; color:#FFFFFF;\">107<br/>\n",
       "(42)</td>\n",
       "<td style=\"background: #F80000; color:#FFFFFF;\">107<br/>\n",
       "(42)</td>\n",
       "<td style=\"background: #FF0300; color:#FFFFFF;\">105<br/>\n",
       "(41)</td>\n",
       "<td style=\"background: #FF3A00; color:#000000;\">92<br/>\n",
       "(33)</td>\n",
       "<td style=\"background: #FF7F00; color:#000000;\">73<br/>\n",
       "(23)</td>\n",
       "<td style=\"background: #FFA144; color:#000000;\">65<br/>\n",
       "(18)</td>\n",
       "<td style=\"background: #F80000; color:#FFFFFF; border-left-width:medium\">107<br/>\n",
       "(42)</td>\n",
       "</tr>\n",
       "<tr style=\"text-align: center;\">\n",
       "<th scope=\"row\" style=\"height: 16px;\">Mean maximum °F (°C)</th>\n",
       "<td style=\"background: #FFB872; color:#000000;\">58.4<br/>\n",
       "(14.7)</td>\n",
       "<td style=\"background: #FFAD5C; color:#000000;\">61.4<br/>\n",
       "(16.3)</td>\n",
       "<td style=\"background: #FF8E1E; color:#000000;\">69.5<br/>\n",
       "(20.8)</td>\n",
       "<td style=\"background: #FF6B00; color:#000000;\">78.7<br/>\n",
       "(25.9)</td>\n",
       "<td style=\"background: #FF4B00; color:#000000;\">87.1<br/>\n",
       "(30.6)</td>\n",
       "<td style=\"background: #FF3B00; color:#000000;\">91.3<br/>\n",
       "(32.9)</td>\n",
       "<td style=\"background: #FF2600; color:#000000;\">96.7<br/>\n",
       "(35.9)</td>\n",
       "<td style=\"background: #FF2700; color:#000000;\">96.5<br/>\n",
       "(35.8)</td>\n",
       "<td style=\"background: #FF3D00; color:#000000;\">90.6<br/>\n",
       "(32.6)</td>\n",
       "<td style=\"background: #FF6C00; color:#000000;\">78.2<br/>\n",
       "(25.7)</td>\n",
       "<td style=\"background: #FFA44A; color:#000000;\">63.6<br/>\n",
       "(17.6)</td>\n",
       "<td style=\"background: #FFBC79; color:#000000;\">57.5<br/>\n",
       "(14.2)</td>\n",
       "<td style=\"background: #FF1800; color:#FFFFFF; border-left-width:medium\">100.2<br/>\n",
       "(37.9)</td>\n",
       "</tr>\n",
       "<tr style=\"text-align: center;\">\n",
       "<th scope=\"row\" style=\"height: 16px;\">Average high °F (°C)</th>\n",
       "<td style=\"background: #FFE4CA; color:#000000;\">47.0<br/>\n",
       "(8.3)</td>\n",
       "<td style=\"background: #FFD4A9; color:#000000;\">51.3<br/>\n",
       "(10.7)</td>\n",
       "<td style=\"background: #FFBF80; color:#000000;\">56.7<br/>\n",
       "(13.7)</td>\n",
       "<td style=\"background: #FFAD5C; color:#000000;\">61.4<br/>\n",
       "(16.3)</td>\n",
       "<td style=\"background: #FF9429; color:#000000;\">68.0<br/>\n",
       "(20)</td>\n",
       "<td style=\"background: #FF7E00; color:#000000;\">73.5<br/>\n",
       "(23.1)</td>\n",
       "<td style=\"background: #FF6300; color:#000000;\">80.6<br/>\n",
       "(27)</td>\n",
       "<td style=\"background: #FF6100; color:#000000;\">81.1<br/>\n",
       "(27.3)</td>\n",
       "<td style=\"background: #FF7600; color:#000000;\">75.8<br/>\n",
       "(24.3)</td>\n",
       "<td style=\"background: #FFA449; color:#000000;\">63.8<br/>\n",
       "(17.7)</td>\n",
       "<td style=\"background: #FFCE9D; color:#000000;\">52.8<br/>\n",
       "(11.6)</td>\n",
       "<td style=\"background: #FFE9D4; color:#000000;\">45.6<br/>\n",
       "(7.6)</td>\n",
       "<td style=\"background: #FFA64E; color:#000000; border-left-width:medium\">63.1<br/>\n",
       "(17.3)</td>\n",
       "</tr>\n",
       "<tr style=\"text-align: center;\">\n",
       "<th scope=\"row\" style=\"height: 16px;\">Average low °F (°C)</th>\n",
       "<td style=\"background: #F2F2FF; color:#000000;\">35.8<br/>\n",
       "(2.1)</td>\n",
       "<td style=\"background: #F3F3FF; color:#000000;\">36.3<br/>\n",
       "(2.4)</td>\n",
       "<td style=\"background: #FDFDFF; color:#000000;\">39.6<br/>\n",
       "(4.2)</td>\n",
       "<td style=\"background: #FFF3E7; color:#000000;\">43.1<br/>\n",
       "(6.2)</td>\n",
       "<td style=\"background: #FFDEBE; color:#000000;\">48.6<br/>\n",
       "(9.2)</td>\n",
       "<td style=\"background: #FFCB97; color:#000000;\">53.6<br/>\n",
       "(12)</td>\n",
       "<td style=\"background: #FFBB77; color:#000000;\">57.8<br/>\n",
       "(14.3)</td>\n",
       "<td style=\"background: #FFBA76; color:#000000;\">58.0<br/>\n",
       "(14.4)</td>\n",
       "<td style=\"background: #FFCD9B; color:#000000;\">53.1<br/>\n",
       "(11.7)</td>\n",
       "<td style=\"background: #FFE8D1; color:#000000;\">46.0<br/>\n",
       "(7.8)</td>\n",
       "<td style=\"background: #FFFDFC; color:#000000;\">40.5<br/>\n",
       "(4.7)</td>\n",
       "<td style=\"background: #F0F0FF; color:#000000;\">35.2<br/>\n",
       "(1.8)</td>\n",
       "<td style=\"background: #FFE9D4; color:#000000; border-left-width:medium\">45.6<br/>\n",
       "(7.6)</td>\n",
       "</tr>\n",
       "<tr style=\"text-align: center;\">\n",
       "<th scope=\"row\" style=\"height: 16px;\">Mean minimum °F (°C)</th>\n",
       "<td style=\"background: #D0D0FF; color:#000000;\">24.6<br/>\n",
       "(−4.1)</td>\n",
       "<td style=\"background: #D0D0FF; color:#000000;\">24.5<br/>\n",
       "(−4.2)</td>\n",
       "<td style=\"background: #E1E1FF; color:#000000;\">30.3<br/>\n",
       "(−0.9)</td>\n",
       "<td style=\"background: #EDEDFF; color:#000000;\">34.2<br/>\n",
       "(1.2)</td>\n",
       "<td style=\"background: #FFFFFF; color:#000000;\">40.1<br/>\n",
       "(4.5)</td>\n",
       "<td style=\"background: #FFE5CC; color:#000000;\">46.7<br/>\n",
       "(8.2)</td>\n",
       "<td style=\"background: #FFD4A9; color:#000000;\">51.2<br/>\n",
       "(10.7)</td>\n",
       "<td style=\"background: #FFD6AD; color:#000000;\">50.7<br/>\n",
       "(10.4)</td>\n",
       "<td style=\"background: #FFEEDD; color:#000000;\">44.4<br/>\n",
       "(6.9)</td>\n",
       "<td style=\"background: #F0F0FF; color:#000000;\">35.3<br/>\n",
       "(1.8)</td>\n",
       "<td style=\"background: #DBDBFF; color:#000000;\">28.4<br/>\n",
       "(−2)</td>\n",
       "<td style=\"background: #CDCDFF; color:#000000;\">23.7<br/>\n",
       "(−4.6)</td>\n",
       "<td style=\"background: #C1C1FF; color:#000000; border-left-width:medium\">19.6<br/>\n",
       "(−6.9)</td>\n",
       "</tr>\n",
       "<tr style=\"text-align: center;\">\n",
       "<th scope=\"row\" style=\"height: 16px;\">Record low °F (°C)</th>\n",
       "<td style=\"background: #8080FF; color:#000000;\">−2<br/>\n",
       "(−19)</td>\n",
       "<td style=\"background: #8080FF; color:#000000;\">−3<br/>\n",
       "(−19)</td>\n",
       "<td style=\"background: #C0C0FF; color:#000000;\">19<br/>\n",
       "(−7)</td>\n",
       "<td style=\"background: #DBDBFF; color:#000000;\">29<br/>\n",
       "(−2)</td>\n",
       "<td style=\"background: #DBDBFF; color:#000000;\">29<br/>\n",
       "(−2)</td>\n",
       "<td style=\"background: #FCFCFF; color:#000000;\">39<br/>\n",
       "(4)</td>\n",
       "<td style=\"background: #FFF4EA; color:#000000;\">43<br/>\n",
       "(6)</td>\n",
       "<td style=\"background: #FFEDDC; color:#000000;\">44<br/>\n",
       "(7)</td>\n",
       "<td style=\"background: #ECECFF; color:#000000;\">34<br/>\n",
       "(1)</td>\n",
       "<td style=\"background: #D6D6FF; color:#000000;\">26<br/>\n",
       "(−3)</td>\n",
       "<td style=\"background: #ABABFF; color:#000000;\">13<br/>\n",
       "(−11)</td>\n",
       "<td style=\"background: #9B9BFF; color:#000000;\">6<br/>\n",
       "(−14)</td>\n",
       "<td style=\"background: #8080FF; color:#000000; border-left-width:medium\">−3<br/>\n",
       "(−19)</td>\n",
       "</tr>\n",
       "<tr style=\"text-align: center;\">\n",
       "<th scope=\"row\" style=\"height: 16px;\">Average <a href=\"/wiki/Precipitation\" title=\"Precipitation\">precipitation</a> inches (mm)</th>\n",
       "<td style=\"background: #46FF46; color:#000000;\">4.88<br/>\n",
       "(124)</td>\n",
       "<td style=\"background: #65FF65; color:#000000;\">3.66<br/>\n",
       "(93)</td>\n",
       "<td style=\"background: #73FF73; color:#000000;\">3.68<br/>\n",
       "(93.5)</td>\n",
       "<td style=\"background: #94FF94; color:#000000;\">2.73<br/>\n",
       "(69.3)</td>\n",
       "<td style=\"background: #A1FFA1; color:#000000;\">2.47<br/>\n",
       "(62.7)</td>\n",
       "<td style=\"background: #BCFFBC; color:#000000;\">1.70<br/>\n",
       "(43.2)</td>\n",
       "<td style=\"background: #E6FFE6; color:#000000;\">0.65<br/>\n",
       "(16.5)</td>\n",
       "<td style=\"background: #E5FFE5; color:#000000;\">0.67<br/>\n",
       "(17)</td>\n",
       "<td style=\"background: #C5FFC5; color:#000000;\">1.47<br/>\n",
       "(37.3)</td>\n",
       "<td style=\"background: #8DFF8D; color:#000000;\">3.00<br/>\n",
       "(76.2)</td>\n",
       "<td style=\"background: #22FF22; color:#000000;\">5.63<br/>\n",
       "(143)</td>\n",
       "<td style=\"background: #2FFF2F; color:#000000;\">5.49<br/>\n",
       "(139.4)</td>\n",
       "<td style=\"background: #8BFF8B; color:#000000; border-left-width:medium\">36.03<br/>\n",
       "(915.2)</td>\n",
       "</tr>\n",
       "<tr style=\"text-align: center;\">\n",
       "<th scope=\"row\" style=\"height: 16px;\">Average snowfall inches (cm)</th>\n",
       "<td style=\"background: #EBEBFF; color:#000000;\">0.5<br/>\n",
       "(1.3)</td>\n",
       "<td style=\"background: #A7A7FF; color:#000000;\">2.1<br/>\n",
       "(5.3)</td>\n",
       "<td style=\"background: #F7F7FF; color:#000000;\">0.2<br/>\n",
       "(0.5)</td>\n",
       "<td style=\"background: #FFFFFF; color:#000000;\">0<br/>\n",
       "(0)</td>\n",
       "<td style=\"background: #FFFFFF; color:#000000;\">0<br/>\n",
       "(0)</td>\n",
       "<td style=\"background: #FFFFFF; color:#000000;\">0<br/>\n",
       "(0)</td>\n",
       "<td style=\"background: #FFFFFF; color:#000000;\">0<br/>\n",
       "(0)</td>\n",
       "<td style=\"background: #FFFFFF; color:#000000;\">0<br/>\n",
       "(0)</td>\n",
       "<td style=\"background: #FFFFFF; color:#000000;\">0<br/>\n",
       "(0)</td>\n",
       "<td style=\"background: #FFFFFF; color:#000000;\">0<br/>\n",
       "(0)</td>\n",
       "<td style=\"background: #F7F7FF; color:#000000;\">0.2<br/>\n",
       "(0.5)</td>\n",
       "<td style=\"background: #CDCDFF; color:#000000;\">1.3<br/>\n",
       "(3.3)</td>\n",
       "<td style=\"background: #F1F1FF; color:#000000; border-left-width:medium\">4.3<br/>\n",
       "(10.9)</td>\n",
       "</tr>\n",
       "<tr style=\"text-align: center;\">\n",
       "<th scope=\"row\" style=\"height: 16px;\">Average precipitation days <span class=\"nowrap\" style=\"font-size:90%;\">(≥ 0.01 in)</span></th>\n",
       "<td style=\"background: #2020FF; color:#FFFFFF;\">18.0</td>\n",
       "<td style=\"background: #3333FF; color:#FFFFFF;\">14.9</td>\n",
       "<td style=\"background: #2525FF; color:#FFFFFF;\">17.6</td>\n",
       "<td style=\"background: #2D2DFF; color:#FFFFFF;\">16.4</td>\n",
       "<td style=\"background: #5757FF; color:#FFFFFF;\">13.6</td>\n",
       "<td style=\"background: #8989FF; color:#000000;\">9.2</td>\n",
       "<td style=\"background: #CCCCFF; color:#000000;\">4.1</td>\n",
       "<td style=\"background: #CECEFF; color:#000000;\">3.9</td>\n",
       "<td style=\"background: #A9A9FF; color:#000000;\">6.7</td>\n",
       "<td style=\"background: #6464FF; color:#FFFFFF;\">12.5</td>\n",
       "<td style=\"background: #0C0CFF; color:#FFFFFF;\">19.0</td>\n",
       "<td style=\"background: #1919FF; color:#FFFFFF;\">18.6</td>\n",
       "<td style=\"background: #5D5DFF; color:#FFFFFF; border-left-width:medium\">154.5</td>\n",
       "</tr>\n",
       "<tr style=\"text-align: center;\">\n",
       "<th scope=\"row\" style=\"height: 16px;\">Average snowy days <span class=\"nowrap\" style=\"font-size:90%;\">(≥ 0.1 in)</span></th>\n",
       "<td style=\"background: #F6F6FF; color:#000000;\">0.7</td>\n",
       "<td style=\"background: #EAEAFF; color:#000000;\">1.5</td>\n",
       "<td style=\"background: #FCFCFF; color:#000000;\">0.2</td>\n",
       "<td style=\"background: #FFFFFF; color:#000000;\">0</td>\n",
       "<td style=\"background: #FFFFFF; color:#000000;\">0</td>\n",
       "<td style=\"background: #FFFFFF; color:#000000;\">0</td>\n",
       "<td style=\"background: #FFFFFF; color:#000000;\">0</td>\n",
       "<td style=\"background: #FFFFFF; color:#000000;\">0</td>\n",
       "<td style=\"background: #FFFFFF; color:#000000;\">0</td>\n",
       "<td style=\"background: #FFFFFF; color:#000000;\">0</td>\n",
       "<td style=\"background: #F8F8FF; color:#000000;\">0.5</td>\n",
       "<td style=\"background: #ECECFF; color:#000000;\">1.5</td>\n",
       "<td style=\"background: #FAFAFF; color:#000000; border-left-width:medium\">4.4</td>\n",
       "</tr>\n",
       "<tr style=\"text-align: center;\">\n",
       "<th scope=\"row\" style=\"height: 16px;\">Average <a href=\"/wiki/Relative_humidity\" title=\"Relative humidity\">relative humidity</a> (%)</th>\n",
       "<td style=\"background: #0000C8; color:#FFFFFF;\">80.9</td>\n",
       "<td style=\"background: #0000D3; color:#FFFFFF;\">78.0</td>\n",
       "<td style=\"background: #0000E0; color:#FFFFFF;\">74.6</td>\n",
       "<td style=\"background: #0000EC; color:#FFFFFF;\">71.6</td>\n",
       "<td style=\"background: #0000F7; color:#FFFFFF;\">68.7</td>\n",
       "<td style=\"background: #0303FF; color:#FFFFFF;\">65.8</td>\n",
       "<td style=\"background: #0E0EFF; color:#FFFFFF;\">62.8</td>\n",
       "<td style=\"background: #0707FF; color:#FFFFFF;\">64.8</td>\n",
       "<td style=\"background: #0000F4; color:#FFFFFF;\">69.4</td>\n",
       "<td style=\"background: #0000D4; color:#FFFFFF;\">77.9</td>\n",
       "<td style=\"background: #0000C6; color:#FFFFFF;\">81.5</td>\n",
       "<td style=\"background: #0000C1; color:#FFFFFF;\">82.7</td>\n",
       "<td style=\"background: #0000E6; color:#FFFFFF; border-left-width:medium\">73.2</td>\n",
       "</tr>\n",
       "<tr style=\"text-align: center;\">\n",
       "<th scope=\"row\" style=\"height: 16px;\">Mean monthly <a href=\"/wiki/Sunshine_duration\" title=\"Sunshine duration\">sunshine hours</a></th>\n",
       "<td style=\"background: #9C9C9C; color:#000000;\">85.6</td>\n",
       "<td style=\"background: #BABA47; color:#000000;\">116.4</td>\n",
       "<td style=\"background: #D5D500; color:#000000;\">191.1</td>\n",
       "<td style=\"background: #DEDE00; color:#000000;\">221.1</td>\n",
       "<td style=\"background: #E9E900; color:#000000;\">276.1</td>\n",
       "<td style=\"background: #EEEE0B; color:#000000;\">290.2</td>\n",
       "<td style=\"background: #F5F51D; color:#000000;\">331.9</td>\n",
       "<td style=\"background: #EEEE0A; color:#000000;\">298.1</td>\n",
       "<td style=\"background: #E1E100; color:#000000;\">235.7</td>\n",
       "<td style=\"background: #C4C409; color:#000000;\">151.7</td>\n",
       "<td style=\"background: #959595; color:#FFFFFF;\">79.3</td>\n",
       "<td style=\"background: #747474; color:#FFFFFF;\">63.7</td>\n",
       "<td style=\"background: #D7D700; color:#000000; border-left-width:medium\">2,340.9</td>\n",
       "</tr>\n",
       "<tr style=\"text-align: center;\">\n",
       "<th scope=\"row\" style=\"height: 16px;\">Percent <a href=\"/wiki/Sunshine_duration\" title=\"Sunshine duration\">possible sunshine</a></th>\n",
       "<td style=\"background: #DDDD00; color:#000000;\">30</td>\n",
       "<td style=\"background: #EEEE0A; color:#000000;\">40</td>\n",
       "<td style=\"background: #FFFF3B; color:#000000;\">52</td>\n",
       "<td style=\"background: #FFFF43; color:#000000;\">54</td>\n",
       "<td style=\"background: #FFFF5B; color:#000000;\">60</td>\n",
       "<td style=\"background: #FFFF63; color:#000000;\">62</td>\n",
       "<td style=\"background: #FFFF84; color:#000000;\">70</td>\n",
       "<td style=\"background: #FFFF7C; color:#000000;\">68</td>\n",
       "<td style=\"background: #FFFF68; color:#000000;\">63</td>\n",
       "<td style=\"background: #F6F61E; color:#000000;\">45</td>\n",
       "<td style=\"background: #D9D900; color:#000000;\">28</td>\n",
       "<td style=\"background: #CDCD00; color:#000000;\">23</td>\n",
       "<td style=\"background: #FFFF3B; color:#000000; border-left-width:medium\">52</td>\n",
       "</tr>\n",
       "<tr>\n",
       "<td colspan=\"14\" style=\"text-align:center;font-size:95%;\">Source: NOAA (relative humidity and sun 1961–1990)<sup class=\"reference\" id=\"cite_ref-NOWData_77-5\"><a href=\"#cite_note-NOWData-77\">[77]</a></sup><sup class=\"reference\" id=\"cite_ref-NOAA_txt_86-0\"><a href=\"#cite_note-NOAA_txt-86\">[84]</a></sup><sup class=\"reference\" id=\"cite_ref-NOAAsun_87-0\"><a href=\"#cite_note-NOAAsun-87\">[85]</a></sup></td>\n",
       "</tr>\n",
       "</table>"
      ]
     },
     "execution_count": 60,
     "metadata": {},
     "output_type": "execute_result"
    }
   ],
   "source": [
    "clim_tab"
   ]
  },
  {
   "cell_type": "code",
   "execution_count": 61,
   "metadata": {
    "collapsed": false
   },
   "outputs": [
    {
     "data": {
      "text/plain": [
       "335"
      ]
     },
     "execution_count": 61,
     "metadata": {},
     "output_type": "execute_result"
    }
   ],
   "source": [
    "children = clim_tab.findChildren()\n",
    "len(children)"
   ]
  },
  {
   "cell_type": "markdown",
   "metadata": {},
   "source": [
    "First we get *all* of the children for our Climate Data table. There are 355 children but that takes all the tags for this table. I guess this doesn't tell us much so we will investigate more."
   ]
  },
  {
   "cell_type": "code",
   "execution_count": 62,
   "metadata": {
    "collapsed": false
   },
   "outputs": [],
   "source": [
    "# Number of tr tags will be number of rows:\n",
    "tr_tags = clim_tab.find_all('tr')"
   ]
  },
  {
   "cell_type": "code",
   "execution_count": 63,
   "metadata": {
    "collapsed": false
   },
   "outputs": [
    {
     "data": {
      "text/plain": [
       "16"
      ]
     },
     "execution_count": 63,
     "metadata": {},
     "output_type": "execute_result"
    }
   ],
   "source": [
    "len(tr_tags)"
   ]
  },
  {
   "cell_type": "markdown",
   "metadata": {},
   "source": [
    "There are 16 rows to the Climate table because each tr tag corresponds to a row and there are 16 tr tags. Next we will look at how many correspond to rows with data values and not just rows with headings."
   ]
  },
  {
   "cell_type": "code",
   "execution_count": 64,
   "metadata": {
    "collapsed": false
   },
   "outputs": [],
   "source": [
    "num_rows = 0\n",
    "num_cols = 0\n",
    "for row in clim_tab.find_all('tr'):\n",
    "    td_tags = row.find_all('td')\n",
    "    for th in row.find_all('th'):\n",
    "        try:\n",
    "            # Check that it is a row and that it has data values.\n",
    "            if th['scope'] == \"row\" and len(td_tags) > 0:\n",
    "                num_rows += 1\n",
    "            # Check that it is a column\n",
    "            elif th['scope'] == \"col\":\n",
    "                num_cols += 1\n",
    "        # If there is no scope in the th tag, just skip to the next\n",
    "        except KeyError:\n",
    "            next"
   ]
  },
  {
   "cell_type": "code",
   "execution_count": 65,
   "metadata": {
    "collapsed": false
   },
   "outputs": [
    {
     "name": "stdout",
     "output_type": "stream",
     "text": [
      "There are 13 number of rows with data values and 13 number of columns\n"
     ]
    }
   ],
   "source": [
    "print(\"There are %d number of rows with data values and %d number of columns\" % (num_rows, num_cols))"
   ]
  },
  {
   "cell_type": "markdown",
   "metadata": {},
   "source": [
    "**2. Write a function `retrieve_climate_table` that:**\n",
    "- **Takes as an argument a Wikipedia URL**\n",
    "- **Returns the `BeautifulSoup` object corresponding to the climate data table (if it exists in the page)**\n",
    "- **Returns `None` if no such table exists on the page.**\n",
    "- **You should check that the URL is retrieved successfully, and raise an error if `urllib3` fails to successfully read the website.**  \n",
    "- **You may notice that some city pages include more than one climate data table or several nested tables (see, for example, https://en.wikipedia.org/wiki/Los_Angeles). In this case, your function may arbitrarily choose one of the tables to return as a `BeautifulSoup` object.**"
   ]
  },
  {
   "cell_type": "markdown",
   "metadata": {},
   "source": [
    "For our implementation of this function, we return the first Climate Data table that we find."
   ]
  },
  {
   "cell_type": "code",
   "execution_count": 66,
   "metadata": {
    "collapsed": true
   },
   "outputs": [],
   "source": [
    "def retrieve_climate_table(url):\n",
    "    try:\n",
    "        city = urllib.request.urlopen(url)\n",
    "    # If the url wasn't succesfully read\n",
    "    except (ValueError, urllib.error.URLError) as e:\n",
    "        print(\"Error: could not open URL.\")\n",
    "        raise e\n",
    "    city = BeautifulSoup(city, 'html.parser')\n",
    "    # Search for the Climate Table\n",
    "    city_re = re.compile(\"Climate data\") # We know that the table will have this string in it\n",
    "    # Iterate over each table.\n",
    "    for tab in city.find_all('table'):\n",
    "        # Check the child th\n",
    "        # Some tables might not have this child, so make sure there is one\n",
    "        if tab.th is not None:\n",
    "            # In this child, check if the string matches \"Climate data for Portland, Oregon\"\n",
    "            if city_re.match(tab.th.get_text()) is not None:\n",
    "                # If it does, it is the table we want, save it and leave the loop\n",
    "                return(tab)\n",
    "        # Some cities have the table title as a caption\n",
    "        if tab.caption is not None:\n",
    "            if city_re.match(tab.caption.get_text()) is not None:\n",
    "                return(tab)\n",
    "    # If the table was not found, return None\n",
    "    return(None)"
   ]
  },
  {
   "cell_type": "code",
   "execution_count": 67,
   "metadata": {
    "collapsed": false
   },
   "outputs": [],
   "source": [
    "pdx_tab = retrieve_climate_table(\"https://en.wikipedia.org/wiki/Portland,_Oregon\")"
   ]
  },
  {
   "cell_type": "code",
   "execution_count": 68,
   "metadata": {
    "collapsed": true
   },
   "outputs": [],
   "source": [
    "la_tab = retrieve_climate_table(\"https://en.wikipedia.org/wiki/Los_Angeles\")"
   ]
  },
  {
   "cell_type": "code",
   "execution_count": 95,
   "metadata": {
    "collapsed": true
   },
   "outputs": [],
   "source": [
    "hyd_tab = retrieve_climate_table(\"https://en.wikipedia.org/wiki/Hyderabad\")"
   ]
  },
  {
   "cell_type": "code",
   "execution_count": 96,
   "metadata": {
    "collapsed": true
   },
   "outputs": [],
   "source": [
    "# I dont see what is different about this table...\n",
    "# Should we be converting this to unicode or anything like that?\n",
    "# Am I returning the right type?\n",
    "bos_tab = retrieve_climate_table(\"https://en.wikipedia.org/wiki/Boston\")"
   ]
  },
  {
   "cell_type": "code",
   "execution_count": 71,
   "metadata": {
    "collapsed": false
   },
   "outputs": [
    {
     "data": {
      "text/plain": [
       "True"
      ]
     },
     "execution_count": 71,
     "metadata": {},
     "output_type": "execute_result"
    }
   ],
   "source": [
    "not_wiki = retrieve_climate_table(\"https://theringer.com\")\n",
    "not_wiki is None"
   ]
  },
  {
   "cell_type": "code",
   "execution_count": 72,
   "metadata": {
    "collapsed": false
   },
   "outputs": [
    {
     "name": "stdout",
     "output_type": "stream",
     "text": [
      "Error: could not open URL.\n"
     ]
    },
    {
     "ename": "URLError",
     "evalue": "<urlopen error unknown url type: hhtps>",
     "output_type": "error",
     "traceback": [
      "\u001b[0;31m---------------------------------------------------------------------------\u001b[0m",
      "\u001b[0;31mURLError\u001b[0m                                  Traceback (most recent call last)",
      "\u001b[0;32m<ipython-input-72-4195a6d0fa6e>\u001b[0m in \u001b[0;36m<module>\u001b[0;34m()\u001b[0m\n\u001b[0;32m----> 1\u001b[0;31m \u001b[0mbad\u001b[0m \u001b[1;33m=\u001b[0m \u001b[0mretrieve_climate_table\u001b[0m\u001b[1;33m(\u001b[0m\u001b[1;34m\"hhtps://thisaintnourl.com\"\u001b[0m\u001b[1;33m)\u001b[0m\u001b[1;33m\u001b[0m\u001b[0m\n\u001b[0m",
      "\u001b[0;32m<ipython-input-66-0211ddb5307c>\u001b[0m in \u001b[0;36mretrieve_climate_table\u001b[0;34m(url)\u001b[0m\n\u001b[1;32m      5\u001b[0m     \u001b[1;32mexcept\u001b[0m \u001b[1;33m(\u001b[0m\u001b[0mValueError\u001b[0m\u001b[1;33m,\u001b[0m \u001b[0murllib\u001b[0m\u001b[1;33m.\u001b[0m\u001b[0merror\u001b[0m\u001b[1;33m.\u001b[0m\u001b[0mURLError\u001b[0m\u001b[1;33m)\u001b[0m \u001b[1;32mas\u001b[0m \u001b[0me\u001b[0m\u001b[1;33m:\u001b[0m\u001b[1;33m\u001b[0m\u001b[0m\n\u001b[1;32m      6\u001b[0m         \u001b[0mprint\u001b[0m\u001b[1;33m(\u001b[0m\u001b[1;34m\"Error: could not open URL.\"\u001b[0m\u001b[1;33m)\u001b[0m\u001b[1;33m\u001b[0m\u001b[0m\n\u001b[0;32m----> 7\u001b[0;31m         \u001b[1;32mraise\u001b[0m \u001b[0me\u001b[0m\u001b[1;33m\u001b[0m\u001b[0m\n\u001b[0m\u001b[1;32m      8\u001b[0m     \u001b[0mcity\u001b[0m \u001b[1;33m=\u001b[0m \u001b[0mBeautifulSoup\u001b[0m\u001b[1;33m(\u001b[0m\u001b[0mcity\u001b[0m\u001b[1;33m,\u001b[0m \u001b[1;34m'html.parser'\u001b[0m\u001b[1;33m)\u001b[0m\u001b[1;33m\u001b[0m\u001b[0m\n\u001b[1;32m      9\u001b[0m     \u001b[1;31m# Search for the Climate Table\u001b[0m\u001b[1;33m\u001b[0m\u001b[1;33m\u001b[0m\u001b[0m\n",
      "\u001b[0;32m<ipython-input-66-0211ddb5307c>\u001b[0m in \u001b[0;36mretrieve_climate_table\u001b[0;34m(url)\u001b[0m\n\u001b[1;32m      1\u001b[0m \u001b[1;32mdef\u001b[0m \u001b[0mretrieve_climate_table\u001b[0m\u001b[1;33m(\u001b[0m\u001b[0murl\u001b[0m\u001b[1;33m)\u001b[0m\u001b[1;33m:\u001b[0m\u001b[1;33m\u001b[0m\u001b[0m\n\u001b[1;32m      2\u001b[0m     \u001b[1;32mtry\u001b[0m\u001b[1;33m:\u001b[0m\u001b[1;33m\u001b[0m\u001b[0m\n\u001b[0;32m----> 3\u001b[0;31m         \u001b[0mcity\u001b[0m \u001b[1;33m=\u001b[0m \u001b[0murllib\u001b[0m\u001b[1;33m.\u001b[0m\u001b[0mrequest\u001b[0m\u001b[1;33m.\u001b[0m\u001b[0murlopen\u001b[0m\u001b[1;33m(\u001b[0m\u001b[0murl\u001b[0m\u001b[1;33m)\u001b[0m\u001b[1;33m\u001b[0m\u001b[0m\n\u001b[0m\u001b[1;32m      4\u001b[0m     \u001b[1;31m# If the url wasn't succesfully read\u001b[0m\u001b[1;33m\u001b[0m\u001b[1;33m\u001b[0m\u001b[0m\n\u001b[1;32m      5\u001b[0m     \u001b[1;32mexcept\u001b[0m \u001b[1;33m(\u001b[0m\u001b[0mValueError\u001b[0m\u001b[1;33m,\u001b[0m \u001b[0murllib\u001b[0m\u001b[1;33m.\u001b[0m\u001b[0merror\u001b[0m\u001b[1;33m.\u001b[0m\u001b[0mURLError\u001b[0m\u001b[1;33m)\u001b[0m \u001b[1;32mas\u001b[0m \u001b[0me\u001b[0m\u001b[1;33m:\u001b[0m\u001b[1;33m\u001b[0m\u001b[0m\n",
      "\u001b[0;32mC:\\Users\\Taylor\\Anaconda3\\lib\\urllib\\request.py\u001b[0m in \u001b[0;36murlopen\u001b[0;34m(url, data, timeout, cafile, capath, cadefault, context)\u001b[0m\n\u001b[1;32m    221\u001b[0m     \u001b[1;32melse\u001b[0m\u001b[1;33m:\u001b[0m\u001b[1;33m\u001b[0m\u001b[0m\n\u001b[1;32m    222\u001b[0m         \u001b[0mopener\u001b[0m \u001b[1;33m=\u001b[0m \u001b[0m_opener\u001b[0m\u001b[1;33m\u001b[0m\u001b[0m\n\u001b[0;32m--> 223\u001b[0;31m     \u001b[1;32mreturn\u001b[0m \u001b[0mopener\u001b[0m\u001b[1;33m.\u001b[0m\u001b[0mopen\u001b[0m\u001b[1;33m(\u001b[0m\u001b[0murl\u001b[0m\u001b[1;33m,\u001b[0m \u001b[0mdata\u001b[0m\u001b[1;33m,\u001b[0m \u001b[0mtimeout\u001b[0m\u001b[1;33m)\u001b[0m\u001b[1;33m\u001b[0m\u001b[0m\n\u001b[0m\u001b[1;32m    224\u001b[0m \u001b[1;33m\u001b[0m\u001b[0m\n\u001b[1;32m    225\u001b[0m \u001b[1;32mdef\u001b[0m \u001b[0minstall_opener\u001b[0m\u001b[1;33m(\u001b[0m\u001b[0mopener\u001b[0m\u001b[1;33m)\u001b[0m\u001b[1;33m:\u001b[0m\u001b[1;33m\u001b[0m\u001b[0m\n",
      "\u001b[0;32mC:\\Users\\Taylor\\Anaconda3\\lib\\urllib\\request.py\u001b[0m in \u001b[0;36mopen\u001b[0;34m(self, fullurl, data, timeout)\u001b[0m\n\u001b[1;32m    524\u001b[0m             \u001b[0mreq\u001b[0m \u001b[1;33m=\u001b[0m \u001b[0mmeth\u001b[0m\u001b[1;33m(\u001b[0m\u001b[0mreq\u001b[0m\u001b[1;33m)\u001b[0m\u001b[1;33m\u001b[0m\u001b[0m\n\u001b[1;32m    525\u001b[0m \u001b[1;33m\u001b[0m\u001b[0m\n\u001b[0;32m--> 526\u001b[0;31m         \u001b[0mresponse\u001b[0m \u001b[1;33m=\u001b[0m \u001b[0mself\u001b[0m\u001b[1;33m.\u001b[0m\u001b[0m_open\u001b[0m\u001b[1;33m(\u001b[0m\u001b[0mreq\u001b[0m\u001b[1;33m,\u001b[0m \u001b[0mdata\u001b[0m\u001b[1;33m)\u001b[0m\u001b[1;33m\u001b[0m\u001b[0m\n\u001b[0m\u001b[1;32m    527\u001b[0m \u001b[1;33m\u001b[0m\u001b[0m\n\u001b[1;32m    528\u001b[0m         \u001b[1;31m# post-process response\u001b[0m\u001b[1;33m\u001b[0m\u001b[1;33m\u001b[0m\u001b[0m\n",
      "\u001b[0;32mC:\\Users\\Taylor\\Anaconda3\\lib\\urllib\\request.py\u001b[0m in \u001b[0;36m_open\u001b[0;34m(self, req, data)\u001b[0m\n\u001b[1;32m    547\u001b[0m \u001b[1;33m\u001b[0m\u001b[0m\n\u001b[1;32m    548\u001b[0m         return self._call_chain(self.handle_open, 'unknown',\n\u001b[0;32m--> 549\u001b[0;31m                                 'unknown_open', req)\n\u001b[0m\u001b[1;32m    550\u001b[0m \u001b[1;33m\u001b[0m\u001b[0m\n\u001b[1;32m    551\u001b[0m     \u001b[1;32mdef\u001b[0m \u001b[0merror\u001b[0m\u001b[1;33m(\u001b[0m\u001b[0mself\u001b[0m\u001b[1;33m,\u001b[0m \u001b[0mproto\u001b[0m\u001b[1;33m,\u001b[0m \u001b[1;33m*\u001b[0m\u001b[0margs\u001b[0m\u001b[1;33m)\u001b[0m\u001b[1;33m:\u001b[0m\u001b[1;33m\u001b[0m\u001b[0m\n",
      "\u001b[0;32mC:\\Users\\Taylor\\Anaconda3\\lib\\urllib\\request.py\u001b[0m in \u001b[0;36m_call_chain\u001b[0;34m(self, chain, kind, meth_name, *args)\u001b[0m\n\u001b[1;32m    502\u001b[0m         \u001b[1;32mfor\u001b[0m \u001b[0mhandler\u001b[0m \u001b[1;32min\u001b[0m \u001b[0mhandlers\u001b[0m\u001b[1;33m:\u001b[0m\u001b[1;33m\u001b[0m\u001b[0m\n\u001b[1;32m    503\u001b[0m             \u001b[0mfunc\u001b[0m \u001b[1;33m=\u001b[0m \u001b[0mgetattr\u001b[0m\u001b[1;33m(\u001b[0m\u001b[0mhandler\u001b[0m\u001b[1;33m,\u001b[0m \u001b[0mmeth_name\u001b[0m\u001b[1;33m)\u001b[0m\u001b[1;33m\u001b[0m\u001b[0m\n\u001b[0;32m--> 504\u001b[0;31m             \u001b[0mresult\u001b[0m \u001b[1;33m=\u001b[0m \u001b[0mfunc\u001b[0m\u001b[1;33m(\u001b[0m\u001b[1;33m*\u001b[0m\u001b[0margs\u001b[0m\u001b[1;33m)\u001b[0m\u001b[1;33m\u001b[0m\u001b[0m\n\u001b[0m\u001b[1;32m    505\u001b[0m             \u001b[1;32mif\u001b[0m \u001b[0mresult\u001b[0m \u001b[1;32mis\u001b[0m \u001b[1;32mnot\u001b[0m \u001b[1;32mNone\u001b[0m\u001b[1;33m:\u001b[0m\u001b[1;33m\u001b[0m\u001b[0m\n\u001b[1;32m    506\u001b[0m                 \u001b[1;32mreturn\u001b[0m \u001b[0mresult\u001b[0m\u001b[1;33m\u001b[0m\u001b[0m\n",
      "\u001b[0;32mC:\\Users\\Taylor\\Anaconda3\\lib\\urllib\\request.py\u001b[0m in \u001b[0;36munknown_open\u001b[0;34m(self, req)\u001b[0m\n\u001b[1;32m   1386\u001b[0m     \u001b[1;32mdef\u001b[0m \u001b[0munknown_open\u001b[0m\u001b[1;33m(\u001b[0m\u001b[0mself\u001b[0m\u001b[1;33m,\u001b[0m \u001b[0mreq\u001b[0m\u001b[1;33m)\u001b[0m\u001b[1;33m:\u001b[0m\u001b[1;33m\u001b[0m\u001b[0m\n\u001b[1;32m   1387\u001b[0m         \u001b[0mtype\u001b[0m \u001b[1;33m=\u001b[0m \u001b[0mreq\u001b[0m\u001b[1;33m.\u001b[0m\u001b[0mtype\u001b[0m\u001b[1;33m\u001b[0m\u001b[0m\n\u001b[0;32m-> 1388\u001b[0;31m         \u001b[1;32mraise\u001b[0m \u001b[0mURLError\u001b[0m\u001b[1;33m(\u001b[0m\u001b[1;34m'unknown url type: %s'\u001b[0m \u001b[1;33m%\u001b[0m \u001b[0mtype\u001b[0m\u001b[1;33m)\u001b[0m\u001b[1;33m\u001b[0m\u001b[0m\n\u001b[0m\u001b[1;32m   1389\u001b[0m \u001b[1;33m\u001b[0m\u001b[0m\n\u001b[1;32m   1390\u001b[0m \u001b[1;32mdef\u001b[0m \u001b[0mparse_keqv_list\u001b[0m\u001b[1;33m(\u001b[0m\u001b[0ml\u001b[0m\u001b[1;33m)\u001b[0m\u001b[1;33m:\u001b[0m\u001b[1;33m\u001b[0m\u001b[0m\n",
      "\u001b[0;31mURLError\u001b[0m: <urlopen error unknown url type: hhtps>"
     ]
    }
   ],
   "source": [
    "bad = retrieve_climate_table(\"hhtps://thisaintnourl.com\")"
   ]
  },
  {
   "cell_type": "markdown",
   "metadata": {},
   "source": [
    "**3. As you look at some of the climate data tables, you may notice that different cities' tables contain different information. Write a function `list_climate_table_row_names` that:**   \n",
    "- **Takes as an argument a Wikipedia URL**  \n",
    "- **Returns a list of the row names of the climate data table**  \n",
    "- **or returns `None` if no such table exists.**   \n",
    "- **The list returned by your function should, ideally, consist solely of Python strings (either Unicode or ASCII), and should not include any BeautifulSoup objects or HTML**"
   ]
  },
  {
   "cell_type": "code",
   "execution_count": 98,
   "metadata": {
    "collapsed": false
   },
   "outputs": [],
   "source": [
    "def list_climate_table_row_names(url):\n",
    "    # Get the table using the previous function\n",
    "    city_tab = retrieve_climate_table(url)\n",
    "    # If there is no table, return None\n",
    "    if city_tab is None:\n",
    "        return(None)\n",
    "    # Else add the row names\n",
    "    row_names = []\n",
    "    # Iterate over the th children in the table\n",
    "    for row in city_tab.find_all('th'):\n",
    "        # Try to look at the scope attribute.\n",
    "        # If there is no scope attr, just go to the next <th>\n",
    "        try:\n",
    "            if row['scope'] == \"row\":\n",
    "                if row.get_text() is not None: \n",
    "                    row_names.append(row.get_text())\n",
    "        except KeyError:\n",
    "            next\n",
    "    return(row_names)"
   ]
  },
  {
   "cell_type": "code",
   "execution_count": 99,
   "metadata": {
    "collapsed": false
   },
   "outputs": [],
   "source": [
    "pdx_rows = list_climate_table_row_names(\"https://en.wikipedia.org/wiki/Portland,_Oregon\")"
   ]
  },
  {
   "cell_type": "code",
   "execution_count": 100,
   "metadata": {
    "collapsed": false,
    "scrolled": true
   },
   "outputs": [
    {
     "data": {
      "text/plain": [
       "['Month',\n",
       " 'Record high °F (°C)',\n",
       " 'Mean maximum °F (°C)',\n",
       " 'Average high °F (°C)',\n",
       " 'Average low °F (°C)',\n",
       " 'Mean minimum °F (°C)',\n",
       " 'Record low °F (°C)',\n",
       " 'Average precipitation inches (mm)',\n",
       " 'Average snowfall inches (cm)',\n",
       " 'Average precipitation days (≥ 0.01 in)',\n",
       " 'Average snowy days (≥ 0.1 in)',\n",
       " 'Average relative humidity (%)',\n",
       " 'Mean monthly sunshine hours',\n",
       " 'Percent possible sunshine']"
      ]
     },
     "execution_count": 100,
     "metadata": {},
     "output_type": "execute_result"
    }
   ],
   "source": [
    "pdx_rows"
   ]
  },
  {
   "cell_type": "markdown",
   "metadata": {},
   "source": [
    "**4. The next natural step would be to write a function that takes a URL and a row name and retrieves the data from that row of the climate data table (if the table exists and has that row name). Doing this would require some complicated string wrangling to get right, so I'll spare you the trouble. Instead, please briey describe either in pseudo code or in plain English how you would accomplish this, using the two functions you wrote above and the tools available to you in the `BeautifulSoup` package.**"
   ]
  },
  {
   "cell_type": "markdown",
   "metadata": {},
   "source": [
    "1. Use `retrieve_climate_table` to get the Climate Data table for that city.\n",
    "    * If this returns `None`, return `None`.\n",
    "2. Run `list_climate_table_row_names` to obtain the list of row names for the city.  \n",
    "3. Check if the row name argument that was passed into the function is in the list obtained from (2).\n",
    "    * If it is not, return `None`.\n",
    "4. Loop through all of the tr tags in the table obtained from (1).\n",
    "    * It looks like each row starts and ends with a tr tag. Within each tr tag there is a th tag that contains the information about if it is a row and what the row name is. \n",
    "    * Using the th tag, check that it is a row and if the row name matches the row name that was passed into the function (using a similar strategy as in the function body of `list_climate_table_row_names` ). \n",
    "    * Save the entire tr to and all of its children when we find the th tag that matches.\n",
    "    * Break out of the loop once we find the row we are looking for.\n",
    "5. Now it looks like that all of the information for our row will be contained in td tags. Iterate through all of the td tags within the saved tr tag. For each td tag, use `get_text()`, `contents` or some other function to get the information in each td tag. With each iteration, append the information onto a list.\n",
    "6. Return the list."
   ]
  },
  {
   "cell_type": "markdown",
   "metadata": {
    "collapsed": true
   },
   "source": [
    "### Problem 4: Relational Databases and SQL\n",
    "For this problem we will use the toy SQLite database, called Chinook. The Chinook database represents a digital music collection.  \n",
    "**1. Load the database using the Python `sqlite3` package. How many tables are in the database?**"
   ]
  },
  {
   "cell_type": "code",
   "execution_count": 101,
   "metadata": {
    "collapsed": true
   },
   "outputs": [],
   "source": [
    "import sqlite3"
   ]
  },
  {
   "cell_type": "code",
   "execution_count": 102,
   "metadata": {
    "collapsed": true
   },
   "outputs": [],
   "source": [
    "conn = sqlite3.connect(\"Chinook_Sqlite.sqlite\")\n",
    "c = conn.cursor()"
   ]
  },
  {
   "cell_type": "code",
   "execution_count": 107,
   "metadata": {
    "collapsed": false
   },
   "outputs": [],
   "source": [
    "num_tables = 0\n",
    "table_names = []\n",
    "for r in c.execute(\"select name from sqlite_master where type = 'table'\"):\n",
    "    table_names.append(r)\n",
    "    num_tables += 1"
   ]
  },
  {
   "cell_type": "code",
   "execution_count": 108,
   "metadata": {
    "collapsed": false
   },
   "outputs": [
    {
     "data": {
      "text/plain": [
       "11"
      ]
     },
     "execution_count": 108,
     "metadata": {},
     "output_type": "execute_result"
    }
   ],
   "source": [
    "num_tables"
   ]
  },
  {
   "cell_type": "markdown",
   "metadata": {},
   "source": [
    "There are 11 tables in this database."
   ]
  },
  {
   "cell_type": "markdown",
   "metadata": {},
   "source": [
    "**2. What are the names of the tables in the database?**"
   ]
  },
  {
   "cell_type": "code",
   "execution_count": 109,
   "metadata": {
    "collapsed": false
   },
   "outputs": [
    {
     "data": {
      "text/plain": [
       "[('Album',),\n",
       " ('Artist',),\n",
       " ('Customer',),\n",
       " ('Employee',),\n",
       " ('Genre',),\n",
       " ('Invoice',),\n",
       " ('InvoiceLine',),\n",
       " ('MediaType',),\n",
       " ('Playlist',),\n",
       " ('PlaylistTrack',),\n",
       " ('Track',)]"
      ]
     },
     "execution_count": 109,
     "metadata": {},
     "output_type": "execute_result"
    }
   ],
   "source": [
    "table_names"
   ]
  },
  {
   "cell_type": "markdown",
   "metadata": {},
   "source": [
    "Above we see the names of the 11 tables."
   ]
  },
  {
   "cell_type": "markdown",
   "metadata": {},
   "source": [
    "**3. Write a function `list_album_ids_by_letter` that:**\n",
    "- **takes as an argument a single character**\n",
    "- **returns a list of the primary keys of all the albums whose titles start with that character.**  \n",
    "**Your function should ignore case, so that the inputs \"a\" and \"A\" yield the same results.**  \n",
    "- **How many albums are there in the database with titles starting with \"C\"?**   \n",
    "- **How many albums are there in the database with titles starting with \"M\"?**"
   ]
  },
  {
   "cell_type": "code",
   "execution_count": 110,
   "metadata": {
    "collapsed": false
   },
   "outputs": [
    {
     "name": "stdout",
     "output_type": "stream",
     "text": [
      "(('AlbumId', None, None, None, None, None, None), ('Title', None, None, None, None, None, None), ('ArtistId', None, None, None, None, None, None))\n"
     ]
    },
    {
     "data": {
      "text/plain": [
       "[(1, 'For Those About To Rock We Salute You', 1),\n",
       " (2, 'Balls to the Wall', 2),\n",
       " (3, 'Restless and Wild', 2),\n",
       " (4, 'Let There Be Rock', 1),\n",
       " (5, 'Big Ones', 3)]"
      ]
     },
     "execution_count": 110,
     "metadata": {},
     "output_type": "execute_result"
    }
   ],
   "source": [
    "# Find out a little more about this Album table\n",
    "albs = c.execute(\"\"\"select * from Album LIMIT 5\"\"\")\n",
    "print(albs.description)\n",
    "albs.fetchall()"
   ]
  },
  {
   "cell_type": "markdown",
   "metadata": {},
   "source": [
    "We see that the column that we are going to want is `AlbumId`, that is our primary key. The Album name is called `Title`."
   ]
  },
  {
   "cell_type": "code",
   "execution_count": 111,
   "metadata": {
    "collapsed": true
   },
   "outputs": [],
   "source": [
    "def list_album_ids_by_letter(char):\n",
    "    if not isinstance(char, str):\n",
    "        raise TypeError(\"c must be a character.\")\n",
    "    elif len(char) != 1:\n",
    "        raise ValueError(\"c must only be one character long.\")\n",
    "    # Make the c lower case\n",
    "    char = char.lower()\n",
    "    # Run SQL Statement\n",
    "    albs = c.execute(\"\"\"select AlbumId from Album where substr(lower(Title),1,1) == ?\"\"\", (char,))\n",
    "    # Add to a list\n",
    "    albs_li = []\n",
    "    for a in albs:\n",
    "        for t in a:\n",
    "            albs_li.append(t)\n",
    "    return(albs_li)"
   ]
  },
  {
   "cell_type": "code",
   "execution_count": 112,
   "metadata": {
    "collapsed": false
   },
   "outputs": [
    {
     "data": {
      "text/plain": [
       "[19,\n",
       " 27,\n",
       " 32,\n",
       " 33,\n",
       " 34,\n",
       " 54,\n",
       " 55,\n",
       " 56,\n",
       " 57,\n",
       " 58,\n",
       " 124,\n",
       " 128,\n",
       " 165,\n",
       " 191,\n",
       " 195,\n",
       " 206,\n",
       " 246,\n",
       " 260,\n",
       " 270,\n",
       " 295,\n",
       " 301,\n",
       " 323,\n",
       " 328]"
      ]
     },
     "execution_count": 112,
     "metadata": {},
     "output_type": "execute_result"
    }
   ],
   "source": [
    "a = list_album_ids_by_letter(\"c\")\n",
    "a"
   ]
  },
  {
   "cell_type": "markdown",
   "metadata": {},
   "source": [
    "**How many albums are there in the database with titles starting with \"C\"?**"
   ]
  },
  {
   "cell_type": "code",
   "execution_count": null,
   "metadata": {
    "collapsed": false
   },
   "outputs": [],
   "source": [
    "c_albs = list_album_ids_by_letter(\"c\")\n",
    "len(c_albs)"
   ]
  },
  {
   "cell_type": "markdown",
   "metadata": {},
   "source": [
    "There are 23 albums in the database with titles starting with \"C\"."
   ]
  },
  {
   "cell_type": "markdown",
   "metadata": {},
   "source": [
    "**How many albums are there in the database with titles starting with \"M\"?**"
   ]
  },
  {
   "cell_type": "code",
   "execution_count": null,
   "metadata": {
    "collapsed": false
   },
   "outputs": [],
   "source": [
    "m = list_album_ids_by_letter(\"M\")\n",
    "len(m)"
   ]
  },
  {
   "cell_type": "markdown",
   "metadata": {},
   "source": [
    "There are 25 albums in the database with titles starting with \"M\""
   ]
  },
  {
   "cell_type": "markdown",
   "metadata": {},
   "source": [
    "**4. Write a function `list_song_ids_by_album_letter` that:** \n",
    "- **takes as an argument a single character**\n",
    "- **returns a list of the primary keys of all the songs whose album names begin with that letter (again ignoring case).** \n",
    "- **How many songs are in all the albums whose titles begin with the letter \"N\"?** \n",
    "- **How many songs are in all the albums whose titles begin with the letter \"D\"?** "
   ]
  },
  {
   "cell_type": "code",
   "execution_count": null,
   "metadata": {
    "collapsed": false
   },
   "outputs": [],
   "source": [
    "# Get information about the songs\n",
    "songs = c.execute(\"\"\"select * from Track\"\"\")\n",
    "songs.description"
   ]
  },
  {
   "cell_type": "code",
   "execution_count": null,
   "metadata": {
    "collapsed": true
   },
   "outputs": [],
   "source": [
    "def list_song_ids_by_album_letter(char):\n",
    "    if not isinstance(char, str):\n",
    "        raise TypeError(\"c must be a character.\")\n",
    "    elif len(char) != 1:\n",
    "        raise ValueError(\"c must only be one character long.\")\n",
    "    # Make the c lower case\n",
    "    char = char.lower()\n",
    "    # SQL statement\n",
    "    song_ids = c.execute(\"\"\"select TrackId from Track t\n",
    "                        left join Album a on a.AlbumId = t.AlbumId\n",
    "                        where substr(lower(a.Title),1,1) ==  ?\"\"\", (char,))\n",
    "    # Add to a list\n",
    "    songs_li = []\n",
    "    for s in song_ids:\n",
    "        for t in s:\n",
    "            songs_li.append(t)\n",
    "    return(songs_li)"
   ]
  },
  {
   "cell_type": "markdown",
   "metadata": {},
   "source": [
    "**How many songs are in all the albums whose titles begin with the letter \"N\"?**"
   ]
  },
  {
   "cell_type": "code",
   "execution_count": null,
   "metadata": {
    "collapsed": false
   },
   "outputs": [],
   "source": [
    "n_songs = list_song_ids_by_album_letter(\"N\")\n",
    "len(n_songs)"
   ]
  },
  {
   "cell_type": "markdown",
   "metadata": {},
   "source": [
    "There are 74 songs in all albums whose titles begin with the letter \"N\"!"
   ]
  },
  {
   "cell_type": "markdown",
   "metadata": {},
   "source": [
    "**How many songs are in all the albums whose titles begin with the letter \"D\"?** "
   ]
  },
  {
   "cell_type": "code",
   "execution_count": null,
   "metadata": {
    "collapsed": false
   },
   "outputs": [],
   "source": [
    "d_songs = list_song_ids_by_album_letter(\"D\")\n",
    "len(d_songs)"
   ]
  },
  {
   "cell_type": "markdown",
   "metadata": {},
   "source": [
    "There are 106 songs in all albums whose titles beging with the letter \"D\"!"
   ]
  },
  {
   "cell_type": "markdown",
   "metadata": {},
   "source": [
    "**5. Write a function `total_cost_by_album_letter` that:** \n",
    "- **takes as an argument a single character**\n",
    "- **returns the cost of buying every song whose album begins with that letter (ignoring case).** \n",
    "- **This cost should be based on the tracks' unit prices, so that the cost of buying a set of tracks is simply the sum of the unit price of all the tracks in the set.** \n",
    "- **What would it cost to buy all tracks in the database whose albums begin with \"L\"?**"
   ]
  },
  {
   "cell_type": "code",
   "execution_count": null,
   "metadata": {
    "collapsed": true
   },
   "outputs": [],
   "source": [
    "def total_cost_by_album_letter(char):\n",
    "    if not isinstance(char, str):\n",
    "        raise TypeError(\"c must be a character.\")\n",
    "    elif len(char) != 1:\n",
    "        raise ValueError(\"c must only be one character long.\")\n",
    "    # Make the c lower case\n",
    "    char = char.lower()\n",
    "    # SQL statement\n",
    "    song_price = c.execute(\"\"\"select sum(UnitPrice) from Track t\n",
    "                        left join Album a on a.AlbumId = t.AlbumId\n",
    "                        where substr(lower(a.Title),1,1) ==  ? \"\"\", (char,))\n",
    "    return(song_price.fetchall()[0][0])"
   ]
  },
  {
   "cell_type": "code",
   "execution_count": null,
   "metadata": {
    "collapsed": false
   },
   "outputs": [],
   "source": [
    "total_cost_by_album_letter(\"L\")"
   ]
  },
  {
   "cell_type": "markdown",
   "metadata": {},
   "source": [
    "The total cost to buy all tracks in the database whose albums begin with \"L\" is $350.39"
   ]
  }
 ],
 "metadata": {
  "kernelspec": {
   "display_name": "Python 3",
   "language": "python",
   "name": "python3"
  },
  "language_info": {
   "codemirror_mode": {
    "name": "ipython",
    "version": 3
   },
   "file_extension": ".py",
   "mimetype": "text/x-python",
   "name": "python",
   "nbconvert_exporter": "python",
   "pygments_lexer": "ipython3",
   "version": "3.6.0"
  }
 },
 "nbformat": 4,
 "nbformat_minor": 2
}
