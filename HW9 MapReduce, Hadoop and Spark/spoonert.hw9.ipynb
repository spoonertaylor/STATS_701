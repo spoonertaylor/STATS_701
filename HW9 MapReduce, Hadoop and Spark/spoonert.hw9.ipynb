{
 "cells": [
  {
   "cell_type": "markdown",
   "metadata": {},
   "source": [
    "## Stats701-001 Homework 9: MapReduce, Hadoop and Spark\n",
    "### Taylor Spooner\n",
    "#### spoonert@umich.edu\n",
    "\n",
    "**Collaboration**: I went to Keith's office hours to sort out bug in part two. \n",
    "\n",
    "**Time**: Problem 1: 35 minutes, Problem 2: 90 minutes (I got stuck on a bug), Problem 3: 60 minutes."
   ]
  },
  {
   "cell_type": "markdown",
   "metadata": {},
   "source": [
    "# 1 Warmup: counting words with `mrjob`"
   ]
  },
  {
   "cell_type": "markdown",
   "metadata": {},
   "source": [
    "The script to count the words was written outside of jupyter. It is called `spoonert.hw9.1.py` and is attached in the submitted file. For problem 1 we decided to keep apostrophed words together. However, any other sort of punctuation (including hyphenated words) were split into seperate words. The files `simple_word_counts.txt` and `word_counts.txt` contain the results from parts 2 and 3 and are also attached.\n",
    "\n",
    "I was not sure if I should include numbers or not in my search for words. I took them out because I guess they aren't really words. If I was supposed to keep them in, I would have ran the exact same commands but just have a different regular expression. Instead of just `[a-zA-Z_\\']+` I could use `[\\w]+` or something like that."
   ]
  },
  {
   "cell_type": "markdown",
   "metadata": {},
   "source": [
    "**Problem 1:** File atttached as `spoonert.hw9.1.py`."
   ]
  },
  {
   "cell_type": "markdown",
   "metadata": {},
   "source": [
    "**Problem 2:** The following command was used to run the script on my local machine:"
   ]
  },
  {
   "cell_type": "raw",
   "metadata": {},
   "source": [
    "python .\\spoonert.hw9.1.py .\\simple.txt > simple_word_counts.txt"
   ]
  },
  {
   "cell_type": "markdown",
   "metadata": {},
   "source": [
    "**Problem 3:** The following commands were used to run the script on the hadoop cluster."
   ]
  },
  {
   "cell_type": "raw",
   "metadata": {},
   "source": [
    "scp .\\spoonert.hw9.1.py spoonert@flux-hadoop-login.arc-ts.umich.edu:~/STATS_701/HW9/spoonert.hw9.1.py\n",
    "python spoonert.hw9.1.py hdfs:///var/stat701w18/moby_dick.txt -r hadoop > word_counts.txt\n",
    "scp spoonert@flux-hadoop-login.arc-ts.umich.edu:~/STATS_701/HW9/word_counts.txt word_counts.txt"
   ]
  },
  {
   "cell_type": "markdown",
   "metadata": {},
   "source": [
    "**Problem 4: Using the information in `word_counts.txt`, make a plot of word frequency as a function of word rank on a log-log scale for all words in the file `moby_dick.txt`.**"
   ]
  },
  {
   "cell_type": "code",
   "execution_count": 1,
   "metadata": {
    "collapsed": true
   },
   "outputs": [],
   "source": [
    "import pandas as pd\n",
    "import matplotlib.pyplot as plt\n",
    "import math\n",
    "import numpy as np"
   ]
  },
  {
   "cell_type": "markdown",
   "metadata": {},
   "source": [
    "Read in the data from `word_counts.txt`."
   ]
  },
  {
   "cell_type": "code",
   "execution_count": 2,
   "metadata": {
    "collapsed": false
   },
   "outputs": [],
   "source": [
    "dat = pd.read_table(\"word_counts.txt\", header=None)\n",
    "dat.rename(index=str, columns={0: \"word\", 1: \"freq\"}, inplace=True)"
   ]
  },
  {
   "cell_type": "code",
   "execution_count": 3,
   "metadata": {
    "collapsed": false
   },
   "outputs": [
    {
     "data": {
      "text/html": [
       "<div>\n",
       "<style>\n",
       "    .dataframe thead tr:only-child th {\n",
       "        text-align: right;\n",
       "    }\n",
       "\n",
       "    .dataframe thead th {\n",
       "        text-align: left;\n",
       "    }\n",
       "\n",
       "    .dataframe tbody tr th {\n",
       "        vertical-align: top;\n",
       "    }\n",
       "</style>\n",
       "<table border=\"1\" class=\"dataframe\">\n",
       "  <thead>\n",
       "    <tr style=\"text-align: right;\">\n",
       "      <th></th>\n",
       "      <th>word</th>\n",
       "      <th>freq</th>\n",
       "    </tr>\n",
       "  </thead>\n",
       "  <tbody>\n",
       "    <tr>\n",
       "      <th>0</th>\n",
       "      <td>a</td>\n",
       "      <td>4807</td>\n",
       "    </tr>\n",
       "    <tr>\n",
       "      <th>1</th>\n",
       "      <td>aback</td>\n",
       "      <td>2</td>\n",
       "    </tr>\n",
       "    <tr>\n",
       "      <th>2</th>\n",
       "      <td>abaft</td>\n",
       "      <td>2</td>\n",
       "    </tr>\n",
       "    <tr>\n",
       "      <th>3</th>\n",
       "      <td>abandon</td>\n",
       "      <td>3</td>\n",
       "    </tr>\n",
       "    <tr>\n",
       "      <th>4</th>\n",
       "      <td>abandoned</td>\n",
       "      <td>7</td>\n",
       "    </tr>\n",
       "  </tbody>\n",
       "</table>\n",
       "</div>"
      ],
      "text/plain": [
       "        word  freq\n",
       "0          a  4807\n",
       "1      aback     2\n",
       "2      abaft     2\n",
       "3    abandon     3\n",
       "4  abandoned     7"
      ]
     },
     "execution_count": 3,
     "metadata": {},
     "output_type": "execute_result"
    }
   ],
   "source": [
    "dat.head()"
   ]
  },
  {
   "cell_type": "code",
   "execution_count": 4,
   "metadata": {
    "collapsed": false
   },
   "outputs": [],
   "source": [
    "dat['rank'] = dat['freq'].rank(ascending=False)"
   ]
  },
  {
   "cell_type": "code",
   "execution_count": 5,
   "metadata": {
    "collapsed": false
   },
   "outputs": [
    {
     "data": {
      "text/html": [
       "<div>\n",
       "<style>\n",
       "    .dataframe thead tr:only-child th {\n",
       "        text-align: right;\n",
       "    }\n",
       "\n",
       "    .dataframe thead th {\n",
       "        text-align: left;\n",
       "    }\n",
       "\n",
       "    .dataframe tbody tr th {\n",
       "        vertical-align: top;\n",
       "    }\n",
       "</style>\n",
       "<table border=\"1\" class=\"dataframe\">\n",
       "  <thead>\n",
       "    <tr style=\"text-align: right;\">\n",
       "      <th></th>\n",
       "      <th>word</th>\n",
       "      <th>freq</th>\n",
       "      <th>rank</th>\n",
       "    </tr>\n",
       "  </thead>\n",
       "  <tbody>\n",
       "    <tr>\n",
       "      <th>15023</th>\n",
       "      <td>the</td>\n",
       "      <td>14711</td>\n",
       "      <td>1.0</td>\n",
       "    </tr>\n",
       "    <tr>\n",
       "      <th>10165</th>\n",
       "      <td>of</td>\n",
       "      <td>6739</td>\n",
       "      <td>2.0</td>\n",
       "    </tr>\n",
       "    <tr>\n",
       "      <th>497</th>\n",
       "      <td>and</td>\n",
       "      <td>6516</td>\n",
       "      <td>3.0</td>\n",
       "    </tr>\n",
       "    <tr>\n",
       "      <th>0</th>\n",
       "      <td>a</td>\n",
       "      <td>4807</td>\n",
       "      <td>4.0</td>\n",
       "    </tr>\n",
       "    <tr>\n",
       "      <th>15254</th>\n",
       "      <td>to</td>\n",
       "      <td>4707</td>\n",
       "      <td>5.0</td>\n",
       "    </tr>\n",
       "  </tbody>\n",
       "</table>\n",
       "</div>"
      ],
      "text/plain": [
       "      word   freq  rank\n",
       "15023  the  14711   1.0\n",
       "10165   of   6739   2.0\n",
       "497    and   6516   3.0\n",
       "0        a   4807   4.0\n",
       "15254   to   4707   5.0"
      ]
     },
     "execution_count": 5,
     "metadata": {},
     "output_type": "execute_result"
    }
   ],
   "source": [
    "dat.sort_values('rank').head()"
   ]
  },
  {
   "cell_type": "code",
   "execution_count": 6,
   "metadata": {
    "collapsed": false
   },
   "outputs": [
    {
     "data": {
      "image/png": "[encoded data removed]",
      "text/plain": [
       "<matplotlib.figure.Figure at 0x2339fe228d0>"
      ]
     },
     "metadata": {},
     "output_type": "display_data"
    }
   ],
   "source": [
    "p = dat.plot('rank', 'freq', kind='scatter', loglog=True, title=\"Word Rank vs Word Freq on log-log Scale\")\n",
    "p.set_xlabel('Log(Word Rank)')\n",
    "p.set_ylabel('Log(Word Freq)')\n",
    "plt.show()"
   ]
  },
  {
   "cell_type": "markdown",
   "metadata": {},
   "source": [
    "Wow! It works! To be honest I was a little skeptical that this would look so linear. This is a negatively sloping linear line. The upper tail looks to deviate from the rest of the line a little but not by much."
   ]
  },
  {
   "cell_type": "markdown",
   "metadata": {},
   "source": [
    "# 2. Computing Sample Statistics with `mrjob`"
   ]
  },
  {
   "cell_type": "markdown",
   "metadata": {},
   "source": [
    "**Problem 1:** For the first problem, we wrote the script outside of jupyter and is attached. For the variance formula we are using $n$ instead of $n-1$.  \n",
    "**Problem 2:** The output file is also attached. To run the file on my local machine the following command was used:"
   ]
  },
  {
   "cell_type": "raw",
   "metadata": {},
   "source": [
    "python.\\mr_summary_stats.py .\\populations_small.txt > summary_small.txt "
   ]
  },
  {
   "cell_type": "markdown",
   "metadata": {},
   "source": [
    "**Problem 3:** The following code was used to run the shell commands. The output file is included in submission."
   ]
  },
  {
   "cell_type": "raw",
   "metadata": {},
   "source": [
    "scp .\\mr_summary_stats.py spoonert@flux-hadoop-login.arc-ts.umich.edu:~/STATS_701/HW9/mr_summary_stats.py\n",
    "python mr_summary_stats.py hdfs:///var/stat701w18/populations_large.txt -r hadoop > summary_large.txt\n",
    "scp spoonert@flux-hadoop-login.arc-ts.umich.edu:~/STATS_701/HW9/summary_large.txt summary_large.txt"
   ]
  },
  {
   "cell_type": "markdown",
   "metadata": {},
   "source": [
    "**Problem 4:** Plot 95% confidence intervals for the sample means of the populations given by the class labels."
   ]
  },
  {
   "cell_type": "code",
   "execution_count": 2,
   "metadata": {
    "collapsed": true
   },
   "outputs": [],
   "source": [
    "import ast"
   ]
  },
  {
   "cell_type": "code",
   "execution_count": 9,
   "metadata": {
    "collapsed": false
   },
   "outputs": [],
   "source": [
    "d = pd.read_table(\"summary_large.txt\", header=None)\n",
    "d.rename(columns={0: \"key\", 1: 'list'}, inplace = True)"
   ]
  },
  {
   "cell_type": "code",
   "execution_count": 10,
   "metadata": {
    "collapsed": false
   },
   "outputs": [],
   "source": [
    "# Convert each row from a string to a list\n",
    "d['list2'] = [ast.literal_eval(x) for x in d['list']]"
   ]
  },
  {
   "cell_type": "code",
   "execution_count": 11,
   "metadata": {
    "collapsed": true
   },
   "outputs": [],
   "source": [
    "d[['n', 'mean', 'var']] = pd.DataFrame(d.list2.values.tolist(), index= d.index)"
   ]
  },
  {
   "cell_type": "code",
   "execution_count": 26,
   "metadata": {
    "collapsed": false
   },
   "outputs": [],
   "source": [
    "#del d['list']\n",
    "d['sd'] = np.sqrt(d['var']/d['n'])\n",
    "d['lower'] = d['mean'] - 1.96*d['sd']\n",
    "d['upper'] = d['mean'] + 1.96*d['sd']"
   ]
  },
  {
   "cell_type": "code",
   "execution_count": 27,
   "metadata": {
    "collapsed": false,
    "scrolled": true
   },
   "outputs": [
    {
     "data": {
      "text/html": [
       "<div>\n",
       "<style>\n",
       "    .dataframe thead tr:only-child th {\n",
       "        text-align: right;\n",
       "    }\n",
       "\n",
       "    .dataframe thead th {\n",
       "        text-align: left;\n",
       "    }\n",
       "\n",
       "    .dataframe tbody tr th {\n",
       "        vertical-align: top;\n",
       "    }\n",
       "</style>\n",
       "<table border=\"1\" class=\"dataframe\">\n",
       "  <thead>\n",
       "    <tr style=\"text-align: right;\">\n",
       "      <th></th>\n",
       "      <th>key</th>\n",
       "      <th>list</th>\n",
       "      <th>list2</th>\n",
       "      <th>n</th>\n",
       "      <th>mean</th>\n",
       "      <th>var</th>\n",
       "      <th>sd</th>\n",
       "      <th>lower</th>\n",
       "      <th>upper</th>\n",
       "    </tr>\n",
       "  </thead>\n",
       "  <tbody>\n",
       "    <tr>\n",
       "      <th>0</th>\n",
       "      <td>0</td>\n",
       "      <td>[834237.0, 11.562434283892557, 87499013.8387025]</td>\n",
       "      <td>[834237.0, 11.562434283892557, 87499013.8387025]</td>\n",
       "      <td>834237.0</td>\n",
       "      <td>11.562434</td>\n",
       "      <td>8.749901e+07</td>\n",
       "      <td>10.241342</td>\n",
       "      <td>-8.510595</td>\n",
       "      <td>31.635464</td>\n",
       "    </tr>\n",
       "    <tr>\n",
       "      <th>1</th>\n",
       "      <td>1</td>\n",
       "      <td>[833777.0, 22.067051460814614, 92621488.47560832]</td>\n",
       "      <td>[833777.0, 22.067051460814614, 92621488.47560832]</td>\n",
       "      <td>833777.0</td>\n",
       "      <td>22.067051</td>\n",
       "      <td>9.262149e+07</td>\n",
       "      <td>10.539765</td>\n",
       "      <td>1.409112</td>\n",
       "      <td>42.724991</td>\n",
       "    </tr>\n",
       "    <tr>\n",
       "      <th>2</th>\n",
       "      <td>10</td>\n",
       "      <td>[834949.0, -2.8455360916440164, 105563887.9812...</td>\n",
       "      <td>[834949.0, -2.8455360916440164, 105563887.9812...</td>\n",
       "      <td>834949.0</td>\n",
       "      <td>-2.845536</td>\n",
       "      <td>1.055639e+08</td>\n",
       "      <td>11.244178</td>\n",
       "      <td>-24.884125</td>\n",
       "      <td>19.193053</td>\n",
       "    </tr>\n",
       "    <tr>\n",
       "      <th>3</th>\n",
       "      <td>11</td>\n",
       "      <td>[832304.0, 34.5728640569971, 79515773.7313861]</td>\n",
       "      <td>[832304.0, 34.5728640569971, 79515773.7313861]</td>\n",
       "      <td>832304.0</td>\n",
       "      <td>34.572864</td>\n",
       "      <td>7.951577e+07</td>\n",
       "      <td>9.774300</td>\n",
       "      <td>15.415237</td>\n",
       "      <td>53.730492</td>\n",
       "    </tr>\n",
       "    <tr>\n",
       "      <th>4</th>\n",
       "      <td>2</td>\n",
       "      <td>[832451.0, -14.857210333720584, 87338145.96809...</td>\n",
       "      <td>[832451.0, -14.857210333720584, 87338145.96809...</td>\n",
       "      <td>832451.0</td>\n",
       "      <td>-14.857210</td>\n",
       "      <td>8.733815e+07</td>\n",
       "      <td>10.242893</td>\n",
       "      <td>-34.933281</td>\n",
       "      <td>5.218860</td>\n",
       "    </tr>\n",
       "  </tbody>\n",
       "</table>\n",
       "</div>"
      ],
      "text/plain": [
       "   key                                               list  \\\n",
       "0    0   [834237.0, 11.562434283892557, 87499013.8387025]   \n",
       "1    1  [833777.0, 22.067051460814614, 92621488.47560832]   \n",
       "2   10  [834949.0, -2.8455360916440164, 105563887.9812...   \n",
       "3   11     [832304.0, 34.5728640569971, 79515773.7313861]   \n",
       "4    2  [832451.0, -14.857210333720584, 87338145.96809...   \n",
       "\n",
       "                                               list2         n       mean  \\\n",
       "0   [834237.0, 11.562434283892557, 87499013.8387025]  834237.0  11.562434   \n",
       "1  [833777.0, 22.067051460814614, 92621488.47560832]  833777.0  22.067051   \n",
       "2  [834949.0, -2.8455360916440164, 105563887.9812...  834949.0  -2.845536   \n",
       "3     [832304.0, 34.5728640569971, 79515773.7313861]  832304.0  34.572864   \n",
       "4  [832451.0, -14.857210333720584, 87338145.96809...  832451.0 -14.857210   \n",
       "\n",
       "            var         sd      lower      upper  \n",
       "0  8.749901e+07  10.241342  -8.510595  31.635464  \n",
       "1  9.262149e+07  10.539765   1.409112  42.724991  \n",
       "2  1.055639e+08  11.244178 -24.884125  19.193053  \n",
       "3  7.951577e+07   9.774300  15.415237  53.730492  \n",
       "4  8.733815e+07  10.242893 -34.933281   5.218860  "
      ]
     },
     "execution_count": 27,
     "metadata": {},
     "output_type": "execute_result"
    }
   ],
   "source": [
    "d.head()"
   ]
  },
  {
   "cell_type": "code",
   "execution_count": 53,
   "metadata": {
    "collapsed": false
   },
   "outputs": [
    {
     "data": {
      "image/png": "[encoded data removed]",
      "text/plain": [
       "<matplotlib.figure.Figure at 0x225c3661320>"
      ]
     },
     "metadata": {},
     "output_type": "display_data"
    }
   ],
   "source": [
    "plt.errorbar(d['key'], d['mean'], xerr=0, yerr=1.96*d['sd'], fmt='o')\n",
    "plt.title('Mean and 95% Confidence Intervals for each Key')\n",
    "plt.ylabel('Value')\n",
    "plt.xlabel('Key')\n",
    "plt.show()"
   ]
  },
  {
   "cell_type": "markdown",
   "metadata": {},
   "source": [
    "# Problem 3: Graph Processing: Counting Triangles with `PySpark`\n",
    "**Problem 1:** We wrote a script to complete this task which is called `spoonert.hw9.3.py` and is attached to this submission."
   ]
  },
  {
   "cell_type": "markdown",
   "metadata": {},
   "source": [
    "**Problem 2:** We tested our script on the 5 simple files in the HDFS directory and outputted the results in `small_triangle_list.txt` which is attached."
   ]
  },
  {
   "cell_type": "markdown",
   "metadata": {},
   "source": [
    "To run the job we ran it on spark using the following command"
   ]
  },
  {
   "cell_type": "raw",
   "metadata": {},
   "source": [
    "spark-submit --master yarn --queue teaching spoonert.hw9.3.py /var/stat701w18/fof/friends.simple prob3_small"
   ]
  },
  {
   "cell_type": "markdown",
   "metadata": {},
   "source": [
    "Then to get the files into one text file by:"
   ]
  },
  {
   "cell_type": "raw",
   "metadata": {},
   "source": [
    "hdfs dfs -cat prob3_small/part-* > small_triangle_list.txt"
   ]
  },
  {
   "cell_type": "code",
   "execution_count": 1,
   "metadata": {
    "collapsed": false
   },
   "outputs": [],
   "source": [
    "tris = []\n",
    "with open(\"small_triangle_list.txt\") as f:\n",
    "    for line in f:\n",
    "        tris.append(line.strip('\\n'))"
   ]
  },
  {
   "cell_type": "code",
   "execution_count": 2,
   "metadata": {
    "collapsed": false
   },
   "outputs": [
    {
     "data": {
      "text/plain": [
       "['100 200 217',\n",
       " '100 200 300',\n",
       " '100 200 400',\n",
       " '100 300 400',\n",
       " '200 300 400',\n",
       " '300 400 500']"
      ]
     },
     "execution_count": 2,
     "metadata": {},
     "output_type": "execute_result"
    }
   ],
   "source": [
    "tris"
   ]
  },
  {
   "cell_type": "markdown",
   "metadata": {},
   "source": [
    "We see that there are 6 friendship triangles in the small dataset example."
   ]
  },
  {
   "cell_type": "markdown",
   "metadata": {},
   "source": [
    "**Problem 3:** We now use the script on the much bigger friend list. It list a bunch of popular people with so many friends! To run our script we use:"
   ]
  },
  {
   "cell_type": "raw",
   "metadata": {},
   "source": [
    "spark-submit --master yarn --queue teaching spoonert.hw9.3.py /var/stat701w18/fof/friends1000 prob3_large"
   ]
  },
  {
   "cell_type": "markdown",
   "metadata": {},
   "source": [
    "Then we put all the files into one large text file."
   ]
  },
  {
   "cell_type": "raw",
   "metadata": {},
   "source": [
    "hdfs dfs -cat prob3_large/part-* > big_triangle_list.txt"
   ]
  },
  {
   "cell_type": "markdown",
   "metadata": {},
   "source": [
    "And we used the scp command to copy it to my local machine. The script is attached in the submission."
   ]
  },
  {
   "cell_type": "code",
   "execution_count": 1,
   "metadata": {
    "collapsed": false
   },
   "outputs": [],
   "source": [
    "tris = []\n",
    "with open(\"big_triangle_list.txt\") as f:\n",
    "    for line in f:\n",
    "        tris.append(line.strip('\\n'))"
   ]
  },
  {
   "cell_type": "code",
   "execution_count": 2,
   "metadata": {
    "collapsed": false
   },
   "outputs": [
    {
     "data": {
      "text/plain": [
       "144120"
      ]
     },
     "execution_count": 2,
     "metadata": {},
     "output_type": "execute_result"
    }
   ],
   "source": [
    "len(tris)"
   ]
  },
  {
   "cell_type": "markdown",
   "metadata": {},
   "source": [
    "There are 144,120 triangles in the big dataeset."
   ]
  },
  {
   "cell_type": "code",
   "execution_count": 9,
   "metadata": {
    "collapsed": false
   },
   "outputs": [
    {
     "data": {
      "text/plain": [
       "['0 7 74',\n",
       " '0 7 193',\n",
       " '0 7 283',\n",
       " '0 7 332',\n",
       " '0 7 483',\n",
       " '0 7 602',\n",
       " '0 7 692',\n",
       " '0 11 42',\n",
       " '0 11 82',\n",
       " '0 11 127']"
      ]
     },
     "execution_count": 9,
     "metadata": {},
     "output_type": "execute_result"
    }
   ],
   "source": [
    "tris[0:10]"
   ]
  }
 ],
 "metadata": {
  "kernelspec": {
   "display_name": "Python 3",
   "language": "python",
   "name": "python3"
  },
  "language_info": {
   "codemirror_mode": {
    "name": "ipython",
    "version": 3
   },
   "file_extension": ".py",
   "mimetype": "text/x-python",
   "name": "python",
   "nbconvert_exporter": "python",
   "pygments_lexer": "ipython3",
   "version": "3.6.0"
  }
 },
 "nbformat": 4,
 "nbformat_minor": 2
}
